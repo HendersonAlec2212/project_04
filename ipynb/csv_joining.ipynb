{
 "cells": [
  {
   "cell_type": "code",
   "execution_count": 1,
   "id": "a60d26f1",
   "metadata": {},
   "outputs": [
    {
     "data": {
      "text/plain": [
       "'C:\\\\Users\\\\Alec\\\\Documents\\\\Programming_Resources\\\\Boot_Camp\\\\project-04\\\\CISautoData\\\\ipynb'"
      ]
     },
     "execution_count": 1,
     "metadata": {},
     "output_type": "execute_result"
    }
   ],
   "source": [
    "import pandas as pd\n",
    "from os import getcwd\n",
    "getcwd()"
   ]
  },
  {
   "cell_type": "code",
   "execution_count": 2,
   "id": "d2d150b8",
   "metadata": {},
   "outputs": [],
   "source": [
    "trucks = '../csv/PICKUP_DATA_CLEAN.csv'\n",
    "sedan = '../csv/SEDAN_DATA_CLEAN.csv'\n",
    "suv = '../csv/SUV_DATA_CLEAN.csv'"
   ]
  },
  {
   "cell_type": "code",
   "execution_count": 3,
   "id": "df12ad34",
   "metadata": {},
   "outputs": [],
   "source": [
    "trucks_df = pd.read_csv(trucks)\n",
    "sedan_df = pd.read_csv(sedan)\n",
    "suv_df = pd.read_csv(suv)\n",
    "\n",
    "df_list = [trucks_df,sedan_df,suv_df,]"
   ]
  },
  {
   "cell_type": "code",
   "execution_count": 4,
   "id": "f654dd13",
   "metadata": {},
   "outputs": [
    {
     "data": {
      "text/html": [
       "<div>\n",
       "<style scoped>\n",
       "    .dataframe tbody tr th:only-of-type {\n",
       "        vertical-align: middle;\n",
       "    }\n",
       "\n",
       "    .dataframe tbody tr th {\n",
       "        vertical-align: top;\n",
       "    }\n",
       "\n",
       "    .dataframe thead th {\n",
       "        text-align: right;\n",
       "    }\n",
       "</style>\n",
       "<table border=\"1\" class=\"dataframe\">\n",
       "  <thead>\n",
       "    <tr style=\"text-align: right;\">\n",
       "      <th></th>\n",
       "      <th>brandName</th>\n",
       "      <th>modelName</th>\n",
       "      <th>vf_ModelID</th>\n",
       "      <th>vf_ModelYear</th>\n",
       "      <th>mileage</th>\n",
       "      <th>askPrice</th>\n",
       "      <th>msrp</th>\n",
       "      <th>color</th>\n",
       "      <th>vf_EngineCylinders</th>\n",
       "      <th>vf_FuelTypePrimary</th>\n",
       "      <th>vin</th>\n",
       "    </tr>\n",
       "  </thead>\n",
       "  <tbody>\n",
       "  </tbody>\n",
       "</table>\n",
       "</div>"
      ],
      "text/plain": [
       "Empty DataFrame\n",
       "Columns: [brandName, modelName, vf_ModelID, vf_ModelYear, mileage, askPrice, msrp, color, vf_EngineCylinders, vf_FuelTypePrimary, vin]\n",
       "Index: []"
      ]
     },
     "execution_count": 4,
     "metadata": {},
     "output_type": "execute_result"
    }
   ],
   "source": [
    "trucks_df.head(0)"
   ]
  },
  {
   "cell_type": "code",
   "execution_count": 8,
   "id": "a8a3c410",
   "metadata": {},
   "outputs": [],
   "source": [
    "trucks_df['bodyclass']='truck'"
   ]
  },
  {
   "cell_type": "code",
   "execution_count": 10,
   "id": "3f31797e",
   "metadata": {
    "scrolled": true
   },
   "outputs": [],
   "source": [
    "sedan_df['bodyclass'] = 'sedan'"
   ]
  },
  {
   "cell_type": "code",
   "execution_count": 11,
   "id": "a2d30a59",
   "metadata": {},
   "outputs": [],
   "source": [
    "suv_df['bodyclass'] = 'suv'"
   ]
  },
  {
   "cell_type": "code",
   "execution_count": 12,
   "id": "3bfed34d",
   "metadata": {},
   "outputs": [],
   "source": [
    "full_df = pd.concat(df_list)"
   ]
  },
  {
   "cell_type": "code",
   "execution_count": 13,
   "id": "d04712e4",
   "metadata": {},
   "outputs": [],
   "source": [
    "def order_and_rename(dataframe):\n",
    "    dataframe = dataframe[['bodyclass'\n",
    "    ,'brandName'\n",
    "    ,'modelName'\n",
    "    ,'vf_ModelID'\n",
    "    ,'vf_ModelYear'\n",
    "    ,'mileage'\n",
    "    ,'askPrice'\n",
    "    ,'msrp'\n",
    "    ,'color'\n",
    "    ,'vf_EngineCylinders'\n",
    "    ,'vf_FuelTypePrimary'\n",
    "    ,'vin']]\n",
    "\n",
    "    dataframe = dataframe.rename(columns={\n",
    "    'brandName': 'brand_name',\n",
    "    'modelName': 'model_name',\n",
    "    'vf_ModelID': 'model_ID',\n",
    "    'vf_ModelYear': 'model_year',\n",
    "    'mileage': 'mileage',\n",
    "    'askPrice': 'ask_price',\n",
    "    'msrp': 'msrp',\n",
    "    'color': 'color',\n",
    "    'vf_EngineCylinders': 'engine_cylinders',\n",
    "    'vf_FuelTypePrimary': 'fuel_type_primary',\n",
    "    'vin': 'vin',\n",
    "    'bodyclass':'body_class',\n",
    "    })\n",
    "\n",
    "    return dataframe"
   ]
  },
  {
   "cell_type": "code",
   "execution_count": 14,
   "id": "3bea6015",
   "metadata": {
    "scrolled": true
   },
   "outputs": [],
   "source": [
    "sedan_df = order_and_rename(sedan_df)\n",
    "suv_df = order_and_rename(suv_df)\n",
    "trucks_df = order_and_rename(trucks_df)    \n",
    "full_df = order_and_rename(full_df)"
   ]
  },
  {
   "cell_type": "code",
   "execution_count": 16,
   "id": "eb827bc7",
   "metadata": {},
   "outputs": [
    {
     "data": {
      "text/html": [
       "<div>\n",
       "<style scoped>\n",
       "    .dataframe tbody tr th:only-of-type {\n",
       "        vertical-align: middle;\n",
       "    }\n",
       "\n",
       "    .dataframe tbody tr th {\n",
       "        vertical-align: top;\n",
       "    }\n",
       "\n",
       "    .dataframe thead th {\n",
       "        text-align: right;\n",
       "    }\n",
       "</style>\n",
       "<table border=\"1\" class=\"dataframe\">\n",
       "  <thead>\n",
       "    <tr style=\"text-align: right;\">\n",
       "      <th></th>\n",
       "      <th>body_class</th>\n",
       "      <th>brand_name</th>\n",
       "      <th>model_name</th>\n",
       "      <th>model_ID</th>\n",
       "      <th>model_year</th>\n",
       "      <th>mileage</th>\n",
       "      <th>ask_price</th>\n",
       "      <th>msrp</th>\n",
       "      <th>color</th>\n",
       "      <th>engine_cylinders</th>\n",
       "      <th>fuel_type_primary</th>\n",
       "      <th>vin</th>\n",
       "    </tr>\n",
       "  </thead>\n",
       "  <tbody>\n",
       "  </tbody>\n",
       "</table>\n",
       "</div>"
      ],
      "text/plain": [
       "Empty DataFrame\n",
       "Columns: [body_class, brand_name, model_name, model_ID, model_year, mileage, ask_price, msrp, color, engine_cylinders, fuel_type_primary, vin]\n",
       "Index: []"
      ]
     },
     "execution_count": 16,
     "metadata": {},
     "output_type": "execute_result"
    }
   ],
   "source": [
    "suv_df.head(0)"
   ]
  },
  {
   "cell_type": "code",
   "execution_count": 17,
   "id": "baa3ca04",
   "metadata": {},
   "outputs": [
    {
     "data": {
      "text/html": [
       "<div>\n",
       "<style scoped>\n",
       "    .dataframe tbody tr th:only-of-type {\n",
       "        vertical-align: middle;\n",
       "    }\n",
       "\n",
       "    .dataframe tbody tr th {\n",
       "        vertical-align: top;\n",
       "    }\n",
       "\n",
       "    .dataframe thead th {\n",
       "        text-align: right;\n",
       "    }\n",
       "</style>\n",
       "<table border=\"1\" class=\"dataframe\">\n",
       "  <thead>\n",
       "    <tr style=\"text-align: right;\">\n",
       "      <th></th>\n",
       "      <th>body_class</th>\n",
       "      <th>brand_name</th>\n",
       "      <th>model_name</th>\n",
       "      <th>model_ID</th>\n",
       "      <th>model_year</th>\n",
       "      <th>mileage</th>\n",
       "      <th>ask_price</th>\n",
       "      <th>msrp</th>\n",
       "      <th>color</th>\n",
       "      <th>engine_cylinders</th>\n",
       "      <th>fuel_type_primary</th>\n",
       "      <th>vin</th>\n",
       "    </tr>\n",
       "  </thead>\n",
       "  <tbody>\n",
       "  </tbody>\n",
       "</table>\n",
       "</div>"
      ],
      "text/plain": [
       "Empty DataFrame\n",
       "Columns: [body_class, brand_name, model_name, model_ID, model_year, mileage, ask_price, msrp, color, engine_cylinders, fuel_type_primary, vin]\n",
       "Index: []"
      ]
     },
     "execution_count": 17,
     "metadata": {},
     "output_type": "execute_result"
    }
   ],
   "source": [
    "sedan_df.head(0)"
   ]
  },
  {
   "cell_type": "code",
   "execution_count": 18,
   "id": "ac01f11b",
   "metadata": {},
   "outputs": [
    {
     "data": {
      "text/html": [
       "<div>\n",
       "<style scoped>\n",
       "    .dataframe tbody tr th:only-of-type {\n",
       "        vertical-align: middle;\n",
       "    }\n",
       "\n",
       "    .dataframe tbody tr th {\n",
       "        vertical-align: top;\n",
       "    }\n",
       "\n",
       "    .dataframe thead th {\n",
       "        text-align: right;\n",
       "    }\n",
       "</style>\n",
       "<table border=\"1\" class=\"dataframe\">\n",
       "  <thead>\n",
       "    <tr style=\"text-align: right;\">\n",
       "      <th></th>\n",
       "      <th>body_class</th>\n",
       "      <th>brand_name</th>\n",
       "      <th>model_name</th>\n",
       "      <th>model_ID</th>\n",
       "      <th>model_year</th>\n",
       "      <th>mileage</th>\n",
       "      <th>ask_price</th>\n",
       "      <th>msrp</th>\n",
       "      <th>color</th>\n",
       "      <th>engine_cylinders</th>\n",
       "      <th>fuel_type_primary</th>\n",
       "      <th>vin</th>\n",
       "    </tr>\n",
       "  </thead>\n",
       "  <tbody>\n",
       "  </tbody>\n",
       "</table>\n",
       "</div>"
      ],
      "text/plain": [
       "Empty DataFrame\n",
       "Columns: [body_class, brand_name, model_name, model_ID, model_year, mileage, ask_price, msrp, color, engine_cylinders, fuel_type_primary, vin]\n",
       "Index: []"
      ]
     },
     "execution_count": 18,
     "metadata": {},
     "output_type": "execute_result"
    }
   ],
   "source": [
    "trucks_df.head(0)"
   ]
  },
  {
   "cell_type": "code",
   "execution_count": 15,
   "id": "04cf0a1d",
   "metadata": {},
   "outputs": [
    {
     "data": {
      "text/html": [
       "<div>\n",
       "<style scoped>\n",
       "    .dataframe tbody tr th:only-of-type {\n",
       "        vertical-align: middle;\n",
       "    }\n",
       "\n",
       "    .dataframe tbody tr th {\n",
       "        vertical-align: top;\n",
       "    }\n",
       "\n",
       "    .dataframe thead th {\n",
       "        text-align: right;\n",
       "    }\n",
       "</style>\n",
       "<table border=\"1\" class=\"dataframe\">\n",
       "  <thead>\n",
       "    <tr style=\"text-align: right;\">\n",
       "      <th></th>\n",
       "      <th>body_class</th>\n",
       "      <th>brand_name</th>\n",
       "      <th>model_name</th>\n",
       "      <th>model_ID</th>\n",
       "      <th>model_year</th>\n",
       "      <th>mileage</th>\n",
       "      <th>ask_price</th>\n",
       "      <th>msrp</th>\n",
       "      <th>color</th>\n",
       "      <th>engine_cylinders</th>\n",
       "      <th>fuel_type_primary</th>\n",
       "      <th>vin</th>\n",
       "    </tr>\n",
       "  </thead>\n",
       "  <tbody>\n",
       "  </tbody>\n",
       "</table>\n",
       "</div>"
      ],
      "text/plain": [
       "Empty DataFrame\n",
       "Columns: [body_class, brand_name, model_name, model_ID, model_year, mileage, ask_price, msrp, color, engine_cylinders, fuel_type_primary, vin]\n",
       "Index: []"
      ]
     },
     "execution_count": 15,
     "metadata": {},
     "output_type": "execute_result"
    }
   ],
   "source": [
    "full_df.head(0)"
   ]
  },
  {
   "cell_type": "code",
   "execution_count": 19,
   "id": "eb58bc9a",
   "metadata": {},
   "outputs": [],
   "source": [
    "full_df.to_csv('../csv/all_bodyclass_clean.csv', index = False)"
   ]
  },
  {
   "cell_type": "code",
   "execution_count": 20,
   "id": "a8f02ea4",
   "metadata": {},
   "outputs": [],
   "source": [
    "trucks_df.to_csv('../csv/PICKUP_DATA_CLEAN.csv', index = False)\n",
    "sedan_df.to_csv('../csv/SEDAN_DATA_CLEAN.csv', index = False)\n",
    "suv_df.to_csv('../csv/SUV_DATA_CLEAN.csv', index = False)"
   ]
  },
  {
   "cell_type": "code",
   "execution_count": null,
   "id": "8d89d759",
   "metadata": {},
   "outputs": [],
   "source": []
  }
 ],
 "metadata": {
  "kernelspec": {
   "display_name": "Python 3",
   "language": "python",
   "name": "python3"
  },
  "language_info": {
   "codemirror_mode": {
    "name": "ipython",
    "version": 3
   },
   "file_extension": ".py",
   "mimetype": "text/x-python",
   "name": "python",
   "nbconvert_exporter": "python",
   "pygments_lexer": "ipython3",
   "version": "3.8.8"
  }
 },
 "nbformat": 4,
 "nbformat_minor": 5
}
