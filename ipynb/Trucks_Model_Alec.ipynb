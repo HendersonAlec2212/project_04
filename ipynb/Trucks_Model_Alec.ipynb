{
 "cells": [
  {
   "cell_type": "code",
   "execution_count": 1,
   "metadata": {},
   "outputs": [
    {
     "data": {
      "text/plain": [
       "'C:\\\\Users\\\\Alec\\\\Documents\\\\Programming_Resources\\\\Boot_Camp\\\\project-04\\\\CISautoData\\\\ipynb'"
      ]
     },
     "execution_count": 1,
     "metadata": {},
     "output_type": "execute_result"
    }
   ],
   "source": [
    "import pandas as pd\n",
    "from sklearn.ensemble import RandomForestRegressor\n",
    "from sklearn.model_selection import train_test_split\n",
    "import joblib\n",
    "\n",
    "%matplotlib inline\n",
    "from matplotlib import pyplot as plt\n",
    "\n",
    "# import matplotlib.pyplot\n",
    "from os import getcwd\n",
    "getcwd()"
   ]
  },
  {
   "cell_type": "code",
   "execution_count": 2,
   "metadata": {},
   "outputs": [],
   "source": [
    "# data = pd.read_csv('https://raw.githubusercontent.com/HendersonAlec2212/project_04/main/csv/PICKUP_DATA_CLEAN.csv', low_memory=False)\n",
    "df = pd.read_csv('../csv/PICKUP_DATA_CLEAN.csv')"
   ]
  },
  {
   "cell_type": "code",
   "execution_count": 3,
   "metadata": {},
   "outputs": [
    {
     "data": {
      "text/html": [
       "<div>\n",
       "<style scoped>\n",
       "    .dataframe tbody tr th:only-of-type {\n",
       "        vertical-align: middle;\n",
       "    }\n",
       "\n",
       "    .dataframe tbody tr th {\n",
       "        vertical-align: top;\n",
       "    }\n",
       "\n",
       "    .dataframe thead th {\n",
       "        text-align: right;\n",
       "    }\n",
       "</style>\n",
       "<table border=\"1\" class=\"dataframe\">\n",
       "  <thead>\n",
       "    <tr style=\"text-align: right;\">\n",
       "      <th></th>\n",
       "      <th>body_class</th>\n",
       "      <th>brand_name</th>\n",
       "      <th>model_name</th>\n",
       "      <th>model_ID</th>\n",
       "      <th>model_year</th>\n",
       "      <th>mileage</th>\n",
       "      <th>ask_price</th>\n",
       "      <th>msrp</th>\n",
       "      <th>color</th>\n",
       "      <th>engine_cylinders</th>\n",
       "      <th>fuel_type_primary</th>\n",
       "      <th>vin</th>\n",
       "    </tr>\n",
       "  </thead>\n",
       "  <tbody>\n",
       "    <tr>\n",
       "      <th>0</th>\n",
       "      <td>truck</td>\n",
       "      <td>FORD</td>\n",
       "      <td>F-250</td>\n",
       "      <td>1805.0</td>\n",
       "      <td>2017.0</td>\n",
       "      <td>19106</td>\n",
       "      <td>40962</td>\n",
       "      <td>40962</td>\n",
       "      <td>Ingot Silver Metallic</td>\n",
       "      <td>8.0</td>\n",
       "      <td>Diesel</td>\n",
       "      <td>bcd4bbecbba3b9ed2330d543abc3d90b997aa8fa6e628d...</td>\n",
       "    </tr>\n",
       "    <tr>\n",
       "      <th>1</th>\n",
       "      <td>truck</td>\n",
       "      <td>FORD</td>\n",
       "      <td>F-150</td>\n",
       "      <td>1801.0</td>\n",
       "      <td>2017.0</td>\n",
       "      <td>28194</td>\n",
       "      <td>28962</td>\n",
       "      <td>28962</td>\n",
       "      <td>Ingot Silver Metallic</td>\n",
       "      <td>6.0</td>\n",
       "      <td>Gasoline</td>\n",
       "      <td>a8f09496d9523e33ee3a8f885a475f5ef001d68a334c98...</td>\n",
       "    </tr>\n",
       "    <tr>\n",
       "      <th>2</th>\n",
       "      <td>truck</td>\n",
       "      <td>GMC</td>\n",
       "      <td>Sierra</td>\n",
       "      <td>1857.0</td>\n",
       "      <td>2017.0</td>\n",
       "      <td>7483</td>\n",
       "      <td>43962</td>\n",
       "      <td>43962</td>\n",
       "      <td>Crimson Red Tintcoat</td>\n",
       "      <td>8.0</td>\n",
       "      <td>Gasoline</td>\n",
       "      <td>c65dd3e96f4f68a0d4c7b09005273e0312295057c7c529...</td>\n",
       "    </tr>\n",
       "    <tr>\n",
       "      <th>3</th>\n",
       "      <td>truck</td>\n",
       "      <td>FORD</td>\n",
       "      <td>F-250</td>\n",
       "      <td>1805.0</td>\n",
       "      <td>2017.0</td>\n",
       "      <td>23881</td>\n",
       "      <td>38962</td>\n",
       "      <td>38962</td>\n",
       "      <td>Oxford White</td>\n",
       "      <td>8.0</td>\n",
       "      <td>Diesel</td>\n",
       "      <td>966168515802a7cf510d6c87a15cf71cc4385316a504c6...</td>\n",
       "    </tr>\n",
       "    <tr>\n",
       "      <th>4</th>\n",
       "      <td>truck</td>\n",
       "      <td>GMC</td>\n",
       "      <td>Canyon</td>\n",
       "      <td>4093.0</td>\n",
       "      <td>2017.0</td>\n",
       "      <td>6333</td>\n",
       "      <td>30962</td>\n",
       "      <td>30962</td>\n",
       "      <td>Onyx Black</td>\n",
       "      <td>6.0</td>\n",
       "      <td>Gasoline</td>\n",
       "      <td>9c7648c843035d0b46e9d716d947dfa3d0e8881054247a...</td>\n",
       "    </tr>\n",
       "  </tbody>\n",
       "</table>\n",
       "</div>"
      ],
      "text/plain": [
       "  body_class brand_name model_name  model_ID  model_year  mileage  ask_price  \\\n",
       "0      truck       FORD      F-250    1805.0      2017.0    19106      40962   \n",
       "1      truck       FORD      F-150    1801.0      2017.0    28194      28962   \n",
       "2      truck        GMC     Sierra    1857.0      2017.0     7483      43962   \n",
       "3      truck       FORD      F-250    1805.0      2017.0    23881      38962   \n",
       "4      truck        GMC     Canyon    4093.0      2017.0     6333      30962   \n",
       "\n",
       "    msrp                  color  engine_cylinders fuel_type_primary  \\\n",
       "0  40962  Ingot Silver Metallic               8.0            Diesel   \n",
       "1  28962  Ingot Silver Metallic               6.0          Gasoline   \n",
       "2  43962   Crimson Red Tintcoat               8.0          Gasoline   \n",
       "3  38962           Oxford White               8.0            Diesel   \n",
       "4  30962             Onyx Black               6.0          Gasoline   \n",
       "\n",
       "                                                 vin  \n",
       "0  bcd4bbecbba3b9ed2330d543abc3d90b997aa8fa6e628d...  \n",
       "1  a8f09496d9523e33ee3a8f885a475f5ef001d68a334c98...  \n",
       "2  c65dd3e96f4f68a0d4c7b09005273e0312295057c7c529...  \n",
       "3  966168515802a7cf510d6c87a15cf71cc4385316a504c6...  \n",
       "4  9c7648c843035d0b46e9d716d947dfa3d0e8881054247a...  "
      ]
     },
     "execution_count": 3,
     "metadata": {},
     "output_type": "execute_result"
    }
   ],
   "source": [
    "df.head()"
   ]
  },
  {
   "cell_type": "code",
   "execution_count": 4,
   "metadata": {},
   "outputs": [],
   "source": [
    "depth = 7\n",
    "model_results = {}\n",
    "train_score_list = []\n",
    "test_score_list = []\n",
    "df_test = df.drop(columns=['msrp','vin','color'])\n",
    "#names for each DF/ Model to be trained\n",
    "\n",
    "\n",
    "# divide the data\n",
    "X = df_test.drop(columns=['ask_price'])\n",
    "y = df_test['ask_price']\n",
    "\n",
    "# set dummies\n",
    "X_dummies = pd.get_dummies(X,drop_first=True)\n",
    "\n",
    "# split for test and train\n",
    "X_train, X_test, y_train, y_test = train_test_split(X_dummies, y, random_state=42)\n",
    "\n",
    "# model parameters\n",
    "model = RandomForestRegressor(max_depth=depth,n_estimators=100, random_state=12)\n",
    "\n",
    "# fit the model to the data\n",
    "model.fit(X_train, y_train)\n",
    "\n",
    "# evaluate scores and predictions\n",
    "train_predicted = model.predict(X_train)\n",
    "test_predicted = model.predict(X_test)\n",
    "\n",
    "train_score = model.score(X_train,y_train,sample_weight=None)\n",
    "test_score = model.score(X_test,y_test,sample_weight=None)\n",
    "\n",
    "# record results\n",
    "\n",
    "model_results['model'] = model\n",
    "\n",
    "model_results['train_y_pred'] = train_predicted\n",
    "model_results['test_y_pred'] = test_predicted\n",
    "\n",
    "model_results['train_score']  = train_score\n",
    "model_results['test_score']  = test_score\n",
    "\n",
    "train_score_list.append(train_score)\n",
    "test_score_list.append(test_score)\n"
   ]
  },
  {
   "cell_type": "code",
   "execution_count": 5,
   "metadata": {},
   "outputs": [],
   "source": [
    "model_results['columns'] = X_train.columns.to_list()"
   ]
  },
  {
   "cell_type": "code",
   "execution_count": 6,
   "metadata": {
    "scrolled": true
   },
   "outputs": [
    {
     "data": {
      "text/plain": [
       "{'model': RandomForestRegressor(max_depth=7, random_state=12),\n",
       " 'train_y_pred': array([35042.53345986, 26915.57876003, 17306.07071883, ...,\n",
       "        31396.56378222, 31152.4935557 , 32983.41598369]),\n",
       " 'test_y_pred': array([35150.48102991, 28002.11814061, 36106.03478037, ...,\n",
       "        23018.56747505, 23916.17214639,  8737.83689792]),\n",
       " 'train_score': 0.8024988218120399,\n",
       " 'test_score': 0.7851446206812224,\n",
       " 'columns': ['model_ID',\n",
       "  'model_year',\n",
       "  'mileage',\n",
       "  'engine_cylinders',\n",
       "  'brand_name_DODGE',\n",
       "  'brand_name_FORD',\n",
       "  'brand_name_GMC',\n",
       "  'brand_name_HONDA',\n",
       "  'brand_name_HUMMER',\n",
       "  'brand_name_ISUZU',\n",
       "  'brand_name_JEEP',\n",
       "  'brand_name_LINCOLN',\n",
       "  'brand_name_MAZDA',\n",
       "  'brand_name_MITSUBISHI',\n",
       "  'brand_name_NISSAN',\n",
       "  'brand_name_RAM',\n",
       "  'brand_name_TOYOTA',\n",
       "  'model_name_2500',\n",
       "  'model_name_3500',\n",
       "  'model_name_B-Series',\n",
       "  'model_name_Blackwood',\n",
       "  'model_name_Canyon',\n",
       "  'model_name_Colorado',\n",
       "  'model_name_D-Series',\n",
       "  'model_name_Dakota',\n",
       "  'model_name_El Camino',\n",
       "  'model_name_Explorer Sport Trac',\n",
       "  'model_name_F-150',\n",
       "  'model_name_F-150 Heritage',\n",
       "  'model_name_F-250',\n",
       "  'model_name_F-350',\n",
       "  'model_name_F-450',\n",
       "  'model_name_Frontier',\n",
       "  'model_name_GMT-400',\n",
       "  'model_name_Gladiator',\n",
       "  'model_name_H3T',\n",
       "  'model_name_Mark LT',\n",
       "  'model_name_Pick-Up',\n",
       "  'model_name_Raider',\n",
       "  'model_name_Ram',\n",
       "  'model_name_Ranger',\n",
       "  'model_name_Ridgeline',\n",
       "  'model_name_S-10 Pickup',\n",
       "  'model_name_SSR',\n",
       "  'model_name_Sierra',\n",
       "  'model_name_Sierra HD',\n",
       "  'model_name_Sierra Limited',\n",
       "  'model_name_Silverado',\n",
       "  'model_name_Silverado HD',\n",
       "  'model_name_Silverado LD',\n",
       "  'model_name_Sonoma',\n",
       "  'model_name_Tacoma',\n",
       "  'model_name_Titan',\n",
       "  'model_name_Tundra',\n",
       "  'model_name_W-Series',\n",
       "  'model_name_i-290',\n",
       "  'fuel_type_primary_Gasoline']}"
      ]
     },
     "execution_count": 6,
     "metadata": {},
     "output_type": "execute_result"
    }
   ],
   "source": [
    "model_results"
   ]
  },
  {
   "cell_type": "code",
   "execution_count": 10,
   "metadata": {},
   "outputs": [
    {
     "data": {
      "text/plain": [
       "['../models/trucks_depth_6_785_no_color.joblib']"
      ]
     },
     "execution_count": 10,
     "metadata": {},
     "output_type": "execute_result"
    }
   ],
   "source": [
    "# save the model\n",
    "model = model_results['model']\n",
    "joblib.dump(model,'../models/trucks_depth_6_785_no_color.joblib')"
   ]
  },
  {
   "cell_type": "code",
   "execution_count": 11,
   "metadata": {},
   "outputs": [],
   "source": [
    "loaded_model = joblib.load('../models/trucks_depth_6_785_no_color.joblib')"
   ]
  },
  {
   "cell_type": "code",
   "execution_count": 12,
   "metadata": {},
   "outputs": [
    {
     "data": {
      "text/plain": [
       "0.7851446206812224"
      ]
     },
     "execution_count": 12,
     "metadata": {},
     "output_type": "execute_result"
    }
   ],
   "source": [
    "loaded_model.score(X_test,y_test,sample_weight=None)"
   ]
  },
  {
   "cell_type": "code",
   "execution_count": 13,
   "metadata": {},
   "outputs": [
    {
     "data": {
      "text/plain": [
       "array([35150.48102991, 28002.11814061, 36106.03478037, ...,\n",
       "       23018.56747505, 23916.17214639,  8737.83689792])"
      ]
     },
     "execution_count": 13,
     "metadata": {},
     "output_type": "execute_result"
    }
   ],
   "source": [
    "loaded_model.predict(X_test)"
   ]
  },
  {
   "cell_type": "code",
   "execution_count": 14,
   "metadata": {},
   "outputs": [
    {
     "data": {
      "text/plain": [
       "array([35150.48102991, 28002.11814061, 36106.03478037, ...,\n",
       "       23018.56747505, 23916.17214639,  8737.83689792])"
      ]
     },
     "execution_count": 14,
     "metadata": {},
     "output_type": "execute_result"
    }
   ],
   "source": [
    "model_results['test_y_pred']"
   ]
  },
  {
   "cell_type": "code",
   "execution_count": 15,
   "metadata": {},
   "outputs": [
    {
     "data": {
      "image/png": "[encoded data removed]",
      "text/plain": [
       "<Figure size 1080x720 with 1 Axes>"
      ]
     },
     "metadata": {
      "needs_background": "light"
     },
     "output_type": "display_data"
    }
   ],
   "source": [
    "feature_importances = model.feature_importances_\n",
    "features = sorted(zip(X_test.columns, model.feature_importances_), key = lambda x: x[1])\n",
    "cols = [f[0] for f in features[-10:]]\n",
    "width = [f[1] for f in features[-10:]]\n",
    "\n",
    "fig, ax = plt.subplots()\n",
    "\n",
    "fig.set_size_inches(15,10)\n",
    "plt.margins(y=0.001)\n",
    "\n",
    "plt.bar(x=cols, height=width)\n",
    "plt.title('trucks_features_top_10')\n",
    "plt.xticks(rotation=45)\n",
    "plt.savefig('../visualizations/trucks_top_10_cols.png')\n",
    "plt.show()\n"
   ]
  },
  {
   "cell_type": "code",
   "execution_count": 16,
   "metadata": {},
   "outputs": [
    {
     "name": "stdout",
     "output_type": "stream",
     "text": [
      "['model_ID', 'model_year', 'mileage', 'engine_cylinders', 'brand_name_DODGE', 'brand_name_FORD', 'brand_name_GMC', 'brand_name_HONDA', 'brand_name_HUMMER', 'brand_name_ISUZU', 'brand_name_JEEP', 'brand_name_LINCOLN', 'brand_name_MAZDA', 'brand_name_MITSUBISHI', 'brand_name_NISSAN', 'brand_name_RAM', 'brand_name_TOYOTA', 'model_name_2500', 'model_name_3500', 'model_name_B-Series', 'model_name_Blackwood', 'model_name_Canyon', 'model_name_Colorado', 'model_name_D-Series', 'model_name_Dakota', 'model_name_El Camino', 'model_name_Explorer Sport Trac', 'model_name_F-150', 'model_name_F-150 Heritage', 'model_name_F-250', 'model_name_F-350', 'model_name_F-450', 'model_name_Frontier', 'model_name_GMT-400', 'model_name_Gladiator', 'model_name_H3T', 'model_name_Mark LT', 'model_name_Pick-Up', 'model_name_Raider', 'model_name_Ram', 'model_name_Ranger', 'model_name_Ridgeline', 'model_name_S-10 Pickup', 'model_name_SSR', 'model_name_Sierra', 'model_name_Sierra HD', 'model_name_Sierra Limited', 'model_name_Silverado', 'model_name_Silverado HD', 'model_name_Silverado LD', 'model_name_Sonoma', 'model_name_Tacoma', 'model_name_Titan', 'model_name_Tundra', 'model_name_W-Series', 'model_name_i-290', 'fuel_type_primary_Gasoline']\n"
     ]
    }
   ],
   "source": [
    "print(model_results['columns'])"
   ]
  },
  {
   "cell_type": "code",
   "execution_count": null,
   "metadata": {},
   "outputs": [],
   "source": []
  }
 ],
 "metadata": {
  "interpreter": {
   "hash": "6d65008838679b4576a340dc87baa2d74072c245eec5fa572c0008114b64086e"
  },
  "kernelspec": {
   "display_name": "Python 3",
   "language": "python",
   "name": "python3"
  },
  "language_info": {
   "codemirror_mode": {
    "name": "ipython",
    "version": 3
   },
   "file_extension": ".py",
   "mimetype": "text/x-python",
   "name": "python",
   "nbconvert_exporter": "python",
   "pygments_lexer": "ipython3",
   "version": "3.8.8"
  }
 },
 "nbformat": 4,
 "nbformat_minor": 2
}
