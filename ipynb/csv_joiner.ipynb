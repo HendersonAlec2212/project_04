{
 "cells": [
  {
   "cell_type": "code",
   "execution_count": 1,
   "id": "d7a745ba",
   "metadata": {},
   "outputs": [],
   "source": [
    "import pandas as pd"
   ]
  },
  {
   "cell_type": "code",
   "execution_count": 2,
   "id": "fc21ff86",
   "metadata": {},
   "outputs": [],
   "source": [
    "trucks = 'csv/PICKUP_DATA_CLEAN.csv'\n",
    "sedan = 'csv/SEDAN_DATA_CLEAN.csv'\n",
    "suv = 'csv/SUV_DATA_CLEAN.csv'"
   ]
  },
  {
   "cell_type": "code",
   "execution_count": 4,
   "id": "f46005ef",
   "metadata": {},
   "outputs": [],
   "source": [
    "trucks_df = pd.read_csv(trucks)\n",
    "sedan_df = pd.read_csv(sedan)\n",
    "suv_df = pd.read_csv(suv)"
   ]
  },
  {
   "cell_type": "code",
   "execution_count": 5,
   "id": "35c907f9",
   "metadata": {},
   "outputs": [],
   "source": [
    "df_list = [trucks_df, sedan_df, suv_df]"
   ]
  },
  {
   "cell_type": "code",
   "execution_count": 6,
   "id": "5c0a2dfa",
   "metadata": {},
   "outputs": [],
   "source": [
    "full_df = pd.concat(df_list)"
   ]
  },
  {
   "cell_type": "code",
   "execution_count": 8,
   "id": "0bc24f5a",
   "metadata": {},
   "outputs": [],
   "source": [
    "full_df.to_csv('joined_csv.csv')"
   ]
  },
  {
   "cell_type": "code",
   "execution_count": null,
   "id": "c0f34ccf",
   "metadata": {},
   "outputs": [],
   "source": []
  }
 ],
 "metadata": {
  "kernelspec": {
   "display_name": "Python 3",
   "language": "python",
   "name": "python3"
  },
  "language_info": {
   "codemirror_mode": {
    "name": "ipython",
    "version": 3
   },
   "file_extension": ".py",
   "mimetype": "text/x-python",
   "name": "python",
   "nbconvert_exporter": "python",
   "pygments_lexer": "ipython3",
   "version": "3.8.8"
  }
 },
 "nbformat": 4,
 "nbformat_minor": 5
}
