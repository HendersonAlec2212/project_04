{
 "cells": [
  {
   "cell_type": "code",
   "execution_count": 1,
   "metadata": {},
   "outputs": [
    {
     "data": {
      "text/plain": [
       "'C:\\\\Users\\\\Alec\\\\Documents\\\\Programming_Resources\\\\Boot_Camp\\\\project-04\\\\CISautoData\\\\ipynb'"
      ]
     },
     "execution_count": 1,
     "metadata": {},
     "output_type": "execute_result"
    }
   ],
   "source": [
    "import pandas as pd\n",
    "from sklearn.ensemble import RandomForestRegressor\n",
    "from sklearn.model_selection import train_test_split\n",
    "import joblib\n",
    "\n",
    "%matplotlib inline\n",
    "from matplotlib import pyplot as plt\n",
    "\n",
    "# import matplotlib.pyplot\n",
    "from os import getcwd\n",
    "getcwd()"
   ]
  },
  {
   "cell_type": "code",
   "execution_count": 2,
   "metadata": {},
   "outputs": [],
   "source": [
    "# data = pd.read_csv('https://raw.githubusercontent.com/HendersonAlec2212/project_04/main/csv/PICKUP_DATA_CLEAN.csv', low_memory=False)\n",
    "df = pd.read_csv('../csv/SUV_DATA_CLEAN.csv')"
   ]
  },
  {
   "cell_type": "code",
   "execution_count": 3,
   "metadata": {},
   "outputs": [
    {
     "data": {
      "text/html": [
       "<div>\n",
       "<style scoped>\n",
       "    .dataframe tbody tr th:only-of-type {\n",
       "        vertical-align: middle;\n",
       "    }\n",
       "\n",
       "    .dataframe tbody tr th {\n",
       "        vertical-align: top;\n",
       "    }\n",
       "\n",
       "    .dataframe thead th {\n",
       "        text-align: right;\n",
       "    }\n",
       "</style>\n",
       "<table border=\"1\" class=\"dataframe\">\n",
       "  <thead>\n",
       "    <tr style=\"text-align: right;\">\n",
       "      <th></th>\n",
       "      <th>body_class</th>\n",
       "      <th>brand_name</th>\n",
       "      <th>model_name</th>\n",
       "      <th>model_ID</th>\n",
       "      <th>model_year</th>\n",
       "      <th>mileage</th>\n",
       "      <th>ask_price</th>\n",
       "      <th>msrp</th>\n",
       "      <th>color</th>\n",
       "      <th>engine_cylinders</th>\n",
       "      <th>fuel_type_primary</th>\n",
       "      <th>vin</th>\n",
       "    </tr>\n",
       "  </thead>\n",
       "  <tbody>\n",
       "    <tr>\n",
       "      <th>0</th>\n",
       "      <td>suv</td>\n",
       "      <td>JEEP</td>\n",
       "      <td>Wrangler</td>\n",
       "      <td>1943.0</td>\n",
       "      <td>2017.0</td>\n",
       "      <td>9642</td>\n",
       "      <td>39962</td>\n",
       "      <td>39962</td>\n",
       "      <td>Black Clearcoat</td>\n",
       "      <td>6.0</td>\n",
       "      <td>Gasoline</td>\n",
       "      <td>322d48b4c60b477e2f9ed6b702a04e79de7a7fa2896521...</td>\n",
       "    </tr>\n",
       "    <tr>\n",
       "      <th>1</th>\n",
       "      <td>suv</td>\n",
       "      <td>JEEP</td>\n",
       "      <td>Grand Cherokee</td>\n",
       "      <td>1949.0</td>\n",
       "      <td>2015.0</td>\n",
       "      <td>50460</td>\n",
       "      <td>32962</td>\n",
       "      <td>32962</td>\n",
       "      <td>Cashmere Pearlcoat</td>\n",
       "      <td>8.0</td>\n",
       "      <td>Gasoline</td>\n",
       "      <td>2ef50172db46389b72f4e99178a8e7711de2adf0658249...</td>\n",
       "    </tr>\n",
       "    <tr>\n",
       "      <th>2</th>\n",
       "      <td>suv</td>\n",
       "      <td>JEEP</td>\n",
       "      <td>Wrangler JK</td>\n",
       "      <td>25197.0</td>\n",
       "      <td>2018.0</td>\n",
       "      <td>5844</td>\n",
       "      <td>35962</td>\n",
       "      <td>35962</td>\n",
       "      <td>Firecracker Red Clearcoat</td>\n",
       "      <td>6.0</td>\n",
       "      <td>Gasoline</td>\n",
       "      <td>6cb1784ba994af798c878b3f0d5270e893d8605cf47f94...</td>\n",
       "    </tr>\n",
       "    <tr>\n",
       "      <th>3</th>\n",
       "      <td>suv</td>\n",
       "      <td>FORD</td>\n",
       "      <td>Escape</td>\n",
       "      <td>1798.0</td>\n",
       "      <td>2016.0</td>\n",
       "      <td>32026</td>\n",
       "      <td>18962</td>\n",
       "      <td>18962</td>\n",
       "      <td>Ruby Red Metallic Tinted Clearcoat</td>\n",
       "      <td>4.0</td>\n",
       "      <td>Gasoline</td>\n",
       "      <td>8ee60b54b5fba668f4766d4209b6aabedf3ea10a703fe2...</td>\n",
       "    </tr>\n",
       "    <tr>\n",
       "      <th>4</th>\n",
       "      <td>suv</td>\n",
       "      <td>JEEP</td>\n",
       "      <td>Cherokee</td>\n",
       "      <td>1945.0</td>\n",
       "      <td>2017.0</td>\n",
       "      <td>7958</td>\n",
       "      <td>23462</td>\n",
       "      <td>23462</td>\n",
       "      <td>Diamond Black Crystal Pearlcoat</td>\n",
       "      <td>6.0</td>\n",
       "      <td>Gasoline</td>\n",
       "      <td>1ed760e28dc35ab6945f53a563f9cbcf894ff39c3b8dde...</td>\n",
       "    </tr>\n",
       "  </tbody>\n",
       "</table>\n",
       "</div>"
      ],
      "text/plain": [
       "  body_class brand_name      model_name  model_ID  model_year  mileage  \\\n",
       "0        suv       JEEP        Wrangler    1943.0      2017.0     9642   \n",
       "1        suv       JEEP  Grand Cherokee    1949.0      2015.0    50460   \n",
       "2        suv       JEEP     Wrangler JK   25197.0      2018.0     5844   \n",
       "3        suv       FORD          Escape    1798.0      2016.0    32026   \n",
       "4        suv       JEEP        Cherokee    1945.0      2017.0     7958   \n",
       "\n",
       "   ask_price   msrp                               color  engine_cylinders  \\\n",
       "0      39962  39962                     Black Clearcoat               6.0   \n",
       "1      32962  32962                  Cashmere Pearlcoat               8.0   \n",
       "2      35962  35962           Firecracker Red Clearcoat               6.0   \n",
       "3      18962  18962  Ruby Red Metallic Tinted Clearcoat               4.0   \n",
       "4      23462  23462     Diamond Black Crystal Pearlcoat               6.0   \n",
       "\n",
       "  fuel_type_primary                                                vin  \n",
       "0          Gasoline  322d48b4c60b477e2f9ed6b702a04e79de7a7fa2896521...  \n",
       "1          Gasoline  2ef50172db46389b72f4e99178a8e7711de2adf0658249...  \n",
       "2          Gasoline  6cb1784ba994af798c878b3f0d5270e893d8605cf47f94...  \n",
       "3          Gasoline  8ee60b54b5fba668f4766d4209b6aabedf3ea10a703fe2...  \n",
       "4          Gasoline  1ed760e28dc35ab6945f53a563f9cbcf894ff39c3b8dde...  "
      ]
     },
     "execution_count": 3,
     "metadata": {},
     "output_type": "execute_result"
    }
   ],
   "source": [
    "df.head()"
   ]
  },
  {
   "cell_type": "code",
   "execution_count": 4,
   "metadata": {},
   "outputs": [],
   "source": [
    "depth = 7\n",
    "model_results = {}\n",
    "train_score_list = []\n",
    "test_score_list = []\n",
    "df_test = df.drop(columns=['msrp','vin','color'])\n",
    "#names for each DF/ Model to be trained\n",
    "\n",
    "\n",
    "# divide the data\n",
    "X = df_test.drop(columns=['ask_price'])\n",
    "y = df_test['ask_price']\n",
    "\n",
    "# set dummies\n",
    "X_dummies = pd.get_dummies(X,drop_first=True)\n",
    "\n",
    "# split for test and train\n",
    "X_train, X_test, y_train, y_test = train_test_split(X_dummies, y, random_state=42)\n",
    "\n",
    "# model parameters\n",
    "model = RandomForestRegressor(max_depth=depth,n_estimators=100, random_state=12)\n",
    "\n",
    "# fit the model to the data\n",
    "model.fit(X_train, y_train)\n",
    "\n",
    "# evaluate scores and predictions\n",
    "train_predicted = model.predict(X_train)\n",
    "test_predicted = model.predict(X_test)\n",
    "\n",
    "train_score = model.score(X_train,y_train,sample_weight=None)\n",
    "test_score = model.score(X_test,y_test,sample_weight=None)\n",
    "\n",
    "# record results\n",
    "\n",
    "model_results['model'] = model\n",
    "\n",
    "model_results['train_y_pred'] = train_predicted\n",
    "model_results['test_y_pred'] = test_predicted\n",
    "\n",
    "model_results['train_score']  = train_score\n",
    "model_results['test_score']  = test_score\n",
    "\n",
    "train_score_list.append(train_score)\n",
    "test_score_list.append(test_score)\n"
   ]
  },
  {
   "cell_type": "code",
   "execution_count": 5,
   "metadata": {},
   "outputs": [],
   "source": [
    "model_results['columns'] = X_train.columns.to_list()"
   ]
  },
  {
   "cell_type": "code",
   "execution_count": 6,
   "metadata": {},
   "outputs": [
    {
     "data": {
      "text/plain": [
       "{'model': RandomForestRegressor(max_depth=7, random_state=12),\n",
       " 'train_y_pred': array([33064.89359899, 14367.30398335, 12072.01476106, ...,\n",
       "        17205.3672203 , 26438.15433215, 16895.01500278]),\n",
       " 'test_y_pred': array([35917.67974687, 28864.993816  , 20333.32813327, ...,\n",
       "        36916.66723994, 14276.76614795, 29191.55905604]),\n",
       " 'train_score': 0.8394327115256128,\n",
       " 'test_score': 0.8381622398033894,\n",
       " 'columns': ['model_ID',\n",
       "  'model_year',\n",
       "  'mileage',\n",
       "  'engine_cylinders',\n",
       "  'brand_name_ALFA ROMEO',\n",
       "  'brand_name_AUDI',\n",
       "  'brand_name_BMW',\n",
       "  'brand_name_BUICK',\n",
       "  'brand_name_CADILLAC',\n",
       "  'brand_name_CHEVROLET',\n",
       "  'brand_name_CHRYSLER',\n",
       "  'brand_name_DODGE',\n",
       "  'brand_name_FIAT',\n",
       "  'brand_name_FORD',\n",
       "  'brand_name_GMC',\n",
       "  'brand_name_HONDA',\n",
       "  'brand_name_HUMMER',\n",
       "  'brand_name_ISUZU',\n",
       "  'brand_name_JAGUAR',\n",
       "  'brand_name_JEEP',\n",
       "  'brand_name_KIA',\n",
       "  'brand_name_LAND ROVER',\n",
       "  'brand_name_LEXUS',\n",
       "  'brand_name_LINCOLN',\n",
       "  'brand_name_MASERATI',\n",
       "  'brand_name_MAZDA',\n",
       "  'brand_name_MERCEDES-BENZ',\n",
       "  'brand_name_MERCURY',\n",
       "  'brand_name_MINI',\n",
       "  'brand_name_MITSUBISHI',\n",
       "  'brand_name_PONTIAC',\n",
       "  'brand_name_PORSCHE',\n",
       "  'brand_name_SAAB',\n",
       "  'brand_name_SATURN',\n",
       "  'brand_name_SUBARU',\n",
       "  'brand_name_SUZUKI',\n",
       "  'brand_name_TOYOTA',\n",
       "  'brand_name_VOLKSWAGEN',\n",
       "  'brand_name_VOLVO',\n",
       "  'model_name_500X',\n",
       "  'model_name_9-4x',\n",
       "  'model_name_9-7X',\n",
       "  'model_name_A4 allroad',\n",
       "  'model_name_Acadia',\n",
       "  'model_name_Accord Crosstour',\n",
       "  'model_name_Ascent',\n",
       "  'model_name_Aspen',\n",
       "  'model_name_Atlas',\n",
       "  'model_name_Aviator',\n",
       "  'model_name_Axiom',\n",
       "  'model_name_Aztek',\n",
       "  'model_name_Blazer',\n",
       "  'model_name_Bronco',\n",
       "  'model_name_CJ-7',\n",
       "  'model_name_CR-V',\n",
       "  'model_name_Captiva Sport',\n",
       "  'model_name_Cayenne',\n",
       "  'model_name_Cherokee',\n",
       "  'model_name_Commander',\n",
       "  'model_name_Compass',\n",
       "  'model_name_Cooper',\n",
       "  'model_name_Cooper Countryman',\n",
       "  'model_name_Cooper S Countryman',\n",
       "  'model_name_Crosstour',\n",
       "  'model_name_Discovery',\n",
       "  'model_name_Discovery Sport',\n",
       "  'model_name_Durango',\n",
       "  'model_name_E-PACE',\n",
       "  'model_name_Edge',\n",
       "  'model_name_Element',\n",
       "  'model_name_Enclave',\n",
       "  'model_name_Encore',\n",
       "  'model_name_Envision',\n",
       "  'model_name_Envoy',\n",
       "  'model_name_Equinox',\n",
       "  'model_name_Escalade',\n",
       "  'model_name_Escalade ESV',\n",
       "  'model_name_Escape',\n",
       "  'model_name_Excursion',\n",
       "  'model_name_Expedition',\n",
       "  'model_name_Expedition MAX',\n",
       "  'model_name_Explorer',\n",
       "  'model_name_Explorer Sport',\n",
       "  'model_name_Explorer Sport Trac',\n",
       "  'model_name_F-Pace',\n",
       "  'model_name_Flex',\n",
       "  'model_name_Freestyle',\n",
       "  'model_name_G-Class',\n",
       "  'model_name_GL-Class',\n",
       "  'model_name_GLA-Class',\n",
       "  'model_name_GLB-Class',\n",
       "  'model_name_GLC-Class',\n",
       "  'model_name_GLE-Class',\n",
       "  'model_name_GLK-Class',\n",
       "  'model_name_GLS-Class',\n",
       "  'model_name_GX',\n",
       "  'model_name_Grand Cherokee',\n",
       "  'model_name_Grand Vitara',\n",
       "  'model_name_Grand Wagoneer',\n",
       "  'model_name_H2',\n",
       "  'model_name_H3',\n",
       "  'model_name_HHR',\n",
       "  'model_name_HR-V',\n",
       "  'model_name_Highlander',\n",
       "  'model_name_LR2',\n",
       "  'model_name_LR3',\n",
       "  'model_name_LR4',\n",
       "  'model_name_LX',\n",
       "  'model_name_Levante',\n",
       "  'model_name_Liberty',\n",
       "  'model_name_M-Class',\n",
       "  'model_name_MDX',\n",
       "  'model_name_METRIS',\n",
       "  'model_name_MKC',\n",
       "  'model_name_MKT',\n",
       "  'model_name_MKX',\n",
       "  'model_name_ML-Class',\n",
       "  'model_name_Macan',\n",
       "  'model_name_Mariner',\n",
       "  'model_name_Montero',\n",
       "  'model_name_Montero Sport',\n",
       "  'model_name_Mountaineer',\n",
       "  'model_name_Nautilus',\n",
       "  'model_name_Navigator',\n",
       "  'model_name_Nitro',\n",
       "  'model_name_Outlook',\n",
       "  'model_name_Pacifica',\n",
       "  'model_name_Passport',\n",
       "  'model_name_Patriot',\n",
       "  'model_name_Pilot',\n",
       "  'model_name_Q3',\n",
       "  'model_name_Q5',\n",
       "  'model_name_Q7',\n",
       "  'model_name_R-Class',\n",
       "  'model_name_RAV4',\n",
       "  'model_name_RDX',\n",
       "  'model_name_RX',\n",
       "  'model_name_Rainier',\n",
       "  'model_name_Range Rover',\n",
       "  'model_name_Range Rover Evoque',\n",
       "  'model_name_Range Rover Sport',\n",
       "  'model_name_Range Rover Velar',\n",
       "  'model_name_Rendezvous',\n",
       "  'model_name_Renegade',\n",
       "  'model_name_Rodeo/Amigo',\n",
       "  'model_name_SQ5',\n",
       "  'model_name_SRX',\n",
       "  'model_name_Sorento',\n",
       "  'model_name_Sportage',\n",
       "  'model_name_Sprinter',\n",
       "  'model_name_Stelvio',\n",
       "  'model_name_Suburban',\n",
       "  'model_name_Tahoe',\n",
       "  'model_name_Taurus X',\n",
       "  'model_name_Terrain',\n",
       "  'model_name_Tiguan',\n",
       "  'model_name_Tiguan Limited',\n",
       "  'model_name_Torrent',\n",
       "  'model_name_Touareg',\n",
       "  'model_name_Tracker',\n",
       "  'model_name_Trailblazer',\n",
       "  'model_name_Traverse',\n",
       "  'model_name_Trax',\n",
       "  'model_name_Tribute',\n",
       "  'model_name_Vue',\n",
       "  'model_name_Wrangler',\n",
       "  'model_name_Wrangler JK',\n",
       "  'model_name_X1',\n",
       "  'model_name_X2',\n",
       "  'model_name_X3',\n",
       "  'model_name_X4',\n",
       "  'model_name_X5',\n",
       "  'model_name_X6',\n",
       "  'model_name_XC40',\n",
       "  'model_name_XC60',\n",
       "  'model_name_XC90',\n",
       "  'model_name_XL7',\n",
       "  'model_name_XT4',\n",
       "  'model_name_XT5',\n",
       "  'model_name_XT6',\n",
       "  'model_name_Yukon',\n",
       "  'model_name_Yukon XL',\n",
       "  'model_name_ZDX',\n",
       "  'model_name_allroad',\n",
       "  'fuel_type_primary_Gasoline']}"
      ]
     },
     "execution_count": 6,
     "metadata": {},
     "output_type": "execute_result"
    }
   ],
   "source": [
    "model_results"
   ]
  },
  {
   "cell_type": "code",
   "execution_count": 8,
   "metadata": {},
   "outputs": [
    {
     "data": {
      "text/plain": [
       "['../models/suv_depth_7_838_no_color.joblib']"
      ]
     },
     "execution_count": 8,
     "metadata": {},
     "output_type": "execute_result"
    }
   ],
   "source": [
    "# save the model\n",
    "model = model_results['model']\n",
    "joblib.dump(model,'../models/suv_depth_7_838_no_color.joblib')"
   ]
  },
  {
   "cell_type": "code",
   "execution_count": 9,
   "metadata": {},
   "outputs": [],
   "source": [
    "loaded_model = joblib.load('../models/suv_depth_7_838_no_color.joblib')"
   ]
  },
  {
   "cell_type": "code",
   "execution_count": 10,
   "metadata": {},
   "outputs": [
    {
     "data": {
      "text/plain": [
       "0.8381622398033894"
      ]
     },
     "execution_count": 10,
     "metadata": {},
     "output_type": "execute_result"
    }
   ],
   "source": [
    "loaded_model.score(X_test,y_test,sample_weight=None)"
   ]
  },
  {
   "cell_type": "code",
   "execution_count": 11,
   "metadata": {},
   "outputs": [
    {
     "data": {
      "text/plain": [
       "array([35917.67974687, 28864.993816  , 20333.32813327, ...,\n",
       "       36916.66723994, 14276.76614795, 29191.55905604])"
      ]
     },
     "execution_count": 11,
     "metadata": {},
     "output_type": "execute_result"
    }
   ],
   "source": [
    "loaded_model.predict(X_test)"
   ]
  },
  {
   "cell_type": "code",
   "execution_count": 12,
   "metadata": {},
   "outputs": [
    {
     "data": {
      "text/plain": [
       "array([35917.67974687, 28864.993816  , 20333.32813327, ...,\n",
       "       36916.66723994, 14276.76614795, 29191.55905604])"
      ]
     },
     "execution_count": 12,
     "metadata": {},
     "output_type": "execute_result"
    }
   ],
   "source": [
    "model_results['test_y_pred']"
   ]
  },
  {
   "cell_type": "code",
   "execution_count": 15,
   "metadata": {},
   "outputs": [
    {
     "data": {
      "image/png": "[encoded data removed]",
      "text/plain": [
       "<Figure size 1080x720 with 1 Axes>"
      ]
     },
     "metadata": {
      "needs_background": "light"
     },
     "output_type": "display_data"
    }
   ],
   "source": [
    "feature_importances = model.feature_importances_\n",
    "features = sorted(zip(X_test.columns, model.feature_importances_), key = lambda x: x[1])\n",
    "cols = [f[0] for f in features[-10:]]\n",
    "width = [f[1] for f in features[-10:]]\n",
    "\n",
    "fig, ax = plt.subplots()\n",
    "\n",
    "fig.set_size_inches(15,10)\n",
    "plt.margins(y=0.001)\n",
    "\n",
    "plt.bar(x=cols, height=width)\n",
    "plt.title('suv_features_top_10')\n",
    "plt.xticks(rotation=45)\n",
    "plt.savefig('../visualizations/suv_top_10_cols.png')\n",
    "plt.show()\n"
   ]
  },
  {
   "cell_type": "code",
   "execution_count": 16,
   "metadata": {},
   "outputs": [
    {
     "name": "stdout",
     "output_type": "stream",
     "text": [
      "['model_ID', 'model_year', 'mileage', 'engine_cylinders', 'brand_name_ALFA ROMEO', 'brand_name_AUDI', 'brand_name_BMW', 'brand_name_BUICK', 'brand_name_CADILLAC', 'brand_name_CHEVROLET', 'brand_name_CHRYSLER', 'brand_name_DODGE', 'brand_name_FIAT', 'brand_name_FORD', 'brand_name_GMC', 'brand_name_HONDA', 'brand_name_HUMMER', 'brand_name_ISUZU', 'brand_name_JAGUAR', 'brand_name_JEEP', 'brand_name_KIA', 'brand_name_LAND ROVER', 'brand_name_LEXUS', 'brand_name_LINCOLN', 'brand_name_MASERATI', 'brand_name_MAZDA', 'brand_name_MERCEDES-BENZ', 'brand_name_MERCURY', 'brand_name_MINI', 'brand_name_MITSUBISHI', 'brand_name_PONTIAC', 'brand_name_PORSCHE', 'brand_name_SAAB', 'brand_name_SATURN', 'brand_name_SUBARU', 'brand_name_SUZUKI', 'brand_name_TOYOTA', 'brand_name_VOLKSWAGEN', 'brand_name_VOLVO', 'model_name_500X', 'model_name_9-4x', 'model_name_9-7X', 'model_name_A4 allroad', 'model_name_Acadia', 'model_name_Accord Crosstour', 'model_name_Ascent', 'model_name_Aspen', 'model_name_Atlas', 'model_name_Aviator', 'model_name_Axiom', 'model_name_Aztek', 'model_name_Blazer', 'model_name_Bronco', 'model_name_CJ-7', 'model_name_CR-V', 'model_name_Captiva Sport', 'model_name_Cayenne', 'model_name_Cherokee', 'model_name_Commander', 'model_name_Compass', 'model_name_Cooper', 'model_name_Cooper Countryman', 'model_name_Cooper S Countryman', 'model_name_Crosstour', 'model_name_Discovery', 'model_name_Discovery Sport', 'model_name_Durango', 'model_name_E-PACE', 'model_name_Edge', 'model_name_Element', 'model_name_Enclave', 'model_name_Encore', 'model_name_Envision', 'model_name_Envoy', 'model_name_Equinox', 'model_name_Escalade', 'model_name_Escalade ESV', 'model_name_Escape', 'model_name_Excursion', 'model_name_Expedition', 'model_name_Expedition MAX', 'model_name_Explorer', 'model_name_Explorer Sport', 'model_name_Explorer Sport Trac', 'model_name_F-Pace', 'model_name_Flex', 'model_name_Freestyle', 'model_name_G-Class', 'model_name_GL-Class', 'model_name_GLA-Class', 'model_name_GLB-Class', 'model_name_GLC-Class', 'model_name_GLE-Class', 'model_name_GLK-Class', 'model_name_GLS-Class', 'model_name_GX', 'model_name_Grand Cherokee', 'model_name_Grand Vitara', 'model_name_Grand Wagoneer', 'model_name_H2', 'model_name_H3', 'model_name_HHR', 'model_name_HR-V', 'model_name_Highlander', 'model_name_LR2', 'model_name_LR3', 'model_name_LR4', 'model_name_LX', 'model_name_Levante', 'model_name_Liberty', 'model_name_M-Class', 'model_name_MDX', 'model_name_METRIS', 'model_name_MKC', 'model_name_MKT', 'model_name_MKX', 'model_name_ML-Class', 'model_name_Macan', 'model_name_Mariner', 'model_name_Montero', 'model_name_Montero Sport', 'model_name_Mountaineer', 'model_name_Nautilus', 'model_name_Navigator', 'model_name_Nitro', 'model_name_Outlook', 'model_name_Pacifica', 'model_name_Passport', 'model_name_Patriot', 'model_name_Pilot', 'model_name_Q3', 'model_name_Q5', 'model_name_Q7', 'model_name_R-Class', 'model_name_RAV4', 'model_name_RDX', 'model_name_RX', 'model_name_Rainier', 'model_name_Range Rover', 'model_name_Range Rover Evoque', 'model_name_Range Rover Sport', 'model_name_Range Rover Velar', 'model_name_Rendezvous', 'model_name_Renegade', 'model_name_Rodeo/Amigo', 'model_name_SQ5', 'model_name_SRX', 'model_name_Sorento', 'model_name_Sportage', 'model_name_Sprinter', 'model_name_Stelvio', 'model_name_Suburban', 'model_name_Tahoe', 'model_name_Taurus X', 'model_name_Terrain', 'model_name_Tiguan', 'model_name_Tiguan Limited', 'model_name_Torrent', 'model_name_Touareg', 'model_name_Tracker', 'model_name_Trailblazer', 'model_name_Traverse', 'model_name_Trax', 'model_name_Tribute', 'model_name_Vue', 'model_name_Wrangler', 'model_name_Wrangler JK', 'model_name_X1', 'model_name_X2', 'model_name_X3', 'model_name_X4', 'model_name_X5', 'model_name_X6', 'model_name_XC40', 'model_name_XC60', 'model_name_XC90', 'model_name_XL7', 'model_name_XT4', 'model_name_XT5', 'model_name_XT6', 'model_name_Yukon', 'model_name_Yukon XL', 'model_name_ZDX', 'model_name_allroad', 'fuel_type_primary_Gasoline']\n"
     ]
    }
   ],
   "source": [
    "print(model_results['columns'])"
   ]
  },
  {
   "cell_type": "code",
   "execution_count": null,
   "metadata": {},
   "outputs": [],
   "source": []
  }
 ],
 "metadata": {
  "interpreter": {
   "hash": "6d65008838679b4576a340dc87baa2d74072c245eec5fa572c0008114b64086e"
  },
  "kernelspec": {
   "display_name": "Python 3",
   "language": "python",
   "name": "python3"
  },
  "language_info": {
   "codemirror_mode": {
    "name": "ipython",
    "version": 3
   },
   "file_extension": ".py",
   "mimetype": "text/x-python",
   "name": "python",
   "nbconvert_exporter": "python",
   "pygments_lexer": "ipython3",
   "version": "3.8.8"
  }
 },
 "nbformat": 4,
 "nbformat_minor": 2
}
