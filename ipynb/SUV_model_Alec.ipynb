{
 "cells": [
  {
   "cell_type": "code",
   "execution_count": 11,
   "metadata": {},
   "outputs": [
    {
     "data": {
      "text/plain": [
       "'C:\\\\Users\\\\Alec\\\\Documents\\\\Programming_Resources\\\\Boot_Camp\\\\project-04\\\\CISautoData\\\\models'"
      ]
     },
     "execution_count": 11,
     "metadata": {},
     "output_type": "execute_result"
    }
   ],
   "source": [
    "import pandas as pd\n",
    "from sklearn.ensemble import RandomForestRegressor\n",
    "from sklearn.model_selection import train_test_split\n",
    "from os import getcwd\n",
    "import joblib\n",
    "\n",
    "getcwd()"
   ]
  },
  {
   "cell_type": "code",
   "execution_count": 5,
   "metadata": {},
   "outputs": [],
   "source": [
    "# data = pd.read_csv('https://raw.githubusercontent.com/HendersonAlec2212/project_04/main/csv/PICKUP_DATA_CLEAN.csv', low_memory=False)\n",
    "df = pd.read_csv('../csv/SUV_DATA_CLEAN.csv')"
   ]
  },
  {
   "cell_type": "code",
   "execution_count": 6,
   "metadata": {},
   "outputs": [
    {
     "data": {
      "text/html": [
       "<div>\n",
       "<style scoped>\n",
       "    .dataframe tbody tr th:only-of-type {\n",
       "        vertical-align: middle;\n",
       "    }\n",
       "\n",
       "    .dataframe tbody tr th {\n",
       "        vertical-align: top;\n",
       "    }\n",
       "\n",
       "    .dataframe thead th {\n",
       "        text-align: right;\n",
       "    }\n",
       "</style>\n",
       "<table border=\"1\" class=\"dataframe\">\n",
       "  <thead>\n",
       "    <tr style=\"text-align: right;\">\n",
       "      <th></th>\n",
       "      <th>brandName</th>\n",
       "      <th>modelName</th>\n",
       "      <th>vf_ModelID</th>\n",
       "      <th>vf_ModelYear</th>\n",
       "      <th>mileage</th>\n",
       "      <th>askPrice</th>\n",
       "      <th>msrp</th>\n",
       "      <th>color</th>\n",
       "      <th>vf_EngineCylinders</th>\n",
       "      <th>vf_FuelTypePrimary</th>\n",
       "      <th>vin</th>\n",
       "    </tr>\n",
       "  </thead>\n",
       "  <tbody>\n",
       "    <tr>\n",
       "      <th>0</th>\n",
       "      <td>JEEP</td>\n",
       "      <td>Wrangler</td>\n",
       "      <td>1943.0</td>\n",
       "      <td>2017.0</td>\n",
       "      <td>9642</td>\n",
       "      <td>39962</td>\n",
       "      <td>39962</td>\n",
       "      <td>Black Clearcoat</td>\n",
       "      <td>6.0</td>\n",
       "      <td>Gasoline</td>\n",
       "      <td>322d48b4c60b477e2f9ed6b702a04e79de7a7fa2896521...</td>\n",
       "    </tr>\n",
       "    <tr>\n",
       "      <th>1</th>\n",
       "      <td>JEEP</td>\n",
       "      <td>Grand Cherokee</td>\n",
       "      <td>1949.0</td>\n",
       "      <td>2015.0</td>\n",
       "      <td>50460</td>\n",
       "      <td>32962</td>\n",
       "      <td>32962</td>\n",
       "      <td>Cashmere Pearlcoat</td>\n",
       "      <td>8.0</td>\n",
       "      <td>Gasoline</td>\n",
       "      <td>2ef50172db46389b72f4e99178a8e7711de2adf0658249...</td>\n",
       "    </tr>\n",
       "    <tr>\n",
       "      <th>2</th>\n",
       "      <td>JEEP</td>\n",
       "      <td>Wrangler JK</td>\n",
       "      <td>25197.0</td>\n",
       "      <td>2018.0</td>\n",
       "      <td>5844</td>\n",
       "      <td>35962</td>\n",
       "      <td>35962</td>\n",
       "      <td>Firecracker Red Clearcoat</td>\n",
       "      <td>6.0</td>\n",
       "      <td>Gasoline</td>\n",
       "      <td>6cb1784ba994af798c878b3f0d5270e893d8605cf47f94...</td>\n",
       "    </tr>\n",
       "    <tr>\n",
       "      <th>3</th>\n",
       "      <td>FORD</td>\n",
       "      <td>Escape</td>\n",
       "      <td>1798.0</td>\n",
       "      <td>2016.0</td>\n",
       "      <td>32026</td>\n",
       "      <td>18962</td>\n",
       "      <td>18962</td>\n",
       "      <td>Ruby Red Metallic Tinted Clearcoat</td>\n",
       "      <td>4.0</td>\n",
       "      <td>Gasoline</td>\n",
       "      <td>8ee60b54b5fba668f4766d4209b6aabedf3ea10a703fe2...</td>\n",
       "    </tr>\n",
       "    <tr>\n",
       "      <th>4</th>\n",
       "      <td>JEEP</td>\n",
       "      <td>Cherokee</td>\n",
       "      <td>1945.0</td>\n",
       "      <td>2017.0</td>\n",
       "      <td>7958</td>\n",
       "      <td>23462</td>\n",
       "      <td>23462</td>\n",
       "      <td>Diamond Black Crystal Pearlcoat</td>\n",
       "      <td>6.0</td>\n",
       "      <td>Gasoline</td>\n",
       "      <td>1ed760e28dc35ab6945f53a563f9cbcf894ff39c3b8dde...</td>\n",
       "    </tr>\n",
       "  </tbody>\n",
       "</table>\n",
       "</div>"
      ],
      "text/plain": [
       "  brandName       modelName  vf_ModelID  vf_ModelYear  mileage  askPrice  \\\n",
       "0      JEEP        Wrangler      1943.0        2017.0     9642     39962   \n",
       "1      JEEP  Grand Cherokee      1949.0        2015.0    50460     32962   \n",
       "2      JEEP     Wrangler JK     25197.0        2018.0     5844     35962   \n",
       "3      FORD          Escape      1798.0        2016.0    32026     18962   \n",
       "4      JEEP        Cherokee      1945.0        2017.0     7958     23462   \n",
       "\n",
       "    msrp                               color  vf_EngineCylinders  \\\n",
       "0  39962                     Black Clearcoat                 6.0   \n",
       "1  32962                  Cashmere Pearlcoat                 8.0   \n",
       "2  35962           Firecracker Red Clearcoat                 6.0   \n",
       "3  18962  Ruby Red Metallic Tinted Clearcoat                 4.0   \n",
       "4  23462     Diamond Black Crystal Pearlcoat                 6.0   \n",
       "\n",
       "  vf_FuelTypePrimary                                                vin  \n",
       "0           Gasoline  322d48b4c60b477e2f9ed6b702a04e79de7a7fa2896521...  \n",
       "1           Gasoline  2ef50172db46389b72f4e99178a8e7711de2adf0658249...  \n",
       "2           Gasoline  6cb1784ba994af798c878b3f0d5270e893d8605cf47f94...  \n",
       "3           Gasoline  8ee60b54b5fba668f4766d4209b6aabedf3ea10a703fe2...  \n",
       "4           Gasoline  1ed760e28dc35ab6945f53a563f9cbcf894ff39c3b8dde...  "
      ]
     },
     "execution_count": 6,
     "metadata": {},
     "output_type": "execute_result"
    }
   ],
   "source": [
    "df.head()"
   ]
  },
  {
   "cell_type": "code",
   "execution_count": 7,
   "metadata": {},
   "outputs": [],
   "source": [
    "depth = 6"
   ]
  },
  {
   "cell_type": "code",
   "execution_count": 8,
   "metadata": {},
   "outputs": [],
   "source": [
    "model_results = {}\n",
    "train_score_list = []\n",
    "test_score_list = []\n",
    "df_test = df.drop(columns=['msrp','vin'])\n",
    "#names for each DF/ Model to be trained\n",
    "\n",
    "\n",
    "# divide the data\n",
    "X = df_test.drop(columns=['askPrice'])\n",
    "y = df_test['askPrice']\n",
    "\n",
    "# set dummies\n",
    "X_dummies = pd.get_dummies(X,drop_first=True)\n",
    "\n",
    "# split for test and train\n",
    "X_train, X_test, y_train, y_test = train_test_split(X_dummies, y, random_state=42)\n",
    "\n",
    "# model parameters\n",
    "model = RandomForestRegressor(max_depth=depth,n_estimators=100, random_state=12)\n",
    "\n",
    "# fit the model to the data\n",
    "model.fit(X_train, y_train)\n",
    "\n",
    "# evaluate scores and predictions\n",
    "train_predicted = model.predict(X_train)\n",
    "test_predicted = model.predict(X_test)\n",
    "\n",
    "train_score = model.score(X_train,y_train,sample_weight=None)\n",
    "test_score = model.score(X_test,y_test,sample_weight=None)\n",
    "\n",
    "# record results\n",
    "\n",
    "model_results['model'] = model\n",
    "\n",
    "model_results['train_y_pred'] = train_predicted\n",
    "model_results['test_y_pred'] = test_predicted\n",
    "\n",
    "model_results['train_score']  = train_score\n",
    "model_results['test_score']  = test_score\n",
    "\n",
    "train_score_list.append(train_score)\n",
    "test_score_list.append(test_score)\n"
   ]
  },
  {
   "cell_type": "code",
   "execution_count": 9,
   "metadata": {},
   "outputs": [
    {
     "data": {
      "text/plain": [
       "{'model': RandomForestRegressor(max_depth=6, random_state=12),\n",
       " 'train_y_pred': array([30712.04703601, 14774.92939394, 11197.00856036, ...,\n",
       "        17458.15501101, 25930.87694166, 17004.41559462]),\n",
       " 'test_y_pred': array([35382.43450167, 30070.49003358, 19303.82040895, ...,\n",
       "        38534.67901632, 13505.82156367, 25197.50210822]),\n",
       " 'train_score': 0.8068878682244986,\n",
       " 'test_score': 0.8080562911950601}"
      ]
     },
     "execution_count": 9,
     "metadata": {},
     "output_type": "execute_result"
    }
   ],
   "source": [
    "model_results"
   ]
  },
  {
   "cell_type": "code",
   "execution_count": 12,
   "metadata": {},
   "outputs": [
    {
     "data": {
      "text/plain": [
       "['suv_depth_6_81.joblib']"
      ]
     },
     "execution_count": 12,
     "metadata": {},
     "output_type": "execute_result"
    }
   ],
   "source": [
    "# save the model\n",
    "model = model_results['model']\n",
    "joblib.dump(model,'suv_depth_6_81.joblib')"
   ]
  },
  {
   "cell_type": "code",
   "execution_count": null,
   "metadata": {},
   "outputs": [],
   "source": []
  }
 ],
 "metadata": {
  "interpreter": {
   "hash": "6d65008838679b4576a340dc87baa2d74072c245eec5fa572c0008114b64086e"
  },
  "kernelspec": {
   "display_name": "Python 3",
   "language": "python",
   "name": "python3"
  },
  "language_info": {
   "codemirror_mode": {
    "name": "ipython",
    "version": 3
   },
   "file_extension": ".py",
   "mimetype": "text/x-python",
   "name": "python",
   "nbconvert_exporter": "python",
   "pygments_lexer": "ipython3",
   "version": "3.8.8"
  }
 },
 "nbformat": 4,
 "nbformat_minor": 2
}
