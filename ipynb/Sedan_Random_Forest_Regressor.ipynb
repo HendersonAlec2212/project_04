{
 "cells": [
  {
   "cell_type": "code",
   "execution_count": 1,
   "id": "9f23273d",
   "metadata": {},
   "outputs": [
    {
     "data": {
      "text/plain": [
       "'C:\\\\Users\\\\Alec\\\\Documents\\\\Programming_Resources\\\\Boot_Camp\\\\project-04\\\\CISautoData\\\\ipynb'"
      ]
     },
     "execution_count": 1,
     "metadata": {},
     "output_type": "execute_result"
    }
   ],
   "source": [
    "import pandas as pd\n",
    "from sklearn.ensemble import RandomForestRegressor\n",
    "from sklearn.model_selection import train_test_split\n",
    "import joblib\n",
    "\n",
    "%matplotlib inline\n",
    "from matplotlib import pyplot as plt\n",
    "\n",
    "# import matplotlib.pyplot\n",
    "from os import getcwd\n",
    "getcwd()"
   ]
  },
  {
   "cell_type": "markdown",
   "id": "642b9a54",
   "metadata": {},
   "source": [
    "# Correlations"
   ]
  },
  {
   "cell_type": "markdown",
   "id": "fea8895f",
   "metadata": {},
   "source": [
    "#### Observe corellations for all makes"
   ]
  },
  {
   "cell_type": "markdown",
   "id": "a0fd2263",
   "metadata": {},
   "source": [
    "import seaborn as sn\n",
    "import matplotlib.pyplot as plt\n",
    "\n",
    "fig = plt.figure(figsize = (19.20,10.80))\n",
    "\n",
    "corrMatrix = df.corr()\n",
    "sn.heatmap(corrMatrix, annot=True)\n",
    "plt.savefig('visualizations/sedan_total_corr.png')"
   ]
  },
  {
   "cell_type": "markdown",
   "id": "f14dfbc8",
   "metadata": {},
   "source": [
    "When observed as a whole, the corellations between certain features are below significancee\n",
    "\n",
    "when each make is split into a group, the correlations are more easily observed"
   ]
  },
  {
   "cell_type": "markdown",
   "id": "440e3d21",
   "metadata": {},
   "source": [
    "make_list = df['make'].unique()"
   ]
  },
  {
   "cell_type": "markdown",
   "id": "d4424e85",
   "metadata": {},
   "source": [
    "for i, make in enumerate(make_list):\n",
    "    df_new = df.loc[df['make']==f'{make}']\n",
    "    df_new = df_new.drop(columns=['makeID'])\n",
    "    fig = plt.figure(figsize = (19.20,10.80))\n",
    "\n",
    "    corrMatrix = df_new.corr()\n",
    "    sn.heatmap(corrMatrix, annot=True)\n",
    "    plt.title(f'{make}')\n",
    "    plt.savefig(f'visualizations/Sedan_Correlations/sedan_{make}_corr.png')\n",
    "    plt.close()"
   ]
  },
  {
   "cell_type": "markdown",
   "id": "dc549bcf",
   "metadata": {},
   "source": [
    "with the overall data giving un-usable correlations we may need to have a regression model for each make/body class?\n",
    "\n",
    "Test the difference between a prediction using the total data and a single make, data."
   ]
  },
  {
   "cell_type": "markdown",
   "id": "8606c85e",
   "metadata": {},
   "source": [
    "---------------------"
   ]
  },
  {
   "cell_type": "markdown",
   "id": "1860c6d3",
   "metadata": {},
   "source": [
    "# Random Forest Regrssion"
   ]
  },
  {
   "cell_type": "markdown",
   "id": "3f8f1c13",
   "metadata": {},
   "source": [
    "-----------"
   ]
  },
  {
   "cell_type": "code",
   "execution_count": 2,
   "id": "3d385b35",
   "metadata": {},
   "outputs": [
    {
     "data": {
      "text/html": [
       "<div>\n",
       "<style scoped>\n",
       "    .dataframe tbody tr th:only-of-type {\n",
       "        vertical-align: middle;\n",
       "    }\n",
       "\n",
       "    .dataframe tbody tr th {\n",
       "        vertical-align: top;\n",
       "    }\n",
       "\n",
       "    .dataframe thead th {\n",
       "        text-align: right;\n",
       "    }\n",
       "</style>\n",
       "<table border=\"1\" class=\"dataframe\">\n",
       "  <thead>\n",
       "    <tr style=\"text-align: right;\">\n",
       "      <th></th>\n",
       "      <th>body_class</th>\n",
       "      <th>brand_name</th>\n",
       "      <th>model_name</th>\n",
       "      <th>model_ID</th>\n",
       "      <th>model_year</th>\n",
       "      <th>mileage</th>\n",
       "      <th>ask_price</th>\n",
       "      <th>msrp</th>\n",
       "      <th>color</th>\n",
       "      <th>engine_cylinders</th>\n",
       "      <th>fuel_type_primary</th>\n",
       "      <th>vin</th>\n",
       "    </tr>\n",
       "  </thead>\n",
       "  <tbody>\n",
       "    <tr>\n",
       "      <th>0</th>\n",
       "      <td>sedan</td>\n",
       "      <td>FORD</td>\n",
       "      <td>Taurus</td>\n",
       "      <td>1782.0</td>\n",
       "      <td>2015.0</td>\n",
       "      <td>67588</td>\n",
       "      <td>16462</td>\n",
       "      <td>16462</td>\n",
       "      <td>Ingot Silver Metallic</td>\n",
       "      <td>6.0</td>\n",
       "      <td>Gasoline</td>\n",
       "      <td>85384fd9108f6e9c75d7a538e4ce8a892170f7dbf42264...</td>\n",
       "    </tr>\n",
       "    <tr>\n",
       "      <th>1</th>\n",
       "      <td>sedan</td>\n",
       "      <td>CHRYSLER</td>\n",
       "      <td>300</td>\n",
       "      <td>1878.0</td>\n",
       "      <td>2017.0</td>\n",
       "      <td>9231</td>\n",
       "      <td>23962</td>\n",
       "      <td>23962</td>\n",
       "      <td>Billet Silver Metallic Clearcoat</td>\n",
       "      <td>6.0</td>\n",
       "      <td>Gasoline</td>\n",
       "      <td>5c45a1254ea832cffc329eebf700acf918682c1b40f9a7...</td>\n",
       "    </tr>\n",
       "    <tr>\n",
       "      <th>2</th>\n",
       "      <td>sedan</td>\n",
       "      <td>LINCOLN</td>\n",
       "      <td>MKZ</td>\n",
       "      <td>1790.0</td>\n",
       "      <td>2016.0</td>\n",
       "      <td>19710</td>\n",
       "      <td>22962</td>\n",
       "      <td>22962</td>\n",
       "      <td>White Platinum Metallic Tri-Coat</td>\n",
       "      <td>6.0</td>\n",
       "      <td>Gasoline</td>\n",
       "      <td>95592374eecca29c4614b5987b760f9b528e6d3e33c2db...</td>\n",
       "    </tr>\n",
       "    <tr>\n",
       "      <th>3</th>\n",
       "      <td>sedan</td>\n",
       "      <td>FORD</td>\n",
       "      <td>Fiesta</td>\n",
       "      <td>3267.0</td>\n",
       "      <td>2011.0</td>\n",
       "      <td>92053</td>\n",
       "      <td>5962</td>\n",
       "      <td>5962</td>\n",
       "      <td>Blue</td>\n",
       "      <td>4.0</td>\n",
       "      <td>Gasoline</td>\n",
       "      <td>5558ab8c6833c13904fa4a1fbd45c8d00d02f6db9e53fe...</td>\n",
       "    </tr>\n",
       "    <tr>\n",
       "      <th>4</th>\n",
       "      <td>sedan</td>\n",
       "      <td>INFINITI</td>\n",
       "      <td>G37</td>\n",
       "      <td>2337.0</td>\n",
       "      <td>2013.0</td>\n",
       "      <td>74917</td>\n",
       "      <td>13962</td>\n",
       "      <td>13962</td>\n",
       "      <td>Vibrant Red</td>\n",
       "      <td>6.0</td>\n",
       "      <td>Gasoline</td>\n",
       "      <td>10e990a77a9615aca1f0e2210513a289fe54a9175a522d...</td>\n",
       "    </tr>\n",
       "  </tbody>\n",
       "</table>\n",
       "</div>"
      ],
      "text/plain": [
       "  body_class brand_name model_name  model_ID  model_year  mileage  ask_price  \\\n",
       "0      sedan       FORD     Taurus    1782.0      2015.0    67588      16462   \n",
       "1      sedan   CHRYSLER        300    1878.0      2017.0     9231      23962   \n",
       "2      sedan    LINCOLN        MKZ    1790.0      2016.0    19710      22962   \n",
       "3      sedan       FORD     Fiesta    3267.0      2011.0    92053       5962   \n",
       "4      sedan   INFINITI        G37    2337.0      2013.0    74917      13962   \n",
       "\n",
       "    msrp                             color  engine_cylinders  \\\n",
       "0  16462             Ingot Silver Metallic               6.0   \n",
       "1  23962  Billet Silver Metallic Clearcoat               6.0   \n",
       "2  22962  White Platinum Metallic Tri-Coat               6.0   \n",
       "3   5962                              Blue               4.0   \n",
       "4  13962                       Vibrant Red               6.0   \n",
       "\n",
       "  fuel_type_primary                                                vin  \n",
       "0          Gasoline  85384fd9108f6e9c75d7a538e4ce8a892170f7dbf42264...  \n",
       "1          Gasoline  5c45a1254ea832cffc329eebf700acf918682c1b40f9a7...  \n",
       "2          Gasoline  95592374eecca29c4614b5987b760f9b528e6d3e33c2db...  \n",
       "3          Gasoline  5558ab8c6833c13904fa4a1fbd45c8d00d02f6db9e53fe...  \n",
       "4          Gasoline  10e990a77a9615aca1f0e2210513a289fe54a9175a522d...  "
      ]
     },
     "execution_count": 2,
     "metadata": {},
     "output_type": "execute_result"
    }
   ],
   "source": [
    "df = pd.read_csv('../csv/SEDAN_DATA_CLEAN.csv')\n",
    "df.head()"
   ]
  },
  {
   "cell_type": "code",
   "execution_count": 3,
   "id": "94324486",
   "metadata": {},
   "outputs": [],
   "source": [
    "depth = 7\n",
    "model_results = {}\n",
    "train_score_list = []\n",
    "test_score_list = []\n",
    "df_test = df.drop(columns=['msrp','vin','color'])\n",
    "#names for each DF/ Model to be trained\n",
    "\n",
    "\n",
    "# divide the data\n",
    "X = df_test.drop(columns=['ask_price'])\n",
    "y = df_test['ask_price']\n",
    "\n",
    "# set dummies\n",
    "X_dummies = pd.get_dummies(X,drop_first=True)\n",
    "\n",
    "# split for test and train\n",
    "X_train, X_test, y_train, y_test = train_test_split(X_dummies, y, random_state=42)\n",
    "\n",
    "# model parameters\n",
    "model = RandomForestRegressor(max_depth=depth,n_estimators=100, random_state=12)\n",
    "\n",
    "# fit the model to the data\n",
    "model.fit(X_train, y_train)\n",
    "\n",
    "# evaluate scores and predictions\n",
    "train_predicted = model.predict(X_train)\n",
    "test_predicted = model.predict(X_test)\n",
    "\n",
    "train_score = model.score(X_train,y_train,sample_weight=None)\n",
    "test_score = model.score(X_test,y_test,sample_weight=None)\n",
    "\n",
    "# record results\n",
    "\n",
    "model_results['model'] = model\n",
    "\n",
    "model_results['train_y_pred'] = train_predicted\n",
    "model_results['test_y_pred'] = test_predicted\n",
    "\n",
    "model_results['train_score']  = train_score\n",
    "model_results['test_score']  = test_score\n",
    "\n",
    "train_score_list.append(train_score)\n",
    "test_score_list.append(test_score)\n"
   ]
  },
  {
   "cell_type": "code",
   "execution_count": 4,
   "id": "34bcb021",
   "metadata": {},
   "outputs": [],
   "source": [
    "model_results['columns'] = X_train.columns.to_list()"
   ]
  },
  {
   "cell_type": "code",
   "execution_count": 5,
   "id": "dba9815d",
   "metadata": {
    "scrolled": true
   },
   "outputs": [
    {
     "data": {
      "text/plain": [
       "{'model': RandomForestRegressor(max_depth=7, random_state=12),\n",
       " 'train_y_pred': array([15656.5796279 , 15656.5796279 , 28330.96320555, ...,\n",
       "        15656.5796279 , 15656.5796279 , 12301.02410649]),\n",
       " 'test_y_pred': array([15993.23581998,  8096.03485204, 10882.21414013, ...,\n",
       "        12287.8416809 , 15656.5796279 , 15656.5796279 ]),\n",
       " 'train_score': 0.8134483688403654,\n",
       " 'test_score': 0.812269695870799,\n",
       " 'columns': ['model_ID',\n",
       "  'model_year',\n",
       "  'mileage',\n",
       "  'engine_cylinders',\n",
       "  'brand_name_ALFA ROMEO',\n",
       "  'brand_name_ASTON MARTIN',\n",
       "  'brand_name_AUDI',\n",
       "  'brand_name_BENTLEY',\n",
       "  'brand_name_BMW',\n",
       "  'brand_name_BUICK',\n",
       "  'brand_name_CADILLAC',\n",
       "  'brand_name_CHEVROLET',\n",
       "  'brand_name_CHRYSLER',\n",
       "  'brand_name_DODGE',\n",
       "  'brand_name_FORD',\n",
       "  'brand_name_GENESIS',\n",
       "  'brand_name_HONDA',\n",
       "  'brand_name_HYUNDAI',\n",
       "  'brand_name_INFINITI',\n",
       "  'brand_name_JAGUAR',\n",
       "  'brand_name_KIA',\n",
       "  'brand_name_LEXUS',\n",
       "  'brand_name_LINCOLN',\n",
       "  'brand_name_MASERATI',\n",
       "  'brand_name_MAZDA',\n",
       "  'brand_name_MERCEDES-BENZ',\n",
       "  'brand_name_MERCURY',\n",
       "  'brand_name_MITSUBISHI',\n",
       "  'brand_name_NISSAN',\n",
       "  'brand_name_OLDSMOBILE',\n",
       "  'brand_name_PONTIAC',\n",
       "  'brand_name_PORSCHE',\n",
       "  'brand_name_SATURN',\n",
       "  'brand_name_SUBARU',\n",
       "  'brand_name_TOYOTA',\n",
       "  'brand_name_VOLKSWAGEN',\n",
       "  'brand_name_VOLVO',\n",
       "  'model_name_300',\n",
       "  'model_name_300C',\n",
       "  'model_name_320i',\n",
       "  'model_name_323i',\n",
       "  'model_name_325i',\n",
       "  'model_name_325xi',\n",
       "  'model_name_328d',\n",
       "  'model_name_328i',\n",
       "  'model_name_328xi',\n",
       "  'model_name_330e',\n",
       "  'model_name_330i',\n",
       "  'model_name_330xi',\n",
       "  'model_name_335',\n",
       "  'model_name_335d',\n",
       "  'model_name_335i',\n",
       "  'model_name_335xi',\n",
       "  'model_name_340i',\n",
       "  'model_name_428i',\n",
       "  'model_name_430i',\n",
       "  'model_name_435i',\n",
       "  'model_name_440i',\n",
       "  'model_name_525i',\n",
       "  'model_name_525iA',\n",
       "  'model_name_525xi',\n",
       "  'model_name_528i',\n",
       "  'model_name_528xi',\n",
       "  'model_name_530e',\n",
       "  'model_name_530i',\n",
       "  'model_name_530iA',\n",
       "  'model_name_530xi',\n",
       "  'model_name_535d',\n",
       "  'model_name_535i',\n",
       "  'model_name_535i/535is',\n",
       "  'model_name_535xi',\n",
       "  'model_name_540i',\n",
       "  'model_name_545i',\n",
       "  'model_name_550i',\n",
       "  'model_name_626',\n",
       "  'model_name_640i',\n",
       "  'model_name_640xi',\n",
       "  'model_name_650i',\n",
       "  'model_name_650i / ALPINA B6',\n",
       "  'model_name_650i / B6',\n",
       "  'model_name_740Li',\n",
       "  'model_name_740i',\n",
       "  'model_name_740iL',\n",
       "  'model_name_745Li',\n",
       "  'model_name_750Li',\n",
       "  'model_name_750Li / ALPINA B7',\n",
       "  'model_name_750Lxi',\n",
       "  'model_name_750Lxi / ALPINA B7',\n",
       "  'model_name_750i',\n",
       "  'model_name_750i / ALPINA B7',\n",
       "  'model_name_750i / B7',\n",
       "  'model_name_750xi',\n",
       "  'model_name_750xi / ALPINA B7',\n",
       "  'model_name_A-Class',\n",
       "  'model_name_A3',\n",
       "  'model_name_A4',\n",
       "  'model_name_A6',\n",
       "  'model_name_A7',\n",
       "  'model_name_A8',\n",
       "  'model_name_ATS',\n",
       "  'model_name_Accent',\n",
       "  'model_name_Accord',\n",
       "  'model_name_ActiveHybrid 5',\n",
       "  'model_name_Alero',\n",
       "  'model_name_Altima',\n",
       "  'model_name_Amanti',\n",
       "  'model_name_Arteon',\n",
       "  'model_name_Aura',\n",
       "  'model_name_Avalon',\n",
       "  'model_name_Avenger',\n",
       "  'model_name_Aveo',\n",
       "  'model_name_Azera',\n",
       "  'model_name_Bonneville',\n",
       "  'model_name_Brooklands',\n",
       "  'model_name_Brougham',\n",
       "  'model_name_C-Class',\n",
       "  'model_name_C-HR',\n",
       "  'model_name_CC',\n",
       "  'model_name_CLA-Class',\n",
       "  'model_name_CLS-Class',\n",
       "  'model_name_CT6',\n",
       "  'model_name_CTS',\n",
       "  'model_name_Cadenza',\n",
       "  'model_name_Camry',\n",
       "  'model_name_Caprice',\n",
       "  'model_name_Caprice Police Vehicle',\n",
       "  'model_name_Cavalier',\n",
       "  'model_name_Challenger',\n",
       "  'model_name_Charger',\n",
       "  'model_name_Cirrus',\n",
       "  'model_name_Civic',\n",
       "  'model_name_Cobalt',\n",
       "  'model_name_Concorde',\n",
       "  'model_name_Concorde/LHS',\n",
       "  'model_name_Continental',\n",
       "  'model_name_Corolla',\n",
       "  'model_name_Corolla Matrix',\n",
       "  'model_name_Corsica',\n",
       "  'model_name_Cougar',\n",
       "  'model_name_Crown Victoria',\n",
       "  'model_name_Cruze',\n",
       "  'model_name_DTS',\n",
       "  'model_name_Dart',\n",
       "  'model_name_Deville',\n",
       "  'model_name_E-Class',\n",
       "  'model_name_ES',\n",
       "  'model_name_Echo',\n",
       "  'model_name_Elantra',\n",
       "  'model_name_Equus',\n",
       "  'model_name_Escort',\n",
       "  'model_name_Fiesta',\n",
       "  'model_name_Five Hundred',\n",
       "  'model_name_Fleetwood',\n",
       "  'model_name_Focus',\n",
       "  'model_name_Forte',\n",
       "  'model_name_Fusion',\n",
       "  'model_name_G25',\n",
       "  'model_name_G35',\n",
       "  'model_name_G37',\n",
       "  'model_name_G5',\n",
       "  'model_name_G6',\n",
       "  'model_name_G70',\n",
       "  'model_name_G8',\n",
       "  'model_name_G80',\n",
       "  'model_name_G90',\n",
       "  'model_name_GLI',\n",
       "  'model_name_GS',\n",
       "  'model_name_Genesis',\n",
       "  'model_name_Geo Prizm',\n",
       "  'model_name_Ghibli',\n",
       "  'model_name_Giulia (952)',\n",
       "  'model_name_Grand AM',\n",
       "  'model_name_Grand Marquis',\n",
       "  'model_name_Grand Prix',\n",
       "  'model_name_HS',\n",
       "  'model_name_I30',\n",
       "  'model_name_I35',\n",
       "  'model_name_ILX',\n",
       "  'model_name_IS',\n",
       "  'model_name_Impala',\n",
       "  'model_name_Impala Limited',\n",
       "  'model_name_Impreza',\n",
       "  'model_name_Insight',\n",
       "  'model_name_Integra',\n",
       "  'model_name_Intrepid',\n",
       "  'model_name_Ion',\n",
       "  'model_name_Jetta',\n",
       "  'model_name_K900',\n",
       "  'model_name_L300',\n",
       "  'model_name_LHS',\n",
       "  'model_name_LS',\n",
       "  'model_name_LS1',\n",
       "  'model_name_LaCrosse',\n",
       "  'model_name_LeSabre',\n",
       "  'model_name_Legacy',\n",
       "  'model_name_Lucerne',\n",
       "  'model_name_M3',\n",
       "  'model_name_M340i',\n",
       "  'model_name_M35',\n",
       "  'model_name_M35h',\n",
       "  'model_name_M37',\n",
       "  'model_name_M45',\n",
       "  'model_name_M5',\n",
       "  'model_name_M550i',\n",
       "  'model_name_M56',\n",
       "  'model_name_M6',\n",
       "  'model_name_MKS',\n",
       "  'model_name_MKZ',\n",
       "  'model_name_Malibu',\n",
       "  'model_name_Malibu Classic',\n",
       "  'model_name_Marauder',\n",
       "  'model_name_Mark',\n",
       "  'model_name_Maxima',\n",
       "  'model_name_Mazda3',\n",
       "  'model_name_Mazda6',\n",
       "  'model_name_Milan',\n",
       "  'model_name_Mirage G4',\n",
       "  'model_name_Montego',\n",
       "  'model_name_Mulsanne',\n",
       "  'model_name_Neon',\n",
       "  'model_name_Ninety Eight (98)',\n",
       "  'model_name_Optima',\n",
       "  'model_name_PRIUS',\n",
       "  'model_name_Panamera',\n",
       "  'model_name_Passat',\n",
       "  'model_name_Phaeton',\n",
       "  'model_name_Protege',\n",
       "  'model_name_Q50',\n",
       "  'model_name_Q70',\n",
       "  'model_name_Q70L',\n",
       "  'model_name_Quattroporte',\n",
       "  'model_name_RL',\n",
       "  'model_name_RLX',\n",
       "  'model_name_RS3',\n",
       "  'model_name_RS4',\n",
       "  'model_name_RS7',\n",
       "  'model_name_Rapide',\n",
       "  'model_name_Regal',\n",
       "  'model_name_Rio',\n",
       "  'model_name_S-Class',\n",
       "  'model_name_S3',\n",
       "  'model_name_S4',\n",
       "  'model_name_S40',\n",
       "  'model_name_S6',\n",
       "  'model_name_S60',\n",
       "  'model_name_S60 Cross Country',\n",
       "  'model_name_S7',\n",
       "  'model_name_S8',\n",
       "  'model_name_S80',\n",
       "  'model_name_S90',\n",
       "  'model_name_SS',\n",
       "  'model_name_STS',\n",
       "  'model_name_SVX',\n",
       "  'model_name_Sable',\n",
       "  'model_name_Scion iA',\n",
       "  'model_name_Sebring',\n",
       "  'model_name_Sentra',\n",
       "  'model_name_Seville',\n",
       "  'model_name_Sonata',\n",
       "  'model_name_Sonic',\n",
       "  'model_name_Spectra',\n",
       "  'model_name_Stratus',\n",
       "  'model_name_TL',\n",
       "  'model_name_TLX',\n",
       "  'model_name_TSX',\n",
       "  'model_name_Taurus',\n",
       "  'model_name_Town Car',\n",
       "  'model_name_Veloster',\n",
       "  'model_name_Verano',\n",
       "  'model_name_Versa',\n",
       "  'model_name_WRX',\n",
       "  'model_name_X-Type',\n",
       "  'model_name_XE',\n",
       "  'model_name_XF',\n",
       "  'model_name_XJ',\n",
       "  'model_name_XTS',\n",
       "  'model_name_Yaris',\n",
       "  'model_name_Yaris iA',\n",
       "  'model_name_Zephyr',\n",
       "  'model_name_new Passat',\n",
       "  'fuel_type_primary_Gasoline']}"
      ]
     },
     "execution_count": 5,
     "metadata": {},
     "output_type": "execute_result"
    }
   ],
   "source": [
    "model_results"
   ]
  },
  {
   "cell_type": "code",
   "execution_count": 6,
   "id": "e906f20f",
   "metadata": {},
   "outputs": [
    {
     "data": {
      "text/plain": [
       "['../models/sedan_depth_7_81_no_color.joblib']"
      ]
     },
     "execution_count": 6,
     "metadata": {},
     "output_type": "execute_result"
    }
   ],
   "source": [
    "model = model_results['model']\n",
    "joblib.dump(model,'../models/sedan_depth_7_81_no_color.joblib')"
   ]
  },
  {
   "cell_type": "code",
   "execution_count": 7,
   "id": "7751dac6",
   "metadata": {},
   "outputs": [],
   "source": [
    "model = joblib.load('../models/sedan_depth_7_81_no_color.joblib')"
   ]
  },
  {
   "cell_type": "code",
   "execution_count": 8,
   "id": "d45b5914",
   "metadata": {},
   "outputs": [
    {
     "data": {
      "text/plain": [
       "0.812269695870799"
      ]
     },
     "execution_count": 8,
     "metadata": {},
     "output_type": "execute_result"
    }
   ],
   "source": [
    "model.score(X_test,y_test,sample_weight=None)"
   ]
  },
  {
   "cell_type": "code",
   "execution_count": 9,
   "id": "a1a0fddb",
   "metadata": {},
   "outputs": [
    {
     "data": {
      "text/plain": [
       "array([15993.23581998,  8096.03485204, 10882.21414013, ...,\n",
       "       12287.8416809 , 15656.5796279 , 15656.5796279 ])"
      ]
     },
     "execution_count": 9,
     "metadata": {},
     "output_type": "execute_result"
    }
   ],
   "source": [
    "model.predict(X_test)"
   ]
  },
  {
   "cell_type": "code",
   "execution_count": 10,
   "id": "103ff025",
   "metadata": {},
   "outputs": [
    {
     "data": {
      "text/plain": [
       "array([15993.23581998,  8096.03485204, 10882.21414013, ...,\n",
       "       12287.8416809 , 15656.5796279 , 15656.5796279 ])"
      ]
     },
     "execution_count": 10,
     "metadata": {},
     "output_type": "execute_result"
    }
   ],
   "source": [
    "model_results['test_y_pred']"
   ]
  },
  {
   "cell_type": "code",
   "execution_count": 14,
   "id": "ae2ca197",
   "metadata": {},
   "outputs": [
    {
     "data": {
      "image/png": "[encoded data removed]",
      "text/plain": [
       "<Figure size 1080x720 with 1 Axes>"
      ]
     },
     "metadata": {
      "needs_background": "light"
     },
     "output_type": "display_data"
    }
   ],
   "source": [
    "feature_importances = model.feature_importances_\n",
    "features = sorted(zip(X_test.columns, model.feature_importances_), key = lambda x: x[1])\n",
    "cols = [f[0] for f in features[-10:]]\n",
    "width = [f[1] for f in features[-10:]]\n",
    "\n",
    "fig, ax = plt.subplots()\n",
    "\n",
    "fig.set_size_inches(15,10)\n",
    "plt.margins(y=0.001)\n",
    "\n",
    "plt.bar(x=cols, height=width)\n",
    "plt.title('sedan_features_top_10')\n",
    "plt.xticks(rotation=45)\n",
    "plt.savefig('../visualizations/sedan_top_10_cols.png')\n",
    "plt.show()\n"
   ]
  },
  {
   "cell_type": "code",
   "execution_count": 15,
   "id": "eb925176",
   "metadata": {},
   "outputs": [
    {
     "name": "stdout",
     "output_type": "stream",
     "text": [
      "['model_ID', 'model_year', 'mileage', 'engine_cylinders', 'brand_name_ALFA ROMEO', 'brand_name_ASTON MARTIN', 'brand_name_AUDI', 'brand_name_BENTLEY', 'brand_name_BMW', 'brand_name_BUICK', 'brand_name_CADILLAC', 'brand_name_CHEVROLET', 'brand_name_CHRYSLER', 'brand_name_DODGE', 'brand_name_FORD', 'brand_name_GENESIS', 'brand_name_HONDA', 'brand_name_HYUNDAI', 'brand_name_INFINITI', 'brand_name_JAGUAR', 'brand_name_KIA', 'brand_name_LEXUS', 'brand_name_LINCOLN', 'brand_name_MASERATI', 'brand_name_MAZDA', 'brand_name_MERCEDES-BENZ', 'brand_name_MERCURY', 'brand_name_MITSUBISHI', 'brand_name_NISSAN', 'brand_name_OLDSMOBILE', 'brand_name_PONTIAC', 'brand_name_PORSCHE', 'brand_name_SATURN', 'brand_name_SUBARU', 'brand_name_TOYOTA', 'brand_name_VOLKSWAGEN', 'brand_name_VOLVO', 'model_name_300', 'model_name_300C', 'model_name_320i', 'model_name_323i', 'model_name_325i', 'model_name_325xi', 'model_name_328d', 'model_name_328i', 'model_name_328xi', 'model_name_330e', 'model_name_330i', 'model_name_330xi', 'model_name_335', 'model_name_335d', 'model_name_335i', 'model_name_335xi', 'model_name_340i', 'model_name_428i', 'model_name_430i', 'model_name_435i', 'model_name_440i', 'model_name_525i', 'model_name_525iA', 'model_name_525xi', 'model_name_528i', 'model_name_528xi', 'model_name_530e', 'model_name_530i', 'model_name_530iA', 'model_name_530xi', 'model_name_535d', 'model_name_535i', 'model_name_535i/535is', 'model_name_535xi', 'model_name_540i', 'model_name_545i', 'model_name_550i', 'model_name_626', 'model_name_640i', 'model_name_640xi', 'model_name_650i', 'model_name_650i / ALPINA B6', 'model_name_650i / B6', 'model_name_740Li', 'model_name_740i', 'model_name_740iL', 'model_name_745Li', 'model_name_750Li', 'model_name_750Li / ALPINA B7', 'model_name_750Lxi', 'model_name_750Lxi / ALPINA B7', 'model_name_750i', 'model_name_750i / ALPINA B7', 'model_name_750i / B7', 'model_name_750xi', 'model_name_750xi / ALPINA B7', 'model_name_A-Class', 'model_name_A3', 'model_name_A4', 'model_name_A6', 'model_name_A7', 'model_name_A8', 'model_name_ATS', 'model_name_Accent', 'model_name_Accord', 'model_name_ActiveHybrid 5', 'model_name_Alero', 'model_name_Altima', 'model_name_Amanti', 'model_name_Arteon', 'model_name_Aura', 'model_name_Avalon', 'model_name_Avenger', 'model_name_Aveo', 'model_name_Azera', 'model_name_Bonneville', 'model_name_Brooklands', 'model_name_Brougham', 'model_name_C-Class', 'model_name_C-HR', 'model_name_CC', 'model_name_CLA-Class', 'model_name_CLS-Class', 'model_name_CT6', 'model_name_CTS', 'model_name_Cadenza', 'model_name_Camry', 'model_name_Caprice', 'model_name_Caprice Police Vehicle', 'model_name_Cavalier', 'model_name_Challenger', 'model_name_Charger', 'model_name_Cirrus', 'model_name_Civic', 'model_name_Cobalt', 'model_name_Concorde', 'model_name_Concorde/LHS', 'model_name_Continental', 'model_name_Corolla', 'model_name_Corolla Matrix', 'model_name_Corsica', 'model_name_Cougar', 'model_name_Crown Victoria', 'model_name_Cruze', 'model_name_DTS', 'model_name_Dart', 'model_name_Deville', 'model_name_E-Class', 'model_name_ES', 'model_name_Echo', 'model_name_Elantra', 'model_name_Equus', 'model_name_Escort', 'model_name_Fiesta', 'model_name_Five Hundred', 'model_name_Fleetwood', 'model_name_Focus', 'model_name_Forte', 'model_name_Fusion', 'model_name_G25', 'model_name_G35', 'model_name_G37', 'model_name_G5', 'model_name_G6', 'model_name_G70', 'model_name_G8', 'model_name_G80', 'model_name_G90', 'model_name_GLI', 'model_name_GS', 'model_name_Genesis', 'model_name_Geo Prizm', 'model_name_Ghibli', 'model_name_Giulia (952)', 'model_name_Grand AM', 'model_name_Grand Marquis', 'model_name_Grand Prix', 'model_name_HS', 'model_name_I30', 'model_name_I35', 'model_name_ILX', 'model_name_IS', 'model_name_Impala', 'model_name_Impala Limited', 'model_name_Impreza', 'model_name_Insight', 'model_name_Integra', 'model_name_Intrepid', 'model_name_Ion', 'model_name_Jetta', 'model_name_K900', 'model_name_L300', 'model_name_LHS', 'model_name_LS', 'model_name_LS1', 'model_name_LaCrosse', 'model_name_LeSabre', 'model_name_Legacy', 'model_name_Lucerne', 'model_name_M3', 'model_name_M340i', 'model_name_M35', 'model_name_M35h', 'model_name_M37', 'model_name_M45', 'model_name_M5', 'model_name_M550i', 'model_name_M56', 'model_name_M6', 'model_name_MKS', 'model_name_MKZ', 'model_name_Malibu', 'model_name_Malibu Classic', 'model_name_Marauder', 'model_name_Mark', 'model_name_Maxima', 'model_name_Mazda3', 'model_name_Mazda6', 'model_name_Milan', 'model_name_Mirage G4', 'model_name_Montego', 'model_name_Mulsanne', 'model_name_Neon', 'model_name_Ninety Eight (98)', 'model_name_Optima', 'model_name_PRIUS', 'model_name_Panamera', 'model_name_Passat', 'model_name_Phaeton', 'model_name_Protege', 'model_name_Q50', 'model_name_Q70', 'model_name_Q70L', 'model_name_Quattroporte', 'model_name_RL', 'model_name_RLX', 'model_name_RS3', 'model_name_RS4', 'model_name_RS7', 'model_name_Rapide', 'model_name_Regal', 'model_name_Rio', 'model_name_S-Class', 'model_name_S3', 'model_name_S4', 'model_name_S40', 'model_name_S6', 'model_name_S60', 'model_name_S60 Cross Country', 'model_name_S7', 'model_name_S8', 'model_name_S80', 'model_name_S90', 'model_name_SS', 'model_name_STS', 'model_name_SVX', 'model_name_Sable', 'model_name_Scion iA', 'model_name_Sebring', 'model_name_Sentra', 'model_name_Seville', 'model_name_Sonata', 'model_name_Sonic', 'model_name_Spectra', 'model_name_Stratus', 'model_name_TL', 'model_name_TLX', 'model_name_TSX', 'model_name_Taurus', 'model_name_Town Car', 'model_name_Veloster', 'model_name_Verano', 'model_name_Versa', 'model_name_WRX', 'model_name_X-Type', 'model_name_XE', 'model_name_XF', 'model_name_XJ', 'model_name_XTS', 'model_name_Yaris', 'model_name_Yaris iA', 'model_name_Zephyr', 'model_name_new Passat', 'fuel_type_primary_Gasoline']\n"
     ]
    }
   ],
   "source": [
    "print(model_results['columns'])"
   ]
  },
  {
   "cell_type": "code",
   "execution_count": null,
   "id": "39d395d8",
   "metadata": {},
   "outputs": [],
   "source": []
  }
 ],
 "metadata": {
  "kernelspec": {
   "display_name": "Python 3",
   "language": "python",
   "name": "python3"
  },
  "language_info": {
   "codemirror_mode": {
    "name": "ipython",
    "version": 3
   },
   "file_extension": ".py",
   "mimetype": "text/x-python",
   "name": "python",
   "nbconvert_exporter": "python",
   "pygments_lexer": "ipython3",
   "version": "3.8.8"
  }
 },
 "nbformat": 4,
 "nbformat_minor": 5
}
