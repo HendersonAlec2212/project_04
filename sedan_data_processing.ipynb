{
 "cells": [
  {
   "cell_type": "markdown",
   "id": "714d080f",
   "metadata": {},
   "source": [
    "# Goal:\n",
    "\n",
    "- rename rows\n",
    "- remove NaN values\n",
    "- keep only rows with usable info\n",
    "- drop absolutely unecessary columns, else: keep for dropping later to avoid re-loading a csv when training model\n",
    "- save file as clean_sedan_total"
   ]
  },
  {
   "cell_type": "code",
   "execution_count": 11,
   "id": "9e7e08ec",
   "metadata": {},
   "outputs": [
    {
     "data": {
      "text/plain": [
       "'C:\\\\Users\\\\Alec\\\\Documents\\\\Programming_Resources\\\\Boot_Camp\\\\project-04\\\\CISautoData'"
      ]
     },
     "execution_count": 11,
     "metadata": {},
     "output_type": "execute_result"
    }
   ],
   "source": [
    "import pandas as pd\n",
    "from os import getcwd\n",
    "import numpy as np\n",
    "import scipy.stats as st\n",
    "\n",
    "\n",
    "getcwd()"
   ]
  },
  {
   "cell_type": "code",
   "execution_count": 6,
   "id": "f3b5d593",
   "metadata": {},
   "outputs": [],
   "source": [
    "infile = 'data_raw/sedan_chunk_total.csv'"
   ]
  },
  {
   "cell_type": "code",
   "execution_count": 8,
   "id": "dfbfd87b",
   "metadata": {},
   "outputs": [],
   "source": [
    "df = pd.read_csv(infile)"
   ]
  },
  {
   "cell_type": "code",
   "execution_count": 9,
   "id": "4256af3d",
   "metadata": {},
   "outputs": [
    {
     "data": {
      "text/html": [
       "<div>\n",
       "<style scoped>\n",
       "    .dataframe tbody tr th:only-of-type {\n",
       "        vertical-align: middle;\n",
       "    }\n",
       "\n",
       "    .dataframe tbody tr th {\n",
       "        vertical-align: top;\n",
       "    }\n",
       "\n",
       "    .dataframe thead th {\n",
       "        text-align: right;\n",
       "    }\n",
       "</style>\n",
       "<table border=\"1\" class=\"dataframe\">\n",
       "  <thead>\n",
       "    <tr style=\"text-align: right;\">\n",
       "      <th></th>\n",
       "      <th>vf_BodyClass</th>\n",
       "      <th>vf_Make</th>\n",
       "      <th>vf_MakeID</th>\n",
       "      <th>vf_Model</th>\n",
       "      <th>vf_ModelID</th>\n",
       "      <th>vf_ModelYear</th>\n",
       "      <th>mileage</th>\n",
       "      <th>askPrice</th>\n",
       "      <th>msrp</th>\n",
       "      <th>color</th>\n",
       "      <th>...</th>\n",
       "      <th>vf_FuelTypePrimary</th>\n",
       "      <th>vf_FuelTypeSecondary</th>\n",
       "      <th>vf_Series</th>\n",
       "      <th>vf_Series2</th>\n",
       "      <th>vf_SteeringLocation</th>\n",
       "      <th>vf_TransmissionStyle</th>\n",
       "      <th>vf_Trim</th>\n",
       "      <th>vf_Trim2</th>\n",
       "      <th>vf_Turbo</th>\n",
       "      <th>vin</th>\n",
       "    </tr>\n",
       "  </thead>\n",
       "  <tbody>\n",
       "    <tr>\n",
       "      <th>0</th>\n",
       "      <td>Sedan/Saloon</td>\n",
       "      <td>HONDA</td>\n",
       "      <td>474.0</td>\n",
       "      <td>Accord</td>\n",
       "      <td>1861.0</td>\n",
       "      <td>2011.0</td>\n",
       "      <td>66253</td>\n",
       "      <td>0</td>\n",
       "      <td>0</td>\n",
       "      <td>Dark Amber Metallic</td>\n",
       "      <td>...</td>\n",
       "      <td>Gasoline</td>\n",
       "      <td>NaN</td>\n",
       "      <td>NaN</td>\n",
       "      <td>NaN</td>\n",
       "      <td>NaN</td>\n",
       "      <td>Automatic</td>\n",
       "      <td>LX</td>\n",
       "      <td>NaN</td>\n",
       "      <td>NaN</td>\n",
       "      <td>17db7a4f0262c5312dbc4f00c126e02dcaac8a17f81a6d...</td>\n",
       "    </tr>\n",
       "    <tr>\n",
       "      <th>1</th>\n",
       "      <td>Sedan/Saloon</td>\n",
       "      <td>HONDA</td>\n",
       "      <td>474.0</td>\n",
       "      <td>Civic</td>\n",
       "      <td>1863.0</td>\n",
       "      <td>2014.0</td>\n",
       "      <td>81493</td>\n",
       "      <td>0</td>\n",
       "      <td>0</td>\n",
       "      <td>Black</td>\n",
       "      <td>...</td>\n",
       "      <td>Gasoline</td>\n",
       "      <td>NaN</td>\n",
       "      <td>Si</td>\n",
       "      <td>NaN</td>\n",
       "      <td>NaN</td>\n",
       "      <td>Manual/Standard</td>\n",
       "      <td>NaN</td>\n",
       "      <td>NaN</td>\n",
       "      <td>NaN</td>\n",
       "      <td>a9a44eb9d5b82470cdf9692f33597cf8b2d33868a0a537...</td>\n",
       "    </tr>\n",
       "    <tr>\n",
       "      <th>2</th>\n",
       "      <td>Sedan/Saloon</td>\n",
       "      <td>CHEVROLET</td>\n",
       "      <td>467.0</td>\n",
       "      <td>Malibu</td>\n",
       "      <td>1834.0</td>\n",
       "      <td>2012.0</td>\n",
       "      <td>79232</td>\n",
       "      <td>0</td>\n",
       "      <td>0</td>\n",
       "      <td>Black Granite Metallic</td>\n",
       "      <td>...</td>\n",
       "      <td>Gasoline</td>\n",
       "      <td>NaN</td>\n",
       "      <td>1LT</td>\n",
       "      <td>NaN</td>\n",
       "      <td>NaN</td>\n",
       "      <td>NaN</td>\n",
       "      <td>NaN</td>\n",
       "      <td>NaN</td>\n",
       "      <td>NaN</td>\n",
       "      <td>4a402fc8181916a7fdddeb00509bbd14a278d29265b046...</td>\n",
       "    </tr>\n",
       "    <tr>\n",
       "      <th>3</th>\n",
       "      <td>Sedan/Saloon</td>\n",
       "      <td>CHEVROLET</td>\n",
       "      <td>467.0</td>\n",
       "      <td>Malibu</td>\n",
       "      <td>1834.0</td>\n",
       "      <td>2017.0</td>\n",
       "      <td>23056</td>\n",
       "      <td>0</td>\n",
       "      <td>0</td>\n",
       "      <td>Cajun Red Tintcoat</td>\n",
       "      <td>...</td>\n",
       "      <td>Gasoline</td>\n",
       "      <td>NaN</td>\n",
       "      <td>LT (1LT)</td>\n",
       "      <td>NaN</td>\n",
       "      <td>Left Hand Drive (LHD)</td>\n",
       "      <td>NaN</td>\n",
       "      <td>NaN</td>\n",
       "      <td>NaN</td>\n",
       "      <td>Yes</td>\n",
       "      <td>88c484edf48234c4e6d824ae18320de19c7bcb00bdecec...</td>\n",
       "    </tr>\n",
       "    <tr>\n",
       "      <th>4</th>\n",
       "      <td>Sedan/Saloon</td>\n",
       "      <td>FORD</td>\n",
       "      <td>460.0</td>\n",
       "      <td>Fiesta</td>\n",
       "      <td>3267.0</td>\n",
       "      <td>2015.0</td>\n",
       "      <td>31793</td>\n",
       "      <td>0</td>\n",
       "      <td>0</td>\n",
       "      <td>Tuxedo Black</td>\n",
       "      <td>...</td>\n",
       "      <td>Flexible Fuel Vehicle (FFV)</td>\n",
       "      <td>NaN</td>\n",
       "      <td>S</td>\n",
       "      <td>NaN</td>\n",
       "      <td>NaN</td>\n",
       "      <td>NaN</td>\n",
       "      <td>NaN</td>\n",
       "      <td>NaN</td>\n",
       "      <td>NaN</td>\n",
       "      <td>c96cfc665d912be3a39b4dc3126faa11dd2f9e589b849c...</td>\n",
       "    </tr>\n",
       "  </tbody>\n",
       "</table>\n",
       "<p>5 rows × 25 columns</p>\n",
       "</div>"
      ],
      "text/plain": [
       "   vf_BodyClass    vf_Make  vf_MakeID vf_Model  vf_ModelID  vf_ModelYear  \\\n",
       "0  Sedan/Saloon      HONDA      474.0   Accord      1861.0        2011.0   \n",
       "1  Sedan/Saloon      HONDA      474.0    Civic      1863.0        2014.0   \n",
       "2  Sedan/Saloon  CHEVROLET      467.0   Malibu      1834.0        2012.0   \n",
       "3  Sedan/Saloon  CHEVROLET      467.0   Malibu      1834.0        2017.0   \n",
       "4  Sedan/Saloon       FORD      460.0   Fiesta      3267.0        2015.0   \n",
       "\n",
       "   mileage  askPrice  msrp                   color  ...  \\\n",
       "0    66253         0     0     Dark Amber Metallic  ...   \n",
       "1    81493         0     0                   Black  ...   \n",
       "2    79232         0     0  Black Granite Metallic  ...   \n",
       "3    23056         0     0      Cajun Red Tintcoat  ...   \n",
       "4    31793         0     0            Tuxedo Black  ...   \n",
       "\n",
       "            vf_FuelTypePrimary vf_FuelTypeSecondary  vf_Series  vf_Series2  \\\n",
       "0                     Gasoline                  NaN        NaN         NaN   \n",
       "1                     Gasoline                  NaN         Si         NaN   \n",
       "2                     Gasoline                  NaN        1LT         NaN   \n",
       "3                     Gasoline                  NaN   LT (1LT)         NaN   \n",
       "4  Flexible Fuel Vehicle (FFV)                  NaN          S         NaN   \n",
       "\n",
       "     vf_SteeringLocation vf_TransmissionStyle vf_Trim vf_Trim2 vf_Turbo  \\\n",
       "0                    NaN            Automatic      LX      NaN      NaN   \n",
       "1                    NaN      Manual/Standard     NaN      NaN      NaN   \n",
       "2                    NaN                  NaN     NaN      NaN      NaN   \n",
       "3  Left Hand Drive (LHD)                  NaN     NaN      NaN      Yes   \n",
       "4                    NaN                  NaN     NaN      NaN      NaN   \n",
       "\n",
       "                                                 vin  \n",
       "0  17db7a4f0262c5312dbc4f00c126e02dcaac8a17f81a6d...  \n",
       "1  a9a44eb9d5b82470cdf9692f33597cf8b2d33868a0a537...  \n",
       "2  4a402fc8181916a7fdddeb00509bbd14a278d29265b046...  \n",
       "3  88c484edf48234c4e6d824ae18320de19c7bcb00bdecec...  \n",
       "4  c96cfc665d912be3a39b4dc3126faa11dd2f9e589b849c...  \n",
       "\n",
       "[5 rows x 25 columns]"
      ]
     },
     "execution_count": 9,
     "metadata": {},
     "output_type": "execute_result"
    }
   ],
   "source": [
    "df.head()"
   ]
  },
  {
   "cell_type": "code",
   "execution_count": 39,
   "id": "8bcb9a9b",
   "metadata": {},
   "outputs": [
    {
     "name": "stdout",
     "output_type": "stream",
     "text": [
      "<class 'pandas.core.frame.DataFrame'>\n",
      "RangeIndex: 613306 entries, 0 to 613305\n",
      "Data columns (total 25 columns):\n",
      " #   Column                Non-Null Count   Dtype  \n",
      "---  ------                --------------   -----  \n",
      " 0   vf_BodyClass          613306 non-null  object \n",
      " 1   vf_Make               613306 non-null  object \n",
      " 2   vf_MakeID             613306 non-null  float64\n",
      " 3   vf_Model              613209 non-null  object \n",
      " 4   vf_ModelID            613209 non-null  float64\n",
      " 5   vf_ModelYear          613303 non-null  float64\n",
      " 6   mileage               613306 non-null  int64  \n",
      " 7   askPrice              613306 non-null  int64  \n",
      " 8   msrp                  613306 non-null  int64  \n",
      " 9   color                 579514 non-null  object \n",
      " 10  interiorColor         450288 non-null  object \n",
      " 11  vf_BodyCabType        613201 non-null  object \n",
      " 12  vf_Doors              611544 non-null  float64\n",
      " 13  vf_EngineCylinders    559084 non-null  float64\n",
      " 14  vf_EngineHP           343570 non-null  float64\n",
      " 15  vf_FuelTypePrimary    585730 non-null  object \n",
      " 16  vf_FuelTypeSecondary  52547 non-null   object \n",
      " 17  vf_Series             466597 non-null  object \n",
      " 18  vf_Series2            43158 non-null   object \n",
      " 19  vf_SteeringLocation   143792 non-null  object \n",
      " 20  vf_TransmissionStyle  172815 non-null  object \n",
      " 21  vf_Trim               168332 non-null  object \n",
      " 22  vf_Trim2              489 non-null     object \n",
      " 23  vf_Turbo              75995 non-null   object \n",
      " 24  vin                   613306 non-null  object \n",
      "dtypes: float64(6), int64(3), object(16)\n",
      "memory usage: 117.0+ MB\n"
     ]
    }
   ],
   "source": [
    "df.info()"
   ]
  },
  {
   "cell_type": "code",
   "execution_count": 24,
   "id": "920d6dfe",
   "metadata": {},
   "outputs": [],
   "source": [
    "df_main_features = df[[\n",
    "    'vf_Make',\n",
    "    'vf_MakeID',\n",
    "    'vf_Model',\n",
    "    'vf_ModelID',\n",
    "    'vf_ModelYear',\n",
    "    'mileage',\n",
    "    'askPrice',\n",
    "    'msrp',\n",
    "    'color',\n",
    "]]"
   ]
  },
  {
   "cell_type": "code",
   "execution_count": 25,
   "id": "0b526694",
   "metadata": {},
   "outputs": [],
   "source": [
    "# rename columns\n",
    "df_main_features = df_main_features.rename(columns={\n",
    "    'vf_Make': 'make',\n",
    "    'vf_MakeID': 'makeID',\n",
    "    'vf_Model': 'model',\n",
    "    'vf_ModelID': 'modelID',\n",
    "    'vf_ModelYear': 'modelYear',\n",
    "    'mileage': 'mileage',\n",
    "    'askPrice': 'askPrice',\n",
    "    'msrp': 'msrp',\n",
    "    'color': 'color',\n",
    "})"
   ]
  },
  {
   "cell_type": "code",
   "execution_count": 26,
   "id": "582e7a00",
   "metadata": {},
   "outputs": [],
   "source": [
    "df_main_features = df_main_features.loc[df_main_features['askPrice'] != 0]"
   ]
  },
  {
   "cell_type": "code",
   "execution_count": 27,
   "id": "f5ca643a",
   "metadata": {},
   "outputs": [
    {
     "data": {
      "text/plain": [
       "make         505058\n",
       "makeID       505058\n",
       "model        504998\n",
       "modelID      504998\n",
       "modelYear    505058\n",
       "mileage      505058\n",
       "askPrice     505058\n",
       "msrp         505058\n",
       "color        490521\n",
       "dtype: int64"
      ]
     },
     "execution_count": 27,
     "metadata": {},
     "output_type": "execute_result"
    }
   ],
   "source": [
    "df_main_features.count()"
   ]
  },
  {
   "cell_type": "code",
   "execution_count": 28,
   "id": "43aaf0e8",
   "metadata": {},
   "outputs": [
    {
     "data": {
      "text/plain": [
       "make         490463\n",
       "makeID       490463\n",
       "model        490463\n",
       "modelID      490463\n",
       "modelYear    490463\n",
       "mileage      490463\n",
       "askPrice     490463\n",
       "msrp         490463\n",
       "color        490463\n",
       "dtype: int64"
      ]
     },
     "execution_count": 28,
     "metadata": {},
     "output_type": "execute_result"
    }
   ],
   "source": [
    "df_main_features.dropna(how='any').count()"
   ]
  },
  {
   "cell_type": "code",
   "execution_count": 29,
   "id": "8ed1e2be",
   "metadata": {},
   "outputs": [],
   "source": [
    "# remove NaN\n",
    "df_main_features = df_main_features.dropna(how='any')"
   ]
  },
  {
   "cell_type": "code",
   "execution_count": 32,
   "id": "42403f13",
   "metadata": {},
   "outputs": [],
   "source": [
    "# Calculate the age of the vehicle\n",
    "car_age = (2020 - df_main_features['modelYear'])"
   ]
  },
  {
   "cell_type": "code",
   "execution_count": 35,
   "id": "200893c3",
   "metadata": {},
   "outputs": [],
   "source": [
    "# insert the new column into the dataframe\n",
    "df_main_features.insert(5, 'age_in_years', car_age)"
   ]
  },
  {
   "cell_type": "code",
   "execution_count": 36,
   "id": "239cfa25",
   "metadata": {
    "scrolled": true
   },
   "outputs": [
    {
     "data": {
      "text/html": [
       "<div>\n",
       "<style scoped>\n",
       "    .dataframe tbody tr th:only-of-type {\n",
       "        vertical-align: middle;\n",
       "    }\n",
       "\n",
       "    .dataframe tbody tr th {\n",
       "        vertical-align: top;\n",
       "    }\n",
       "\n",
       "    .dataframe thead th {\n",
       "        text-align: right;\n",
       "    }\n",
       "</style>\n",
       "<table border=\"1\" class=\"dataframe\">\n",
       "  <thead>\n",
       "    <tr style=\"text-align: right;\">\n",
       "      <th></th>\n",
       "      <th>make</th>\n",
       "      <th>makeID</th>\n",
       "      <th>model</th>\n",
       "      <th>modelID</th>\n",
       "      <th>modelYear</th>\n",
       "      <th>age_in_years</th>\n",
       "      <th>mileage</th>\n",
       "      <th>askPrice</th>\n",
       "      <th>msrp</th>\n",
       "      <th>color</th>\n",
       "    </tr>\n",
       "  </thead>\n",
       "  <tbody>\n",
       "    <tr>\n",
       "      <th>18</th>\n",
       "      <td>FORD</td>\n",
       "      <td>460.0</td>\n",
       "      <td>Taurus</td>\n",
       "      <td>1782.0</td>\n",
       "      <td>2015.0</td>\n",
       "      <td>5.0</td>\n",
       "      <td>67588</td>\n",
       "      <td>16462</td>\n",
       "      <td>16462</td>\n",
       "      <td>Ingot Silver Metallic</td>\n",
       "    </tr>\n",
       "    <tr>\n",
       "      <th>31</th>\n",
       "      <td>AUDI</td>\n",
       "      <td>582.0</td>\n",
       "      <td>S8</td>\n",
       "      <td>3678.0</td>\n",
       "      <td>2015.0</td>\n",
       "      <td>5.0</td>\n",
       "      <td>32990</td>\n",
       "      <td>59962</td>\n",
       "      <td>59962</td>\n",
       "      <td>Daytona Gray Pearl Effect</td>\n",
       "    </tr>\n",
       "    <tr>\n",
       "      <th>46</th>\n",
       "      <td>CHRYSLER</td>\n",
       "      <td>477.0</td>\n",
       "      <td>300</td>\n",
       "      <td>1878.0</td>\n",
       "      <td>2017.0</td>\n",
       "      <td>3.0</td>\n",
       "      <td>9231</td>\n",
       "      <td>23962</td>\n",
       "      <td>23962</td>\n",
       "      <td>Billet Silver Metallic Clearcoat</td>\n",
       "    </tr>\n",
       "    <tr>\n",
       "      <th>50</th>\n",
       "      <td>LINCOLN</td>\n",
       "      <td>464.0</td>\n",
       "      <td>MKZ</td>\n",
       "      <td>1790.0</td>\n",
       "      <td>2016.0</td>\n",
       "      <td>4.0</td>\n",
       "      <td>19710</td>\n",
       "      <td>22962</td>\n",
       "      <td>22962</td>\n",
       "      <td>White Platinum Metallic Tri-Coat</td>\n",
       "    </tr>\n",
       "    <tr>\n",
       "      <th>53</th>\n",
       "      <td>FORD</td>\n",
       "      <td>460.0</td>\n",
       "      <td>Fiesta</td>\n",
       "      <td>3267.0</td>\n",
       "      <td>2011.0</td>\n",
       "      <td>9.0</td>\n",
       "      <td>92053</td>\n",
       "      <td>5962</td>\n",
       "      <td>5962</td>\n",
       "      <td>Blue</td>\n",
       "    </tr>\n",
       "  </tbody>\n",
       "</table>\n",
       "</div>"
      ],
      "text/plain": [
       "        make  makeID   model  modelID  modelYear  age_in_years  mileage  \\\n",
       "18      FORD   460.0  Taurus   1782.0     2015.0           5.0    67588   \n",
       "31      AUDI   582.0      S8   3678.0     2015.0           5.0    32990   \n",
       "46  CHRYSLER   477.0     300   1878.0     2017.0           3.0     9231   \n",
       "50   LINCOLN   464.0     MKZ   1790.0     2016.0           4.0    19710   \n",
       "53      FORD   460.0  Fiesta   3267.0     2011.0           9.0    92053   \n",
       "\n",
       "    askPrice   msrp                             color  \n",
       "18     16462  16462             Ingot Silver Metallic  \n",
       "31     59962  59962         Daytona Gray Pearl Effect  \n",
       "46     23962  23962  Billet Silver Metallic Clearcoat  \n",
       "50     22962  22962  White Platinum Metallic Tri-Coat  \n",
       "53      5962   5962                              Blue  "
      ]
     },
     "execution_count": 36,
     "metadata": {},
     "output_type": "execute_result"
    }
   ],
   "source": [
    "df_main_features.head()"
   ]
  },
  {
   "cell_type": "code",
   "execution_count": null,
   "id": "316b3fe8",
   "metadata": {},
   "outputs": [],
   "source": []
  },
  {
   "cell_type": "code",
   "execution_count": 40,
   "id": "40f20a3d",
   "metadata": {},
   "outputs": [],
   "source": [
    "# save the dataframe\n",
    "df_main_features.to_csv('data_clean/sedan_limited_features.csv', index = False)"
   ]
  },
  {
   "cell_type": "markdown",
   "id": "460b8447",
   "metadata": {},
   "source": []
  },
  {
   "cell_type": "code",
   "execution_count": null,
   "id": "c66cd0f8",
   "metadata": {},
   "outputs": [],
   "source": []
  },
  {
   "cell_type": "code",
   "execution_count": null,
   "id": "195d7a97",
   "metadata": {},
   "outputs": [],
   "source": []
  },
  {
   "cell_type": "code",
   "execution_count": null,
   "id": "3d2309d2",
   "metadata": {},
   "outputs": [],
   "source": []
  },
  {
   "cell_type": "code",
   "execution_count": null,
   "id": "7bb9e855",
   "metadata": {},
   "outputs": [],
   "source": []
  },
  {
   "cell_type": "code",
   "execution_count": null,
   "id": "9c1e111e",
   "metadata": {},
   "outputs": [],
   "source": []
  },
  {
   "cell_type": "code",
   "execution_count": null,
   "id": "8c644be5",
   "metadata": {},
   "outputs": [],
   "source": []
  }
 ],
 "metadata": {
  "kernelspec": {
   "display_name": "Python 3",
   "language": "python",
   "name": "python3"
  },
  "language_info": {
   "codemirror_mode": {
    "name": "ipython",
    "version": 3
   },
   "file_extension": ".py",
   "mimetype": "text/x-python",
   "name": "python",
   "nbconvert_exporter": "python",
   "pygments_lexer": "ipython3",
   "version": "3.8.8"
  }
 },
 "nbformat": 4,
 "nbformat_minor": 5
}
