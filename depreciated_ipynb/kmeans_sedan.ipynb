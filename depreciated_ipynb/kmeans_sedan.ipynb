{
 "cells": [
  {
   "cell_type": "code",
   "execution_count": 1,
   "id": "a04d8e80",
   "metadata": {},
   "outputs": [
    {
     "data": {
      "text/plain": [
       "'C:\\\\Users\\\\Alec\\\\Documents\\\\Programming_Resources\\\\Boot_Camp\\\\project-04\\\\CISautoData'"
      ]
     },
     "execution_count": 1,
     "metadata": {},
     "output_type": "execute_result"
    }
   ],
   "source": [
    "import pandas as pd\n",
    "from os import getcwd\n",
    "\n",
    "import numpy as np\n",
    "from sklearn.manifold import TSNE\n",
    "from sklearn.decomposition import PCA\n",
    "from sklearn.preprocessing import StandardScaler\n",
    "\n",
    "from sklearn.cluster import KMeans\n",
    "\n",
    "\n",
    "import matplotlib.pyplot as plt \n",
    "\n",
    "getcwd()"
   ]
  },
  {
   "cell_type": "markdown",
   "id": "7ccaf8d9",
   "metadata": {},
   "source": [
    "# Clean the data"
   ]
  },
  {
   "cell_type": "markdown",
   "id": "7f80e780",
   "metadata": {},
   "source": [
    "-----"
   ]
  },
  {
   "cell_type": "code",
   "execution_count": 2,
   "id": "d33f385b",
   "metadata": {},
   "outputs": [
    {
     "data": {
      "text/html": [
       "<div>\n",
       "<style scoped>\n",
       "    .dataframe tbody tr th:only-of-type {\n",
       "        vertical-align: middle;\n",
       "    }\n",
       "\n",
       "    .dataframe tbody tr th {\n",
       "        vertical-align: top;\n",
       "    }\n",
       "\n",
       "    .dataframe thead th {\n",
       "        text-align: right;\n",
       "    }\n",
       "</style>\n",
       "<table border=\"1\" class=\"dataframe\">\n",
       "  <thead>\n",
       "    <tr style=\"text-align: right;\">\n",
       "      <th></th>\n",
       "      <th>vf_BodyClass</th>\n",
       "      <th>vf_Make</th>\n",
       "      <th>vf_Model</th>\n",
       "      <th>vf_ModelID</th>\n",
       "      <th>vf_ModelYear</th>\n",
       "      <th>mileage</th>\n",
       "      <th>askPrice</th>\n",
       "      <th>msrp</th>\n",
       "      <th>color</th>\n",
       "      <th>vf_BodyCabType</th>\n",
       "      <th>vf_Doors</th>\n",
       "      <th>vf_EngineCylinders</th>\n",
       "      <th>vf_EngineHP</th>\n",
       "      <th>vf_FuelTypePrimary</th>\n",
       "      <th>vf_TransmissionStyle</th>\n",
       "      <th>vin</th>\n",
       "    </tr>\n",
       "  </thead>\n",
       "  <tbody>\n",
       "    <tr>\n",
       "      <th>0</th>\n",
       "      <td>Sedan/Saloon</td>\n",
       "      <td>HONDA</td>\n",
       "      <td>Accord</td>\n",
       "      <td>1861.0</td>\n",
       "      <td>2011.0</td>\n",
       "      <td>66253</td>\n",
       "      <td>0</td>\n",
       "      <td>0</td>\n",
       "      <td>Dark Amber Metallic</td>\n",
       "      <td>Not Applicable</td>\n",
       "      <td>4.0</td>\n",
       "      <td>4.0</td>\n",
       "      <td>177.0</td>\n",
       "      <td>Gasoline</td>\n",
       "      <td>Automatic</td>\n",
       "      <td>17db7a4f0262c5312dbc4f00c126e02dcaac8a17f81a6d...</td>\n",
       "    </tr>\n",
       "    <tr>\n",
       "      <th>1</th>\n",
       "      <td>Sedan/Saloon</td>\n",
       "      <td>HONDA</td>\n",
       "      <td>Civic</td>\n",
       "      <td>1863.0</td>\n",
       "      <td>2014.0</td>\n",
       "      <td>81493</td>\n",
       "      <td>0</td>\n",
       "      <td>0</td>\n",
       "      <td>Black</td>\n",
       "      <td>Not Applicable</td>\n",
       "      <td>4.0</td>\n",
       "      <td>4.0</td>\n",
       "      <td>205.0</td>\n",
       "      <td>Gasoline</td>\n",
       "      <td>Manual/Standard</td>\n",
       "      <td>a9a44eb9d5b82470cdf9692f33597cf8b2d33868a0a537...</td>\n",
       "    </tr>\n",
       "    <tr>\n",
       "      <th>2</th>\n",
       "      <td>Sedan/Saloon</td>\n",
       "      <td>CHEVROLET</td>\n",
       "      <td>Malibu</td>\n",
       "      <td>1834.0</td>\n",
       "      <td>2012.0</td>\n",
       "      <td>79232</td>\n",
       "      <td>0</td>\n",
       "      <td>0</td>\n",
       "      <td>Black Granite Metallic</td>\n",
       "      <td>Not Applicable</td>\n",
       "      <td>4.0</td>\n",
       "      <td>4.0</td>\n",
       "      <td>NaN</td>\n",
       "      <td>Gasoline</td>\n",
       "      <td>Automatic</td>\n",
       "      <td>4a402fc8181916a7fdddeb00509bbd14a278d29265b046...</td>\n",
       "    </tr>\n",
       "    <tr>\n",
       "      <th>3</th>\n",
       "      <td>Sedan/Saloon</td>\n",
       "      <td>CHEVROLET</td>\n",
       "      <td>Malibu</td>\n",
       "      <td>1834.0</td>\n",
       "      <td>2017.0</td>\n",
       "      <td>23056</td>\n",
       "      <td>0</td>\n",
       "      <td>0</td>\n",
       "      <td>Cajun Red Tintcoat</td>\n",
       "      <td>Not Applicable</td>\n",
       "      <td>4.0</td>\n",
       "      <td>4.0</td>\n",
       "      <td>NaN</td>\n",
       "      <td>Gasoline</td>\n",
       "      <td>Automatic</td>\n",
       "      <td>88c484edf48234c4e6d824ae18320de19c7bcb00bdecec...</td>\n",
       "    </tr>\n",
       "    <tr>\n",
       "      <th>4</th>\n",
       "      <td>Sedan/Saloon</td>\n",
       "      <td>FORD</td>\n",
       "      <td>Fiesta</td>\n",
       "      <td>3267.0</td>\n",
       "      <td>2015.0</td>\n",
       "      <td>31793</td>\n",
       "      <td>0</td>\n",
       "      <td>0</td>\n",
       "      <td>Tuxedo Black</td>\n",
       "      <td>Not Applicable</td>\n",
       "      <td>4.0</td>\n",
       "      <td>4.0</td>\n",
       "      <td>120.0</td>\n",
       "      <td>Flexible Fuel Vehicle (FFV)</td>\n",
       "      <td>Automatic</td>\n",
       "      <td>c96cfc665d912be3a39b4dc3126faa11dd2f9e589b849c...</td>\n",
       "    </tr>\n",
       "  </tbody>\n",
       "</table>\n",
       "</div>"
      ],
      "text/plain": [
       "   vf_BodyClass    vf_Make vf_Model  vf_ModelID  vf_ModelYear  mileage  \\\n",
       "0  Sedan/Saloon      HONDA   Accord      1861.0        2011.0    66253   \n",
       "1  Sedan/Saloon      HONDA    Civic      1863.0        2014.0    81493   \n",
       "2  Sedan/Saloon  CHEVROLET   Malibu      1834.0        2012.0    79232   \n",
       "3  Sedan/Saloon  CHEVROLET   Malibu      1834.0        2017.0    23056   \n",
       "4  Sedan/Saloon       FORD   Fiesta      3267.0        2015.0    31793   \n",
       "\n",
       "   askPrice  msrp                   color  vf_BodyCabType  vf_Doors  \\\n",
       "0         0     0     Dark Amber Metallic  Not Applicable       4.0   \n",
       "1         0     0                   Black  Not Applicable       4.0   \n",
       "2         0     0  Black Granite Metallic  Not Applicable       4.0   \n",
       "3         0     0      Cajun Red Tintcoat  Not Applicable       4.0   \n",
       "4         0     0            Tuxedo Black  Not Applicable       4.0   \n",
       "\n",
       "   vf_EngineCylinders  vf_EngineHP           vf_FuelTypePrimary  \\\n",
       "0                 4.0        177.0                     Gasoline   \n",
       "1                 4.0        205.0                     Gasoline   \n",
       "2                 4.0          NaN                     Gasoline   \n",
       "3                 4.0          NaN                     Gasoline   \n",
       "4                 4.0        120.0  Flexible Fuel Vehicle (FFV)   \n",
       "\n",
       "  vf_TransmissionStyle                                                vin  \n",
       "0            Automatic  17db7a4f0262c5312dbc4f00c126e02dcaac8a17f81a6d...  \n",
       "1      Manual/Standard  a9a44eb9d5b82470cdf9692f33597cf8b2d33868a0a537...  \n",
       "2            Automatic  4a402fc8181916a7fdddeb00509bbd14a278d29265b046...  \n",
       "3            Automatic  88c484edf48234c4e6d824ae18320de19c7bcb00bdecec...  \n",
       "4            Automatic  c96cfc665d912be3a39b4dc3126faa11dd2f9e589b849c...  "
      ]
     },
     "execution_count": 2,
     "metadata": {},
     "output_type": "execute_result"
    }
   ],
   "source": [
    "df = pd.read_csv('cleaned_sedan_data.csv')\n",
    "\n",
    "df.head()"
   ]
  },
  {
   "cell_type": "code",
   "execution_count": 3,
   "id": "a3e75f37",
   "metadata": {
    "scrolled": true
   },
   "outputs": [
    {
     "name": "stdout",
     "output_type": "stream",
     "text": [
      "<class 'pandas.core.frame.DataFrame'>\n",
      "RangeIndex: 613306 entries, 0 to 613305\n",
      "Data columns (total 16 columns):\n",
      " #   Column                Non-Null Count   Dtype  \n",
      "---  ------                --------------   -----  \n",
      " 0   vf_BodyClass          613306 non-null  object \n",
      " 1   vf_Make               613306 non-null  object \n",
      " 2   vf_Model              613209 non-null  object \n",
      " 3   vf_ModelID            613209 non-null  float64\n",
      " 4   vf_ModelYear          613303 non-null  float64\n",
      " 5   mileage               613306 non-null  int64  \n",
      " 6   askPrice              613306 non-null  int64  \n",
      " 7   msrp                  613306 non-null  int64  \n",
      " 8   color                 579514 non-null  object \n",
      " 9   vf_BodyCabType        613201 non-null  object \n",
      " 10  vf_Doors              611544 non-null  float64\n",
      " 11  vf_EngineCylinders    559084 non-null  float64\n",
      " 12  vf_EngineHP           343570 non-null  float64\n",
      " 13  vf_FuelTypePrimary    613306 non-null  object \n",
      " 14  vf_TransmissionStyle  613306 non-null  object \n",
      " 15  vin                   613306 non-null  object \n",
      "dtypes: float64(5), int64(3), object(8)\n",
      "memory usage: 74.9+ MB\n"
     ]
    }
   ],
   "source": [
    "df.info()"
   ]
  },
  {
   "cell_type": "code",
   "execution_count": 4,
   "id": "dededaf2",
   "metadata": {},
   "outputs": [
    {
     "name": "stdout",
     "output_type": "stream",
     "text": [
      "Column - vf_BodyClass has - 0 - null values\n",
      "Column - vf_Make has - 0 - null values\n",
      "Column - vf_Model has - 97 - null values\n",
      "Column - vf_ModelID has - 97 - null values\n",
      "Column - vf_ModelYear has - 3 - null values\n",
      "Column - mileage has - 0 - null values\n",
      "Column - askPrice has - 0 - null values\n",
      "Column - msrp has - 0 - null values\n",
      "Column - color has - 33792 - null values\n",
      "Column - vf_BodyCabType has - 105 - null values\n",
      "Column - vf_Doors has - 1762 - null values\n",
      "Column - vf_EngineCylinders has - 54222 - null values\n",
      "Column - vf_EngineHP has - 269736 - null values\n",
      "Column - vf_FuelTypePrimary has - 0 - null values\n",
      "Column - vf_TransmissionStyle has - 0 - null values\n",
      "Column - vin has - 0 - null values\n"
     ]
    }
   ],
   "source": [
    "# Find null values\n",
    "for column in df.columns:\n",
    "    print(f\"Column - {column} has - {df[column].isnull().sum()} - null values\")"
   ]
  },
  {
   "cell_type": "code",
   "execution_count": 5,
   "id": "cd3dcf9f",
   "metadata": {
    "scrolled": true
   },
   "outputs": [
    {
     "data": {
      "text/plain": [
       "vf_BodyClass            613306\n",
       "vf_Make                 613306\n",
       "vf_Model                613209\n",
       "vf_ModelID              613209\n",
       "vf_ModelYear            613303\n",
       "mileage                 613306\n",
       "askPrice                613306\n",
       "msrp                    613306\n",
       "color                   579514\n",
       "vf_BodyCabType          613201\n",
       "vf_Doors                611544\n",
       "vf_EngineCylinders      559084\n",
       "vf_EngineHP             343570\n",
       "vf_FuelTypePrimary      613306\n",
       "vf_TransmissionStyle    613306\n",
       "vin                     613306\n",
       "dtype: int64"
      ]
     },
     "execution_count": 5,
     "metadata": {},
     "output_type": "execute_result"
    }
   ],
   "source": [
    "df.count()"
   ]
  },
  {
   "cell_type": "code",
   "execution_count": 6,
   "id": "82d6d214",
   "metadata": {},
   "outputs": [
    {
     "data": {
      "text/plain": [
       "Index(['vf_BodyClass', 'vf_Make', 'vf_Model', 'vf_ModelID', 'vf_ModelYear',\n",
       "       'mileage', 'askPrice', 'msrp', 'color', 'vf_BodyCabType', 'vf_Doors',\n",
       "       'vf_EngineCylinders', 'vf_EngineHP', 'vf_FuelTypePrimary',\n",
       "       'vf_TransmissionStyle', 'vin'],\n",
       "      dtype='object')"
      ]
     },
     "execution_count": 6,
     "metadata": {},
     "output_type": "execute_result"
    }
   ],
   "source": [
    "df.columns"
   ]
  },
  {
   "cell_type": "code",
   "execution_count": 7,
   "id": "ad1504a5",
   "metadata": {},
   "outputs": [],
   "source": [
    "df = df.drop(columns=['vf_EngineCylinders','vf_EngineHP','vf_BodyCabType', 'vin','msrp','vf_Doors','vf_FuelTypePrimary','vf_TransmissionStyle','color'])"
   ]
  },
  {
   "cell_type": "code",
   "execution_count": 8,
   "id": "0b58dc59",
   "metadata": {
    "scrolled": true
   },
   "outputs": [
    {
     "name": "stdout",
     "output_type": "stream",
     "text": [
      "Column - vf_BodyClass has 0 null values\n",
      "Column - vf_Make has 0 null values\n",
      "Column - vf_Model has 97 null values\n",
      "Column - vf_ModelID has 97 null values\n",
      "Column - vf_ModelYear has 3 null values\n",
      "Column - mileage has 0 null values\n",
      "Column - askPrice has 0 null values\n"
     ]
    }
   ],
   "source": [
    "# Find null values\n",
    "for column in df.columns:\n",
    "    print(f\"Column - {column} has {df[column].isnull().sum()} null values\")"
   ]
  },
  {
   "cell_type": "code",
   "execution_count": 9,
   "id": "271a62ee",
   "metadata": {},
   "outputs": [],
   "source": [
    "df = df.dropna(how='any')"
   ]
  },
  {
   "cell_type": "code",
   "execution_count": 10,
   "id": "16ffc202",
   "metadata": {},
   "outputs": [],
   "source": [
    "old_list = df.columns.to_list()\n",
    "\n",
    "new_list =[]\n",
    "\n",
    "for i, column in enumerate(old_list):\n",
    "    words = column.split('_')\n",
    "    keep = words[-1]\n",
    "    keep = keep.lower()\n",
    "    new_list.append(keep)"
   ]
  },
  {
   "cell_type": "code",
   "execution_count": 11,
   "id": "fc912d66",
   "metadata": {},
   "outputs": [],
   "source": [
    "df = df.rename(columns={\n",
    " 'vf_BodyClass':'bodyclass',\n",
    " 'vf_Make':'make',\n",
    " 'vf_Model':'model',\n",
    " 'vf_ModelID':'modelid',\n",
    " 'vf_ModelYear':'modelyear',\n",
    " 'mileage':'mileage',\n",
    " 'color':'color',\n",
    " 'vf_Doors':'doors',\n",
    " 'vf_EngineHP':'enginehp',\n",
    " 'vf_FuelTypePrimary':'fueltypeprimary',\n",
    " 'vf_TransmissionStyle':'transmissionstyle',\n",
    "})"
   ]
  },
  {
   "cell_type": "code",
   "execution_count": 12,
   "id": "da7c6dc2",
   "metadata": {},
   "outputs": [],
   "source": [
    "df = df.reset_index()"
   ]
  },
  {
   "cell_type": "code",
   "execution_count": 13,
   "id": "23895278",
   "metadata": {},
   "outputs": [
    {
     "data": {
      "text/plain": [
       "index        613206\n",
       "bodyclass    613206\n",
       "make         613206\n",
       "model        613206\n",
       "modelid      613206\n",
       "modelyear    613206\n",
       "mileage      613206\n",
       "askPrice     613206\n",
       "dtype: int64"
      ]
     },
     "execution_count": 13,
     "metadata": {},
     "output_type": "execute_result"
    }
   ],
   "source": [
    "df.count()"
   ]
  },
  {
   "cell_type": "code",
   "execution_count": 14,
   "id": "412da4a0",
   "metadata": {},
   "outputs": [],
   "source": [
    "df = df.loc[df['askPrice'] != 0]"
   ]
  },
  {
   "cell_type": "code",
   "execution_count": 15,
   "id": "887e583b",
   "metadata": {},
   "outputs": [
    {
     "data": {
      "text/plain": [
       "index        504998\n",
       "bodyclass    504998\n",
       "make         504998\n",
       "model        504998\n",
       "modelid      504998\n",
       "modelyear    504998\n",
       "mileage      504998\n",
       "askPrice     504998\n",
       "dtype: int64"
      ]
     },
     "execution_count": 15,
     "metadata": {},
     "output_type": "execute_result"
    }
   ],
   "source": [
    "df.count()"
   ]
  },
  {
   "cell_type": "code",
   "execution_count": 16,
   "id": "5fb640c1",
   "metadata": {
    "scrolled": true
   },
   "outputs": [
    {
     "data": {
      "text/html": [
       "<div>\n",
       "<style scoped>\n",
       "    .dataframe tbody tr th:only-of-type {\n",
       "        vertical-align: middle;\n",
       "    }\n",
       "\n",
       "    .dataframe tbody tr th {\n",
       "        vertical-align: top;\n",
       "    }\n",
       "\n",
       "    .dataframe thead th {\n",
       "        text-align: right;\n",
       "    }\n",
       "</style>\n",
       "<table border=\"1\" class=\"dataframe\">\n",
       "  <thead>\n",
       "    <tr style=\"text-align: right;\">\n",
       "      <th></th>\n",
       "      <th>index</th>\n",
       "      <th>bodyclass</th>\n",
       "      <th>make</th>\n",
       "      <th>model</th>\n",
       "      <th>modelid</th>\n",
       "      <th>modelyear</th>\n",
       "      <th>mileage</th>\n",
       "      <th>askPrice</th>\n",
       "    </tr>\n",
       "  </thead>\n",
       "  <tbody>\n",
       "    <tr>\n",
       "      <th>18</th>\n",
       "      <td>18</td>\n",
       "      <td>Sedan/Saloon</td>\n",
       "      <td>FORD</td>\n",
       "      <td>Taurus</td>\n",
       "      <td>1782.0</td>\n",
       "      <td>2015.0</td>\n",
       "      <td>67588</td>\n",
       "      <td>16462</td>\n",
       "    </tr>\n",
       "    <tr>\n",
       "      <th>31</th>\n",
       "      <td>31</td>\n",
       "      <td>Sedan/Saloon</td>\n",
       "      <td>AUDI</td>\n",
       "      <td>S8</td>\n",
       "      <td>3678.0</td>\n",
       "      <td>2015.0</td>\n",
       "      <td>32990</td>\n",
       "      <td>59962</td>\n",
       "    </tr>\n",
       "    <tr>\n",
       "      <th>46</th>\n",
       "      <td>46</td>\n",
       "      <td>Sedan/Saloon</td>\n",
       "      <td>CHRYSLER</td>\n",
       "      <td>300</td>\n",
       "      <td>1878.0</td>\n",
       "      <td>2017.0</td>\n",
       "      <td>9231</td>\n",
       "      <td>23962</td>\n",
       "    </tr>\n",
       "    <tr>\n",
       "      <th>50</th>\n",
       "      <td>50</td>\n",
       "      <td>Sedan/Saloon</td>\n",
       "      <td>LINCOLN</td>\n",
       "      <td>MKZ</td>\n",
       "      <td>1790.0</td>\n",
       "      <td>2016.0</td>\n",
       "      <td>19710</td>\n",
       "      <td>22962</td>\n",
       "    </tr>\n",
       "    <tr>\n",
       "      <th>53</th>\n",
       "      <td>53</td>\n",
       "      <td>Sedan/Saloon</td>\n",
       "      <td>FORD</td>\n",
       "      <td>Fiesta</td>\n",
       "      <td>3267.0</td>\n",
       "      <td>2011.0</td>\n",
       "      <td>92053</td>\n",
       "      <td>5962</td>\n",
       "    </tr>\n",
       "  </tbody>\n",
       "</table>\n",
       "</div>"
      ],
      "text/plain": [
       "    index     bodyclass      make   model  modelid  modelyear  mileage  \\\n",
       "18     18  Sedan/Saloon      FORD  Taurus   1782.0     2015.0    67588   \n",
       "31     31  Sedan/Saloon      AUDI      S8   3678.0     2015.0    32990   \n",
       "46     46  Sedan/Saloon  CHRYSLER     300   1878.0     2017.0     9231   \n",
       "50     50  Sedan/Saloon   LINCOLN     MKZ   1790.0     2016.0    19710   \n",
       "53     53  Sedan/Saloon      FORD  Fiesta   3267.0     2011.0    92053   \n",
       "\n",
       "    askPrice  \n",
       "18     16462  \n",
       "31     59962  \n",
       "46     23962  \n",
       "50     22962  \n",
       "53      5962  "
      ]
     },
     "execution_count": 16,
     "metadata": {},
     "output_type": "execute_result"
    }
   ],
   "source": [
    "df.head()"
   ]
  },
  {
   "cell_type": "markdown",
   "id": "d8442aa5",
   "metadata": {},
   "source": [
    "--------"
   ]
  },
  {
   "cell_type": "markdown",
   "id": "760f658a",
   "metadata": {},
   "source": [
    "# Data Testing"
   ]
  },
  {
   "cell_type": "markdown",
   "id": "3ddbf397",
   "metadata": {},
   "source": [
    "--------------"
   ]
  },
  {
   "cell_type": "code",
   "execution_count": 37,
   "id": "f0d8234e",
   "metadata": {},
   "outputs": [],
   "source": [
    "# trim data into sample\n",
    "df_sample = df.sample(n=10000, random_state=42)\n",
    "df_sample.reset_index(inplace=True)"
   ]
  },
  {
   "cell_type": "code",
   "execution_count": 38,
   "id": "a169b396",
   "metadata": {},
   "outputs": [
    {
     "data": {
      "text/plain": [
       "(10000, 267)"
      ]
     },
     "execution_count": 38,
     "metadata": {},
     "output_type": "execute_result"
    }
   ],
   "source": [
    "# convert text to numerical with dummy columns\n",
    "X_dummies = pd.get_dummies(\n",
    "    data = df_sample, columns = [\n",
    "        'bodyclass',\n",
    "        'make',\n",
    "        'model',\n",
    "        ])\n",
    "\n",
    "X_dummies.shape"
   ]
  },
  {
   "cell_type": "code",
   "execution_count": 39,
   "id": "4daaa019",
   "metadata": {},
   "outputs": [
    {
     "data": {
      "text/plain": [
       "(10000, 267)"
      ]
     },
     "execution_count": 39,
     "metadata": {},
     "output_type": "execute_result"
    }
   ],
   "source": [
    "# scale the data to lessen bias\n",
    "scaler = StandardScaler()\n",
    "X_scaled = scaler.fit_transform(X_dummies)\n",
    "X_scaled.shape"
   ]
  },
  {
   "cell_type": "code",
   "execution_count": 40,
   "id": "5606c336",
   "metadata": {},
   "outputs": [
    {
     "data": {
      "text/plain": [
       "(10000, 201)"
      ]
     },
     "execution_count": 40,
     "metadata": {},
     "output_type": "execute_result"
    }
   ],
   "source": [
    "# dimensionality reduction using PCA\n",
    "pca = PCA(n_components=.9)\n",
    "components = pca.fit_transform(X_scaled)\n",
    "components.shape"
   ]
  },
  {
   "cell_type": "code",
   "execution_count": 41,
   "id": "5ecbd428",
   "metadata": {},
   "outputs": [
    {
     "data": {
      "text/plain": [
       "(10000, 2)"
      ]
     },
     "execution_count": 41,
     "metadata": {},
     "output_type": "execute_result"
    }
   ],
   "source": [
    "# dimensionality reduction using t-SNE\n",
    "X_embedded = TSNE(perplexity=50).fit_transform(components)\n",
    "X_embedded.shape"
   ]
  },
  {
   "cell_type": "code",
   "execution_count": 42,
   "id": "19d02d20",
   "metadata": {},
   "outputs": [
    {
     "data": {
      "image/png": "[encoded data removed]",
      "text/plain": [
       "<Figure size 1382.4x777.6 with 1 Axes>"
      ]
     },
     "metadata": {
      "needs_background": "light"
     },
     "output_type": "display_data"
    }
   ],
   "source": [
    "# plot the initial Kmeans cluster diagram\n",
    "fig = plt.figure(figsize = (19.20,10.80))\n",
    "\n",
    "plt.scatter(X_embedded[:,0],X_embedded[:,1])\n",
    "plt.grid()\n",
    "plt.show()"
   ]
  },
  {
   "cell_type": "code",
   "execution_count": 43,
   "id": "ee063595",
   "metadata": {},
   "outputs": [
    {
     "data": {
      "text/html": [
       "<div>\n",
       "<style scoped>\n",
       "    .dataframe tbody tr th:only-of-type {\n",
       "        vertical-align: middle;\n",
       "    }\n",
       "\n",
       "    .dataframe tbody tr th {\n",
       "        vertical-align: top;\n",
       "    }\n",
       "\n",
       "    .dataframe thead th {\n",
       "        text-align: right;\n",
       "    }\n",
       "</style>\n",
       "<table border=\"1\" class=\"dataframe\">\n",
       "  <thead>\n",
       "    <tr style=\"text-align: right;\">\n",
       "      <th></th>\n",
       "      <th>k</th>\n",
       "      <th>inertia</th>\n",
       "    </tr>\n",
       "  </thead>\n",
       "  <tbody>\n",
       "    <tr>\n",
       "      <th>0</th>\n",
       "      <td>1</td>\n",
       "      <td>31843518.00</td>\n",
       "    </tr>\n",
       "    <tr>\n",
       "      <th>1</th>\n",
       "      <td>2</td>\n",
       "      <td>20589454.00</td>\n",
       "    </tr>\n",
       "    <tr>\n",
       "      <th>2</th>\n",
       "      <td>3</td>\n",
       "      <td>13379711.00</td>\n",
       "    </tr>\n",
       "    <tr>\n",
       "      <th>3</th>\n",
       "      <td>4</td>\n",
       "      <td>9427522.00</td>\n",
       "    </tr>\n",
       "    <tr>\n",
       "      <th>4</th>\n",
       "      <td>5</td>\n",
       "      <td>7558442.50</td>\n",
       "    </tr>\n",
       "    <tr>\n",
       "      <th>5</th>\n",
       "      <td>6</td>\n",
       "      <td>6279299.00</td>\n",
       "    </tr>\n",
       "    <tr>\n",
       "      <th>6</th>\n",
       "      <td>7</td>\n",
       "      <td>5239390.00</td>\n",
       "    </tr>\n",
       "    <tr>\n",
       "      <th>7</th>\n",
       "      <td>8</td>\n",
       "      <td>4615024.50</td>\n",
       "    </tr>\n",
       "    <tr>\n",
       "      <th>8</th>\n",
       "      <td>9</td>\n",
       "      <td>4011568.75</td>\n",
       "    </tr>\n",
       "    <tr>\n",
       "      <th>9</th>\n",
       "      <td>10</td>\n",
       "      <td>3536127.25</td>\n",
       "    </tr>\n",
       "  </tbody>\n",
       "</table>\n",
       "</div>"
      ],
      "text/plain": [
       "    k      inertia\n",
       "0   1  31843518.00\n",
       "1   2  20589454.00\n",
       "2   3  13379711.00\n",
       "3   4   9427522.00\n",
       "4   5   7558442.50\n",
       "5   6   6279299.00\n",
       "6   7   5239390.00\n",
       "7   8   4615024.50\n",
       "8   9   4011568.75\n",
       "9  10   3536127.25"
      ]
     },
     "execution_count": 43,
     "metadata": {},
     "output_type": "execute_result"
    }
   ],
   "source": [
    "inertia = []\n",
    "k = list(range(1, 11))\n",
    "\n",
    "# Calculate the inertia for the range of k values\n",
    "for i in k:\n",
    "    km = KMeans(n_clusters=i, random_state=0)\n",
    "    km.fit(X_embedded)\n",
    "    inertia.append(km.inertia_)\n",
    "\n",
    "# Create the Elbow Curve using hvPlot\n",
    "elbow_data = {\"k\": k, \"inertia\": inertia}\n",
    "df_elbow = pd.DataFrame(elbow_data)\n",
    "df_elbow"
   ]
  },
  {
   "cell_type": "code",
   "execution_count": 44,
   "id": "f880e99f",
   "metadata": {},
   "outputs": [
    {
     "data": {
      "image/png": "[encoded data removed]",
      "text/plain": [
       "<Figure size 1382.4x777.6 with 1 Axes>"
      ]
     },
     "metadata": {
      "needs_background": "light"
     },
     "output_type": "display_data"
    }
   ],
   "source": [
    "# Plot the elbow curve to find the best candidate(s) for k\n",
    "\n",
    "fig = plt.figure(figsize = (19.20,10.80))\n",
    "\n",
    "plt.plot(df_elbow['k'], df_elbow['inertia'])\n",
    "plt.xticks(range(1,11))\n",
    "plt.xlabel('Number of clusters')\n",
    "plt.ylabel('Inertia')\n",
    "plt.title('Elbow curve')\n",
    "plt.grid()\n",
    "plt.show()"
   ]
  },
  {
   "cell_type": "code",
   "execution_count": 45,
   "id": "bc87c3e4",
   "metadata": {},
   "outputs": [],
   "source": [
    "def get_clusters(k, data):\n",
    "    # Initialize the K-Means model\n",
    "    model = KMeans(n_clusters=k, random_state=0)\n",
    "\n",
    "    # Train the model\n",
    "    model.fit(data)\n",
    "\n",
    "    # Predict clusters\n",
    "    predictions = model.predict(data)\n",
    "\n",
    "    # Create return DataFrame with predicted clusters\n",
    "    data[\"class\"] = model.labels_\n",
    "\n",
    "    return data"
   ]
  },
  {
   "cell_type": "code",
   "execution_count": 46,
   "id": "766d4cb7",
   "metadata": {},
   "outputs": [],
   "source": [
    "# transform embedded array into df for clustering purposes\n",
    "cluster_df = pd.DataFrame(X_embedded, columns=['col_1','col_2'])"
   ]
  },
  {
   "cell_type": "code",
   "execution_count": 47,
   "id": "52c6d15a",
   "metadata": {},
   "outputs": [
    {
     "data": {
      "text/html": [
       "<div>\n",
       "<style scoped>\n",
       "    .dataframe tbody tr th:only-of-type {\n",
       "        vertical-align: middle;\n",
       "    }\n",
       "\n",
       "    .dataframe tbody tr th {\n",
       "        vertical-align: top;\n",
       "    }\n",
       "\n",
       "    .dataframe thead th {\n",
       "        text-align: right;\n",
       "    }\n",
       "</style>\n",
       "<table border=\"1\" class=\"dataframe\">\n",
       "  <thead>\n",
       "    <tr style=\"text-align: right;\">\n",
       "      <th></th>\n",
       "      <th>col_1</th>\n",
       "      <th>col_2</th>\n",
       "    </tr>\n",
       "  </thead>\n",
       "  <tbody>\n",
       "    <tr>\n",
       "      <th>0</th>\n",
       "      <td>51.192978</td>\n",
       "      <td>39.325325</td>\n",
       "    </tr>\n",
       "    <tr>\n",
       "      <th>1</th>\n",
       "      <td>28.796478</td>\n",
       "      <td>-15.500066</td>\n",
       "    </tr>\n",
       "    <tr>\n",
       "      <th>2</th>\n",
       "      <td>24.315052</td>\n",
       "      <td>57.776394</td>\n",
       "    </tr>\n",
       "    <tr>\n",
       "      <th>3</th>\n",
       "      <td>56.810825</td>\n",
       "      <td>-43.508915</td>\n",
       "    </tr>\n",
       "    <tr>\n",
       "      <th>4</th>\n",
       "      <td>42.859890</td>\n",
       "      <td>6.648370</td>\n",
       "    </tr>\n",
       "    <tr>\n",
       "      <th>...</th>\n",
       "      <td>...</td>\n",
       "      <td>...</td>\n",
       "    </tr>\n",
       "    <tr>\n",
       "      <th>9995</th>\n",
       "      <td>-76.844109</td>\n",
       "      <td>-1.175314</td>\n",
       "    </tr>\n",
       "    <tr>\n",
       "      <th>9996</th>\n",
       "      <td>-36.968464</td>\n",
       "      <td>14.304866</td>\n",
       "    </tr>\n",
       "    <tr>\n",
       "      <th>9997</th>\n",
       "      <td>19.427582</td>\n",
       "      <td>80.091972</td>\n",
       "    </tr>\n",
       "    <tr>\n",
       "      <th>9998</th>\n",
       "      <td>-42.946064</td>\n",
       "      <td>-34.765766</td>\n",
       "    </tr>\n",
       "    <tr>\n",
       "      <th>9999</th>\n",
       "      <td>10.065627</td>\n",
       "      <td>-47.295086</td>\n",
       "    </tr>\n",
       "  </tbody>\n",
       "</table>\n",
       "<p>10000 rows × 2 columns</p>\n",
       "</div>"
      ],
      "text/plain": [
       "          col_1      col_2\n",
       "0     51.192978  39.325325\n",
       "1     28.796478 -15.500066\n",
       "2     24.315052  57.776394\n",
       "3     56.810825 -43.508915\n",
       "4     42.859890   6.648370\n",
       "...         ...        ...\n",
       "9995 -76.844109  -1.175314\n",
       "9996 -36.968464  14.304866\n",
       "9997  19.427582  80.091972\n",
       "9998 -42.946064 -34.765766\n",
       "9999  10.065627 -47.295086\n",
       "\n",
       "[10000 rows x 2 columns]"
      ]
     },
     "execution_count": 47,
     "metadata": {},
     "output_type": "execute_result"
    }
   ],
   "source": [
    "# display the cluster df\n",
    "cluster_df"
   ]
  },
  {
   "cell_type": "code",
   "execution_count": 48,
   "id": "9845bd46",
   "metadata": {},
   "outputs": [],
   "source": [
    "# after plotting the inertia of the K-means cluster data, 4 clusters was determined to be the best\n",
    "clusters = get_clusters(4, cluster_df) \n"
   ]
  },
  {
   "cell_type": "code",
   "execution_count": 49,
   "id": "d717a947",
   "metadata": {},
   "outputs": [],
   "source": [
    "def show_clusters(df):\n",
    "    fig = plt.figure(figsize = (19.20,10.80))\n",
    "\n",
    "    plt.scatter(df['col_1'], df['col_2'], c=df['class'])\n",
    "    plt.xlabel('col_1')\n",
    "    plt.ylabel('col_2')\n",
    "    plt.grid()\n",
    "    plt.show()"
   ]
  },
  {
   "cell_type": "code",
   "execution_count": 50,
   "id": "b075d2f0",
   "metadata": {},
   "outputs": [
    {
     "data": {
      "image/png": "[encoded data removed]",
      "text/plain": [
       "<Figure size 1382.4x777.6 with 1 Axes>"
      ]
     },
     "metadata": {
      "needs_background": "light"
     },
     "output_type": "display_data"
    }
   ],
   "source": [
    "show_clusters(clusters)\n"
   ]
  },
  {
   "cell_type": "code",
   "execution_count": 51,
   "id": "bc8c1174",
   "metadata": {},
   "outputs": [],
   "source": [
    "model = KMeans(n_clusters=4, random_state=0)\n",
    "\n",
    "# Train the model\n",
    "model.fit(cluster_df)\n",
    "\n",
    "# Predict clusters\n",
    "predictions = model.predict(cluster_df)\n",
    "\n",
    "# Create return DataFrame with predicted clusters\n",
    "cluster_df[\"class\"] = model.labels_"
   ]
  },
  {
   "cell_type": "code",
   "execution_count": 52,
   "id": "e1063991",
   "metadata": {
    "scrolled": true
   },
   "outputs": [
    {
     "data": {
      "text/html": [
       "<div>\n",
       "<style scoped>\n",
       "    .dataframe tbody tr th:only-of-type {\n",
       "        vertical-align: middle;\n",
       "    }\n",
       "\n",
       "    .dataframe tbody tr th {\n",
       "        vertical-align: top;\n",
       "    }\n",
       "\n",
       "    .dataframe thead th {\n",
       "        text-align: right;\n",
       "    }\n",
       "</style>\n",
       "<table border=\"1\" class=\"dataframe\">\n",
       "  <thead>\n",
       "    <tr style=\"text-align: right;\">\n",
       "      <th></th>\n",
       "      <th>col_1</th>\n",
       "      <th>col_2</th>\n",
       "      <th>class</th>\n",
       "    </tr>\n",
       "  </thead>\n",
       "  <tbody>\n",
       "    <tr>\n",
       "      <th>0</th>\n",
       "      <td>51.192978</td>\n",
       "      <td>39.325325</td>\n",
       "      <td>2</td>\n",
       "    </tr>\n",
       "    <tr>\n",
       "      <th>1</th>\n",
       "      <td>28.796478</td>\n",
       "      <td>-15.500066</td>\n",
       "      <td>2</td>\n",
       "    </tr>\n",
       "    <tr>\n",
       "      <th>2</th>\n",
       "      <td>24.315052</td>\n",
       "      <td>57.776394</td>\n",
       "      <td>1</td>\n",
       "    </tr>\n",
       "    <tr>\n",
       "      <th>3</th>\n",
       "      <td>56.810825</td>\n",
       "      <td>-43.508915</td>\n",
       "      <td>2</td>\n",
       "    </tr>\n",
       "    <tr>\n",
       "      <th>4</th>\n",
       "      <td>42.859890</td>\n",
       "      <td>6.648370</td>\n",
       "      <td>2</td>\n",
       "    </tr>\n",
       "    <tr>\n",
       "      <th>...</th>\n",
       "      <td>...</td>\n",
       "      <td>...</td>\n",
       "      <td>...</td>\n",
       "    </tr>\n",
       "    <tr>\n",
       "      <th>9995</th>\n",
       "      <td>-76.844109</td>\n",
       "      <td>-1.175314</td>\n",
       "      <td>3</td>\n",
       "    </tr>\n",
       "    <tr>\n",
       "      <th>9996</th>\n",
       "      <td>-36.968464</td>\n",
       "      <td>14.304866</td>\n",
       "      <td>3</td>\n",
       "    </tr>\n",
       "    <tr>\n",
       "      <th>9997</th>\n",
       "      <td>19.427582</td>\n",
       "      <td>80.091972</td>\n",
       "      <td>1</td>\n",
       "    </tr>\n",
       "    <tr>\n",
       "      <th>9998</th>\n",
       "      <td>-42.946064</td>\n",
       "      <td>-34.765766</td>\n",
       "      <td>3</td>\n",
       "    </tr>\n",
       "    <tr>\n",
       "      <th>9999</th>\n",
       "      <td>10.065627</td>\n",
       "      <td>-47.295086</td>\n",
       "      <td>0</td>\n",
       "    </tr>\n",
       "  </tbody>\n",
       "</table>\n",
       "<p>10000 rows × 3 columns</p>\n",
       "</div>"
      ],
      "text/plain": [
       "          col_1      col_2  class\n",
       "0     51.192978  39.325325      2\n",
       "1     28.796478 -15.500066      2\n",
       "2     24.315052  57.776394      1\n",
       "3     56.810825 -43.508915      2\n",
       "4     42.859890   6.648370      2\n",
       "...         ...        ...    ...\n",
       "9995 -76.844109  -1.175314      3\n",
       "9996 -36.968464  14.304866      3\n",
       "9997  19.427582  80.091972      1\n",
       "9998 -42.946064 -34.765766      3\n",
       "9999  10.065627 -47.295086      0\n",
       "\n",
       "[10000 rows x 3 columns]"
      ]
     },
     "execution_count": 52,
     "metadata": {},
     "output_type": "execute_result"
    }
   ],
   "source": [
    "clusters"
   ]
  },
  {
   "cell_type": "code",
   "execution_count": 53,
   "id": "a2074de6",
   "metadata": {},
   "outputs": [],
   "source": [
    "df_sample['class'] = clusters['class']"
   ]
  },
  {
   "cell_type": "code",
   "execution_count": 56,
   "id": "6ae1c063",
   "metadata": {},
   "outputs": [
    {
     "data": {
      "text/html": [
       "<div>\n",
       "<style scoped>\n",
       "    .dataframe tbody tr th:only-of-type {\n",
       "        vertical-align: middle;\n",
       "    }\n",
       "\n",
       "    .dataframe tbody tr th {\n",
       "        vertical-align: top;\n",
       "    }\n",
       "\n",
       "    .dataframe thead th {\n",
       "        text-align: right;\n",
       "    }\n",
       "</style>\n",
       "<table border=\"1\" class=\"dataframe\">\n",
       "  <thead>\n",
       "    <tr style=\"text-align: right;\">\n",
       "      <th></th>\n",
       "      <th>level_0</th>\n",
       "      <th>index</th>\n",
       "      <th>bodyclass</th>\n",
       "      <th>make</th>\n",
       "      <th>model</th>\n",
       "      <th>modelid</th>\n",
       "      <th>modelyear</th>\n",
       "      <th>mileage</th>\n",
       "      <th>askPrice</th>\n",
       "      <th>class</th>\n",
       "    </tr>\n",
       "  </thead>\n",
       "  <tbody>\n",
       "    <tr>\n",
       "      <th>0</th>\n",
       "      <td>26955</td>\n",
       "      <td>26961</td>\n",
       "      <td>Sedan/Saloon</td>\n",
       "      <td>CHEVROLET</td>\n",
       "      <td>Cruze</td>\n",
       "      <td>1832.0</td>\n",
       "      <td>2013.0</td>\n",
       "      <td>99345</td>\n",
       "      <td>7611</td>\n",
       "      <td>2</td>\n",
       "    </tr>\n",
       "    <tr>\n",
       "      <th>1</th>\n",
       "      <td>88546</td>\n",
       "      <td>88562</td>\n",
       "      <td>Sedan/Saloon</td>\n",
       "      <td>HONDA</td>\n",
       "      <td>Accord</td>\n",
       "      <td>1861.0</td>\n",
       "      <td>2013.0</td>\n",
       "      <td>35291</td>\n",
       "      <td>15811</td>\n",
       "      <td>2</td>\n",
       "    </tr>\n",
       "    <tr>\n",
       "      <th>2</th>\n",
       "      <td>559609</td>\n",
       "      <td>559694</td>\n",
       "      <td>Sedan/Saloon</td>\n",
       "      <td>HONDA</td>\n",
       "      <td>Civic</td>\n",
       "      <td>1863.0</td>\n",
       "      <td>2009.0</td>\n",
       "      <td>58005</td>\n",
       "      <td>9000</td>\n",
       "      <td>1</td>\n",
       "    </tr>\n",
       "    <tr>\n",
       "      <th>3</th>\n",
       "      <td>522507</td>\n",
       "      <td>522584</td>\n",
       "      <td>Sedan/Saloon</td>\n",
       "      <td>FORD</td>\n",
       "      <td>Focus</td>\n",
       "      <td>1779.0</td>\n",
       "      <td>2015.0</td>\n",
       "      <td>35169</td>\n",
       "      <td>10000</td>\n",
       "      <td>2</td>\n",
       "    </tr>\n",
       "    <tr>\n",
       "      <th>4</th>\n",
       "      <td>282985</td>\n",
       "      <td>283034</td>\n",
       "      <td>Sedan/Saloon</td>\n",
       "      <td>VOLKSWAGEN</td>\n",
       "      <td>Jetta</td>\n",
       "      <td>3137.0</td>\n",
       "      <td>2012.0</td>\n",
       "      <td>119480</td>\n",
       "      <td>5895</td>\n",
       "      <td>2</td>\n",
       "    </tr>\n",
       "    <tr>\n",
       "      <th>...</th>\n",
       "      <td>...</td>\n",
       "      <td>...</td>\n",
       "      <td>...</td>\n",
       "      <td>...</td>\n",
       "      <td>...</td>\n",
       "      <td>...</td>\n",
       "      <td>...</td>\n",
       "      <td>...</td>\n",
       "      <td>...</td>\n",
       "      <td>...</td>\n",
       "    </tr>\n",
       "    <tr>\n",
       "      <th>9995</th>\n",
       "      <td>411532</td>\n",
       "      <td>411602</td>\n",
       "      <td>Sedan/Saloon</td>\n",
       "      <td>CHRYSLER</td>\n",
       "      <td>200</td>\n",
       "      <td>2053.0</td>\n",
       "      <td>2012.0</td>\n",
       "      <td>49619</td>\n",
       "      <td>8777</td>\n",
       "      <td>3</td>\n",
       "    </tr>\n",
       "    <tr>\n",
       "      <th>9996</th>\n",
       "      <td>98924</td>\n",
       "      <td>98943</td>\n",
       "      <td>Sedan/Saloon</td>\n",
       "      <td>LINCOLN</td>\n",
       "      <td>MKZ</td>\n",
       "      <td>1790.0</td>\n",
       "      <td>2018.0</td>\n",
       "      <td>25013</td>\n",
       "      <td>31550</td>\n",
       "      <td>3</td>\n",
       "    </tr>\n",
       "    <tr>\n",
       "      <th>9997</th>\n",
       "      <td>199645</td>\n",
       "      <td>199692</td>\n",
       "      <td>Sedan/Saloon</td>\n",
       "      <td>KIA</td>\n",
       "      <td>Forte</td>\n",
       "      <td>2462.0</td>\n",
       "      <td>2010.0</td>\n",
       "      <td>89643</td>\n",
       "      <td>5990</td>\n",
       "      <td>1</td>\n",
       "    </tr>\n",
       "    <tr>\n",
       "      <th>9998</th>\n",
       "      <td>47972</td>\n",
       "      <td>47979</td>\n",
       "      <td>Sedan/Saloon</td>\n",
       "      <td>NISSAN</td>\n",
       "      <td>Sentra</td>\n",
       "      <td>1907.0</td>\n",
       "      <td>2019.0</td>\n",
       "      <td>5157</td>\n",
       "      <td>15387</td>\n",
       "      <td>3</td>\n",
       "    </tr>\n",
       "    <tr>\n",
       "      <th>9999</th>\n",
       "      <td>258570</td>\n",
       "      <td>258619</td>\n",
       "      <td>Sedan/Saloon</td>\n",
       "      <td>HYUNDAI</td>\n",
       "      <td>Sonata</td>\n",
       "      <td>2459.0</td>\n",
       "      <td>2015.0</td>\n",
       "      <td>60240</td>\n",
       "      <td>15999</td>\n",
       "      <td>0</td>\n",
       "    </tr>\n",
       "  </tbody>\n",
       "</table>\n",
       "<p>10000 rows × 10 columns</p>\n",
       "</div>"
      ],
      "text/plain": [
       "      level_0   index     bodyclass        make   model  modelid  modelyear  \\\n",
       "0       26955   26961  Sedan/Saloon   CHEVROLET   Cruze   1832.0     2013.0   \n",
       "1       88546   88562  Sedan/Saloon       HONDA  Accord   1861.0     2013.0   \n",
       "2      559609  559694  Sedan/Saloon       HONDA   Civic   1863.0     2009.0   \n",
       "3      522507  522584  Sedan/Saloon        FORD   Focus   1779.0     2015.0   \n",
       "4      282985  283034  Sedan/Saloon  VOLKSWAGEN   Jetta   3137.0     2012.0   \n",
       "...       ...     ...           ...         ...     ...      ...        ...   \n",
       "9995   411532  411602  Sedan/Saloon    CHRYSLER     200   2053.0     2012.0   \n",
       "9996    98924   98943  Sedan/Saloon     LINCOLN     MKZ   1790.0     2018.0   \n",
       "9997   199645  199692  Sedan/Saloon         KIA   Forte   2462.0     2010.0   \n",
       "9998    47972   47979  Sedan/Saloon      NISSAN  Sentra   1907.0     2019.0   \n",
       "9999   258570  258619  Sedan/Saloon     HYUNDAI  Sonata   2459.0     2015.0   \n",
       "\n",
       "      mileage  askPrice  class  \n",
       "0       99345      7611      2  \n",
       "1       35291     15811      2  \n",
       "2       58005      9000      1  \n",
       "3       35169     10000      2  \n",
       "4      119480      5895      2  \n",
       "...       ...       ...    ...  \n",
       "9995    49619      8777      3  \n",
       "9996    25013     31550      3  \n",
       "9997    89643      5990      1  \n",
       "9998     5157     15387      3  \n",
       "9999    60240     15999      0  \n",
       "\n",
       "[10000 rows x 10 columns]"
      ]
     },
     "execution_count": 56,
     "metadata": {},
     "output_type": "execute_result"
    }
   ],
   "source": [
    "df_sample"
   ]
  },
  {
   "cell_type": "code",
   "execution_count": null,
   "id": "24851b43",
   "metadata": {},
   "outputs": [],
   "source": []
  }
 ],
 "metadata": {
  "kernelspec": {
   "display_name": "Python 3",
   "language": "python",
   "name": "python3"
  },
  "language_info": {
   "codemirror_mode": {
    "name": "ipython",
    "version": 3
   },
   "file_extension": ".py",
   "mimetype": "text/x-python",
   "name": "python",
   "nbconvert_exporter": "python",
   "pygments_lexer": "ipython3",
   "version": "3.8.8"
  }
 },
 "nbformat": 4,
 "nbformat_minor": 5
}
