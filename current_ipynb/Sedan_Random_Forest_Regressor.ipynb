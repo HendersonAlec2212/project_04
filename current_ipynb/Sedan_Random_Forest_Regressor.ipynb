{
 "cells": [
  {
   "cell_type": "code",
   "execution_count": 1,
   "id": "9f23273d",
   "metadata": {},
   "outputs": [],
   "source": [
    "import pandas as pd\n",
    "from sklearn.ensemble import RandomForestRegressor\n",
    "from sklearn.model_selection import train_test_split\n",
    "import joblib\n",
    "\n",
    "import matplotlib.pyplot\n"
   ]
  },
  {
   "cell_type": "markdown",
   "id": "642b9a54",
   "metadata": {},
   "source": [
    "# Correlations"
   ]
  },
  {
   "cell_type": "markdown",
   "id": "fea8895f",
   "metadata": {},
   "source": [
    "#### Observe corellations for all makes"
   ]
  },
  {
   "cell_type": "markdown",
   "id": "a0fd2263",
   "metadata": {},
   "source": [
    "import seaborn as sn\n",
    "import matplotlib.pyplot as plt\n",
    "\n",
    "fig = plt.figure(figsize = (19.20,10.80))\n",
    "\n",
    "corrMatrix = df.corr()\n",
    "sn.heatmap(corrMatrix, annot=True)\n",
    "plt.savefig('visualizations/sedan_total_corr.png')"
   ]
  },
  {
   "cell_type": "markdown",
   "id": "f14dfbc8",
   "metadata": {},
   "source": [
    "When observed as a whole, the corellations between certain features are below significancee\n",
    "\n",
    "when each make is split into a group, the correlations are more easily observed"
   ]
  },
  {
   "cell_type": "markdown",
   "id": "440e3d21",
   "metadata": {},
   "source": [
    "make_list = df['make'].unique()"
   ]
  },
  {
   "cell_type": "markdown",
   "id": "d4424e85",
   "metadata": {},
   "source": [
    "for i, make in enumerate(make_list):\n",
    "    df_new = df.loc[df['make']==f'{make}']\n",
    "    df_new = df_new.drop(columns=['makeID'])\n",
    "    fig = plt.figure(figsize = (19.20,10.80))\n",
    "\n",
    "    corrMatrix = df_new.corr()\n",
    "    sn.heatmap(corrMatrix, annot=True)\n",
    "    plt.title(f'{make}')\n",
    "    plt.savefig(f'visualizations/Sedan_Correlations/sedan_{make}_corr.png')\n",
    "    plt.close()"
   ]
  },
  {
   "cell_type": "markdown",
   "id": "dc549bcf",
   "metadata": {},
   "source": [
    "with the overall data giving un-usable correlations we may need to have a regression model for each make/body class?\n",
    "\n",
    "Test the difference between a prediction using the total data and a single make, data."
   ]
  },
  {
   "cell_type": "markdown",
   "id": "8606c85e",
   "metadata": {},
   "source": [
    "---------------------"
   ]
  },
  {
   "cell_type": "markdown",
   "id": "1860c6d3",
   "metadata": {},
   "source": [
    "# Random Forest Regrssion"
   ]
  },
  {
   "cell_type": "markdown",
   "id": "3f8f1c13",
   "metadata": {},
   "source": [
    "-----------"
   ]
  },
  {
   "cell_type": "code",
   "execution_count": 34,
   "id": "3d385b35",
   "metadata": {},
   "outputs": [
    {
     "data": {
      "text/html": [
       "<div>\n",
       "<style scoped>\n",
       "    .dataframe tbody tr th:only-of-type {\n",
       "        vertical-align: middle;\n",
       "    }\n",
       "\n",
       "    .dataframe tbody tr th {\n",
       "        vertical-align: top;\n",
       "    }\n",
       "\n",
       "    .dataframe thead th {\n",
       "        text-align: right;\n",
       "    }\n",
       "</style>\n",
       "<table border=\"1\" class=\"dataframe\">\n",
       "  <thead>\n",
       "    <tr style=\"text-align: right;\">\n",
       "      <th></th>\n",
       "      <th>brandName</th>\n",
       "      <th>modelName</th>\n",
       "      <th>vf_ModelID</th>\n",
       "      <th>vf_ModelYear</th>\n",
       "      <th>mileage</th>\n",
       "      <th>askPrice</th>\n",
       "      <th>msrp</th>\n",
       "      <th>color</th>\n",
       "      <th>vf_EngineCylinders</th>\n",
       "      <th>vf_FuelTypePrimary</th>\n",
       "      <th>vin</th>\n",
       "    </tr>\n",
       "  </thead>\n",
       "  <tbody>\n",
       "    <tr>\n",
       "      <th>0</th>\n",
       "      <td>FORD</td>\n",
       "      <td>Taurus</td>\n",
       "      <td>1782.0</td>\n",
       "      <td>2015.0</td>\n",
       "      <td>67588</td>\n",
       "      <td>16462</td>\n",
       "      <td>16462</td>\n",
       "      <td>Ingot Silver Metallic</td>\n",
       "      <td>6.0</td>\n",
       "      <td>Gasoline</td>\n",
       "      <td>85384fd9108f6e9c75d7a538e4ce8a892170f7dbf42264...</td>\n",
       "    </tr>\n",
       "    <tr>\n",
       "      <th>1</th>\n",
       "      <td>CHRYSLER</td>\n",
       "      <td>300</td>\n",
       "      <td>1878.0</td>\n",
       "      <td>2017.0</td>\n",
       "      <td>9231</td>\n",
       "      <td>23962</td>\n",
       "      <td>23962</td>\n",
       "      <td>Billet Silver Metallic Clearcoat</td>\n",
       "      <td>6.0</td>\n",
       "      <td>Gasoline</td>\n",
       "      <td>5c45a1254ea832cffc329eebf700acf918682c1b40f9a7...</td>\n",
       "    </tr>\n",
       "    <tr>\n",
       "      <th>2</th>\n",
       "      <td>LINCOLN</td>\n",
       "      <td>MKZ</td>\n",
       "      <td>1790.0</td>\n",
       "      <td>2016.0</td>\n",
       "      <td>19710</td>\n",
       "      <td>22962</td>\n",
       "      <td>22962</td>\n",
       "      <td>White Platinum Metallic Tri-Coat</td>\n",
       "      <td>6.0</td>\n",
       "      <td>Gasoline</td>\n",
       "      <td>95592374eecca29c4614b5987b760f9b528e6d3e33c2db...</td>\n",
       "    </tr>\n",
       "    <tr>\n",
       "      <th>3</th>\n",
       "      <td>FORD</td>\n",
       "      <td>Fiesta</td>\n",
       "      <td>3267.0</td>\n",
       "      <td>2011.0</td>\n",
       "      <td>92053</td>\n",
       "      <td>5962</td>\n",
       "      <td>5962</td>\n",
       "      <td>Blue</td>\n",
       "      <td>4.0</td>\n",
       "      <td>Gasoline</td>\n",
       "      <td>5558ab8c6833c13904fa4a1fbd45c8d00d02f6db9e53fe...</td>\n",
       "    </tr>\n",
       "    <tr>\n",
       "      <th>4</th>\n",
       "      <td>INFINITI</td>\n",
       "      <td>G37</td>\n",
       "      <td>2337.0</td>\n",
       "      <td>2013.0</td>\n",
       "      <td>74917</td>\n",
       "      <td>13962</td>\n",
       "      <td>13962</td>\n",
       "      <td>Vibrant Red</td>\n",
       "      <td>6.0</td>\n",
       "      <td>Gasoline</td>\n",
       "      <td>10e990a77a9615aca1f0e2210513a289fe54a9175a522d...</td>\n",
       "    </tr>\n",
       "    <tr>\n",
       "      <th>...</th>\n",
       "      <td>...</td>\n",
       "      <td>...</td>\n",
       "      <td>...</td>\n",
       "      <td>...</td>\n",
       "      <td>...</td>\n",
       "      <td>...</td>\n",
       "      <td>...</td>\n",
       "      <td>...</td>\n",
       "      <td>...</td>\n",
       "      <td>...</td>\n",
       "      <td>...</td>\n",
       "    </tr>\n",
       "    <tr>\n",
       "      <th>138313</th>\n",
       "      <td>MERCEDES-BENZ</td>\n",
       "      <td>C-Class</td>\n",
       "      <td>2085.0</td>\n",
       "      <td>2016.0</td>\n",
       "      <td>18322</td>\n",
       "      <td>23999</td>\n",
       "      <td>23999</td>\n",
       "      <td>Polar White</td>\n",
       "      <td>4.0</td>\n",
       "      <td>Gasoline</td>\n",
       "      <td>a5edaa50f3a74293f38ba7611f5be5db8bede213acdf96...</td>\n",
       "    </tr>\n",
       "    <tr>\n",
       "      <th>138314</th>\n",
       "      <td>LINCOLN</td>\n",
       "      <td>Town Car</td>\n",
       "      <td>1791.0</td>\n",
       "      <td>2004.0</td>\n",
       "      <td>135839</td>\n",
       "      <td>5900</td>\n",
       "      <td>5900</td>\n",
       "      <td>Medium Steel Blue Clearcoat Metallic</td>\n",
       "      <td>8.0</td>\n",
       "      <td>Gasoline</td>\n",
       "      <td>04a3a8af9f12eaa2b8466dd3588994cfbf333d30bf9eee...</td>\n",
       "    </tr>\n",
       "    <tr>\n",
       "      <th>138315</th>\n",
       "      <td>CHEVROLET</td>\n",
       "      <td>Cruze</td>\n",
       "      <td>1832.0</td>\n",
       "      <td>2011.0</td>\n",
       "      <td>98007</td>\n",
       "      <td>5950</td>\n",
       "      <td>5950</td>\n",
       "      <td>Imperial Blue Metallic</td>\n",
       "      <td>4.0</td>\n",
       "      <td>Gasoline</td>\n",
       "      <td>b31d181e2ba2f8a7b56a353a81a55951ad833ab2ea5180...</td>\n",
       "    </tr>\n",
       "    <tr>\n",
       "      <th>138316</th>\n",
       "      <td>HONDA</td>\n",
       "      <td>Accord</td>\n",
       "      <td>1861.0</td>\n",
       "      <td>2015.0</td>\n",
       "      <td>44717</td>\n",
       "      <td>18500</td>\n",
       "      <td>18500</td>\n",
       "      <td>Crystal Black Pearl</td>\n",
       "      <td>4.0</td>\n",
       "      <td>Gasoline</td>\n",
       "      <td>6afcb285f492dcb542c720b50f8fa32e57d8fc43ea95b2...</td>\n",
       "    </tr>\n",
       "    <tr>\n",
       "      <th>138317</th>\n",
       "      <td>BMW</td>\n",
       "      <td>320i</td>\n",
       "      <td>2172.0</td>\n",
       "      <td>2018.0</td>\n",
       "      <td>4480</td>\n",
       "      <td>42365</td>\n",
       "      <td>42365</td>\n",
       "      <td>Mineral White Metallic</td>\n",
       "      <td>4.0</td>\n",
       "      <td>Gasoline</td>\n",
       "      <td>d89a15cdca79ae503de76eddef7794d483c737f96b3128...</td>\n",
       "    </tr>\n",
       "  </tbody>\n",
       "</table>\n",
       "<p>138318 rows × 11 columns</p>\n",
       "</div>"
      ],
      "text/plain": [
       "            brandName modelName  vf_ModelID  vf_ModelYear  mileage  askPrice  \\\n",
       "0                FORD    Taurus      1782.0        2015.0    67588     16462   \n",
       "1            CHRYSLER       300      1878.0        2017.0     9231     23962   \n",
       "2             LINCOLN       MKZ      1790.0        2016.0    19710     22962   \n",
       "3                FORD    Fiesta      3267.0        2011.0    92053      5962   \n",
       "4            INFINITI       G37      2337.0        2013.0    74917     13962   \n",
       "...               ...       ...         ...           ...      ...       ...   \n",
       "138313  MERCEDES-BENZ   C-Class      2085.0        2016.0    18322     23999   \n",
       "138314        LINCOLN  Town Car      1791.0        2004.0   135839      5900   \n",
       "138315      CHEVROLET     Cruze      1832.0        2011.0    98007      5950   \n",
       "138316          HONDA    Accord      1861.0        2015.0    44717     18500   \n",
       "138317            BMW      320i      2172.0        2018.0     4480     42365   \n",
       "\n",
       "         msrp                                 color  vf_EngineCylinders  \\\n",
       "0       16462                 Ingot Silver Metallic                 6.0   \n",
       "1       23962      Billet Silver Metallic Clearcoat                 6.0   \n",
       "2       22962      White Platinum Metallic Tri-Coat                 6.0   \n",
       "3        5962                                  Blue                 4.0   \n",
       "4       13962                           Vibrant Red                 6.0   \n",
       "...       ...                                   ...                 ...   \n",
       "138313  23999                           Polar White                 4.0   \n",
       "138314   5900  Medium Steel Blue Clearcoat Metallic                 8.0   \n",
       "138315   5950                Imperial Blue Metallic                 4.0   \n",
       "138316  18500                   Crystal Black Pearl                 4.0   \n",
       "138317  42365                Mineral White Metallic                 4.0   \n",
       "\n",
       "       vf_FuelTypePrimary                                                vin  \n",
       "0                Gasoline  85384fd9108f6e9c75d7a538e4ce8a892170f7dbf42264...  \n",
       "1                Gasoline  5c45a1254ea832cffc329eebf700acf918682c1b40f9a7...  \n",
       "2                Gasoline  95592374eecca29c4614b5987b760f9b528e6d3e33c2db...  \n",
       "3                Gasoline  5558ab8c6833c13904fa4a1fbd45c8d00d02f6db9e53fe...  \n",
       "4                Gasoline  10e990a77a9615aca1f0e2210513a289fe54a9175a522d...  \n",
       "...                   ...                                                ...  \n",
       "138313           Gasoline  a5edaa50f3a74293f38ba7611f5be5db8bede213acdf96...  \n",
       "138314           Gasoline  04a3a8af9f12eaa2b8466dd3588994cfbf333d30bf9eee...  \n",
       "138315           Gasoline  b31d181e2ba2f8a7b56a353a81a55951ad833ab2ea5180...  \n",
       "138316           Gasoline  6afcb285f492dcb542c720b50f8fa32e57d8fc43ea95b2...  \n",
       "138317           Gasoline  d89a15cdca79ae503de76eddef7794d483c737f96b3128...  \n",
       "\n",
       "[138318 rows x 11 columns]"
      ]
     },
     "execution_count": 34,
     "metadata": {},
     "output_type": "execute_result"
    }
   ],
   "source": [
    "df = pd.read_csv('csv/SEDAN_DATA_CLEAN.csv')\n",
    "df"
   ]
  },
  {
   "cell_type": "markdown",
   "id": "367df98a",
   "metadata": {},
   "source": [
    "df = df.rename(columns={\n",
    "    'brandName': 'brandName',\n",
    "    'modelName': 'modelName',\n",
    "    'vf_ModelID': 'modelID',\n",
    "    'vf_ModelYear': 'modelYear',\n",
    "    'mileage': 'mileage',\n",
    "    'askPrice': 'askPrice',\n",
    "    'msrp': 'msrp',\n",
    "    'color': 'color',\n",
    "    'vf_EngineCylinders': 'engineCylinders',\n",
    "    'vf_FuelTypePrimary': 'fuelTypePrimary',\n",
    "    'vin': 'vin'\n",
    "})"
   ]
  },
  {
   "cell_type": "code",
   "execution_count": 47,
   "id": "94324486",
   "metadata": {},
   "outputs": [],
   "source": [
    "def RF_regr_alldata(depth):\n",
    "    model_results = {}\n",
    "    train_score_list = []\n",
    "    test_score_list = []\n",
    "    df_test = df.drop(columns=['msrp','vin'])\n",
    "    #names for each DF/ Model to be trained\n",
    "\n",
    "\n",
    "    # divide the data\n",
    "    X = df_test.drop(columns=['askPrice'])\n",
    "    y = df_test['askPrice']\n",
    "\n",
    "    # set dummies\n",
    "    X_dummies = pd.get_dummies(X,drop_first=True)\n",
    "\n",
    "    # split for test and train\n",
    "    X_train, X_test, y_train, y_test = train_test_split(X_dummies, y, random_state=42)\n",
    "\n",
    "    # model parameters\n",
    "    model = RandomForestRegressor(max_depth=depth,n_estimators=100 random_state=12)\n",
    "\n",
    "    # fit the model to the data\n",
    "    model.fit(X_train, y_train)\n",
    "\n",
    "    # evaluate scores and predictions\n",
    "    train_predicted = model.predict(X_train)\n",
    "    test_predicted = model.predict(X_test)\n",
    "\n",
    "    train_score = model.score(X_train,y_train,sample_weight=None)\n",
    "    test_score = model.score(X_test,y_test,sample_weight=None)\n",
    "\n",
    "    # record results\n",
    "\n",
    "    model_results['model'] = model\n",
    "\n",
    "    model_results['train_y_pred'] = train_predicted\n",
    "    model_results['test_y_pred'] = test_predicted\n",
    "\n",
    "    model_results['train_score']  = train_score\n",
    "    model_results['test_score']  = test_score\n",
    "\n",
    "    train_score_list.append(train_score)\n",
    "    test_score_list.append(test_score)\n",
    "    return model_results, train_score_list, test_score_list"
   ]
  },
  {
   "cell_type": "code",
   "execution_count": 48,
   "id": "b5fda09a",
   "metadata": {},
   "outputs": [],
   "source": [
    "model_results, train_score_list, test_score_list = RF_regr_alldata(7)"
   ]
  },
  {
   "cell_type": "code",
   "execution_count": 49,
   "id": "dba9815d",
   "metadata": {
    "scrolled": true
   },
   "outputs": [
    {
     "data": {
      "text/plain": [
       "{'model': RandomForestRegressor(max_depth=4, n_estimators=300, random_state=12),\n",
       " 'train_y_pred': array([16830.73651763, 16830.73651763, 24626.31127783, ...,\n",
       "        16830.73651763, 16830.73651763, 12589.714009  ]),\n",
       " 'test_y_pred': array([19216.94316023,  9935.82836627,  8941.53607819, ...,\n",
       "        12586.76204345, 16830.73651763, 16830.73651763]),\n",
       " 'train_score': 0.6452143568065256,\n",
       " 'test_score': 0.6518323138989384}"
      ]
     },
     "execution_count": 49,
     "metadata": {},
     "output_type": "execute_result"
    }
   ],
   "source": [
    "model_results"
   ]
  },
  {
   "cell_type": "code",
   "execution_count": 45,
   "id": "e906f20f",
   "metadata": {},
   "outputs": [
    {
     "data": {
      "text/plain": [
       "['models/sedan_depth_7_81.joblib']"
      ]
     },
     "execution_count": 45,
     "metadata": {},
     "output_type": "execute_result"
    }
   ],
   "source": [
    "model = model_results['model']\n",
    "joblib.dump(model,'models/sedan_depth_7_81.joblib')"
   ]
  },
  {
   "cell_type": "code",
   "execution_count": 37,
   "id": "7751dac6",
   "metadata": {},
   "outputs": [],
   "source": [
    "model = joblib.load('models/sedan_depth_5_72.joblib')"
   ]
  },
  {
   "cell_type": "code",
   "execution_count": 39,
   "id": "1761b91d",
   "metadata": {},
   "outputs": [],
   "source": [
    "df_test = df.drop(columns=['msrp','vin'])\n",
    "\n",
    "\n",
    "X = df_test.drop(columns=['askPrice'])\n",
    "y = df_test['askPrice']\n",
    "\n",
    "# set dummies\n",
    "X_dummies = pd.get_dummies(X,drop_first=True)\n",
    "\n",
    "# split for test and train\n",
    "X_train, X_test, y_train, y_test = train_test_split(X_dummies, y, random_state=42)\n"
   ]
  },
  {
   "cell_type": "code",
   "execution_count": 40,
   "id": "a1a0fddb",
   "metadata": {},
   "outputs": [
    {
     "data": {
      "text/plain": [
       "array([17993.29477626,  8984.14488702,  9615.43675097, ...,\n",
       "       12685.99833404, 16205.13847434, 16205.13847434])"
      ]
     },
     "execution_count": 40,
     "metadata": {},
     "output_type": "execute_result"
    }
   ],
   "source": [
    "model.predict(X_test)"
   ]
  },
  {
   "cell_type": "code",
   "execution_count": 42,
   "id": "103ff025",
   "metadata": {},
   "outputs": [
    {
     "data": {
      "text/plain": [
       "array([17993.29477626,  8984.14488702,  9615.43675097, ...,\n",
       "       12685.99833404, 16205.13847434, 16205.13847434])"
      ]
     },
     "execution_count": 42,
     "metadata": {},
     "output_type": "execute_result"
    }
   ],
   "source": [
    "model_results['test_y_pred']"
   ]
  }
 ],
 "metadata": {
  "kernelspec": {
   "display_name": "Python 3",
   "language": "python",
   "name": "python3"
  },
  "language_info": {
   "codemirror_mode": {
    "name": "ipython",
    "version": 3
   },
   "file_extension": ".py",
   "mimetype": "text/x-python",
   "name": "python",
   "nbconvert_exporter": "python",
   "pygments_lexer": "ipython3",
   "version": "3.8.8"
  }
 },
 "nbformat": 4,
 "nbformat_minor": 5
}
